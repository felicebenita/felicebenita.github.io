{
 "cells": [
  {
   "cell_type": "markdown",
   "id": "7aa5bfc2",
   "metadata": {
    "papermill": {
     "duration": 0.015915,
     "end_time": "2022-11-09T16:25:00.068787",
     "exception": false,
     "start_time": "2022-11-09T16:25:00.052872",
     "status": "completed"
    },
    "tags": []
   },
   "source": [
    "# Amazon Top 50 Bestselling Books - EDA & Hypothesis Test"
   ]
  },
  {
   "cell_type": "markdown",
   "id": "11c25f01",
   "metadata": {
    "papermill": {
     "duration": 0.015954,
     "end_time": "2022-11-09T16:25:00.099819",
     "exception": false,
     "start_time": "2022-11-09T16:25:00.083865",
     "status": "completed"
    },
    "tags": []
   },
   "source": [
    "<div style=\"display:fill; padding:10px 15px;\n",
    "           border-radius:5px;\n",
    "           background-color:#EBEBD8;\n",
    "           letter-spacing:0.5px\"><span style=\"font-size:20px; color:#960; font-weight:bold\">1. Importing Datasets</span></div>"
   ]
  },
  {
   "cell_type": "code",
   "execution_count": 1,
   "id": "27d73f5b",
   "metadata": {
    "execution": {
     "iopub.execute_input": "2022-11-09T16:25:00.134639Z",
     "iopub.status.busy": "2022-11-09T16:25:00.134139Z",
     "iopub.status.idle": "2022-11-09T16:25:03.887897Z",
     "shell.execute_reply": "2022-11-09T16:25:03.886174Z"
    },
    "papermill": {
     "duration": 3.774332,
     "end_time": "2022-11-09T16:25:03.891081",
     "exception": false,
     "start_time": "2022-11-09T16:25:00.116749",
     "status": "completed"
    },
    "tags": []
   },
   "outputs": [
    {
     "name": "stderr",
     "output_type": "stream",
     "text": [
      "/opt/conda/lib/python3.7/site-packages/geopandas/_compat.py:115: UserWarning: The Shapely GEOS version (3.9.1-CAPI-1.14.2) is incompatible with the GEOS version PyGEOS was compiled with (3.10.3-CAPI-1.16.1). Conversions between both will be slow.\n",
      "  shapely_geos_version, geos_capi_version_string\n"
     ]
    }
   ],
   "source": [
    "# Import libraries\n",
    "import numpy as np\n",
    "import pandas as pd\n",
    "import fuzzywuzzy\n",
    "from fuzzywuzzy import process\n",
    "import collections\n",
    "import seaborn as sns\n",
    "import matplotlib.pyplot as plt\n",
    "from plotly.subplots import make_subplots\n",
    "import plotly.graph_objects as go\n",
    "import plotly.figure_factory as ff\n",
    "\n",
    "from scipy.stats import shapiro\n",
    "from scipy.stats import mannwhitneyu"
   ]
  },
  {
   "cell_type": "code",
   "execution_count": 2,
   "id": "37533799",
   "metadata": {
    "execution": {
     "iopub.execute_input": "2022-11-09T16:25:03.924419Z",
     "iopub.status.busy": "2022-11-09T16:25:03.923976Z",
     "iopub.status.idle": "2022-11-09T16:25:03.969220Z",
     "shell.execute_reply": "2022-11-09T16:25:03.967654Z"
    },
    "papermill": {
     "duration": 0.065542,
     "end_time": "2022-11-09T16:25:03.972061",
     "exception": false,
     "start_time": "2022-11-09T16:25:03.906519",
     "status": "completed"
    },
    "tags": []
   },
   "outputs": [
    {
     "data": {
      "text/html": [
       "<div>\n",
       "<style scoped>\n",
       "    .dataframe tbody tr th:only-of-type {\n",
       "        vertical-align: middle;\n",
       "    }\n",
       "\n",
       "    .dataframe tbody tr th {\n",
       "        vertical-align: top;\n",
       "    }\n",
       "\n",
       "    .dataframe thead th {\n",
       "        text-align: right;\n",
       "    }\n",
       "</style>\n",
       "<table border=\"1\" class=\"dataframe\">\n",
       "  <thead>\n",
       "    <tr style=\"text-align: right;\">\n",
       "      <th></th>\n",
       "      <th>Name</th>\n",
       "      <th>Author</th>\n",
       "      <th>User Rating</th>\n",
       "      <th>Reviews</th>\n",
       "      <th>Price</th>\n",
       "      <th>Year</th>\n",
       "      <th>Genre</th>\n",
       "    </tr>\n",
       "  </thead>\n",
       "  <tbody>\n",
       "    <tr>\n",
       "      <th>0</th>\n",
       "      <td>10-Day Green Smoothie Cleanse</td>\n",
       "      <td>JJ Smith</td>\n",
       "      <td>4.7</td>\n",
       "      <td>17350</td>\n",
       "      <td>8</td>\n",
       "      <td>2016</td>\n",
       "      <td>Non Fiction</td>\n",
       "    </tr>\n",
       "    <tr>\n",
       "      <th>1</th>\n",
       "      <td>11/22/63: A Novel</td>\n",
       "      <td>Stephen King</td>\n",
       "      <td>4.6</td>\n",
       "      <td>2052</td>\n",
       "      <td>22</td>\n",
       "      <td>2011</td>\n",
       "      <td>Fiction</td>\n",
       "    </tr>\n",
       "    <tr>\n",
       "      <th>2</th>\n",
       "      <td>12 Rules for Life: An Antidote to Chaos</td>\n",
       "      <td>Jordan B. Peterson</td>\n",
       "      <td>4.7</td>\n",
       "      <td>18979</td>\n",
       "      <td>15</td>\n",
       "      <td>2018</td>\n",
       "      <td>Non Fiction</td>\n",
       "    </tr>\n",
       "    <tr>\n",
       "      <th>3</th>\n",
       "      <td>1984 (Signet Classics)</td>\n",
       "      <td>George Orwell</td>\n",
       "      <td>4.7</td>\n",
       "      <td>21424</td>\n",
       "      <td>6</td>\n",
       "      <td>2017</td>\n",
       "      <td>Fiction</td>\n",
       "    </tr>\n",
       "    <tr>\n",
       "      <th>4</th>\n",
       "      <td>5,000 Awesome Facts (About Everything!) (Natio...</td>\n",
       "      <td>National Geographic Kids</td>\n",
       "      <td>4.8</td>\n",
       "      <td>7665</td>\n",
       "      <td>12</td>\n",
       "      <td>2019</td>\n",
       "      <td>Non Fiction</td>\n",
       "    </tr>\n",
       "  </tbody>\n",
       "</table>\n",
       "</div>"
      ],
      "text/plain": [
       "                                                Name  \\\n",
       "0                      10-Day Green Smoothie Cleanse   \n",
       "1                                  11/22/63: A Novel   \n",
       "2            12 Rules for Life: An Antidote to Chaos   \n",
       "3                             1984 (Signet Classics)   \n",
       "4  5,000 Awesome Facts (About Everything!) (Natio...   \n",
       "\n",
       "                     Author  User Rating  Reviews  Price  Year        Genre  \n",
       "0                  JJ Smith          4.7    17350      8  2016  Non Fiction  \n",
       "1              Stephen King          4.6     2052     22  2011      Fiction  \n",
       "2        Jordan B. Peterson          4.7    18979     15  2018  Non Fiction  \n",
       "3             George Orwell          4.7    21424      6  2017      Fiction  \n",
       "4  National Geographic Kids          4.8     7665     12  2019  Non Fiction  "
      ]
     },
     "execution_count": 2,
     "metadata": {},
     "output_type": "execute_result"
    }
   ],
   "source": [
    "# Reading data\n",
    "df = pd.read_csv('../input/amazon-top-50-bestselling-books-2009-2019/bestsellers with categories.csv') # Loading data\n",
    "df.head() # Displaying the first 5 lines of the dataset"
   ]
  },
  {
   "cell_type": "markdown",
   "id": "2fc57c36",
   "metadata": {
    "papermill": {
     "duration": 0.021305,
     "end_time": "2022-11-09T16:25:04.016324",
     "exception": false,
     "start_time": "2022-11-09T16:25:03.995019",
     "status": "completed"
    },
    "tags": []
   },
   "source": [
    "<div style=\"display:fill; padding:10px 15px;\n",
    "           border-radius:5px;\n",
    "           background-color:#EBEBD8;\n",
    "           letter-spacing:0.5px\"><span style=\"font-size:20px; color:#960; font-weight:bold\">2. Data Description</span></div>"
   ]
  },
  {
   "cell_type": "code",
   "execution_count": 3,
   "id": "12d6d1d5",
   "metadata": {
    "execution": {
     "iopub.execute_input": "2022-11-09T16:25:04.059653Z",
     "iopub.status.busy": "2022-11-09T16:25:04.058760Z",
     "iopub.status.idle": "2022-11-09T16:25:04.064741Z",
     "shell.execute_reply": "2022-11-09T16:25:04.063538Z"
    },
    "papermill": {
     "duration": 0.030015,
     "end_time": "2022-11-09T16:25:04.068235",
     "exception": false,
     "start_time": "2022-11-09T16:25:04.038220",
     "status": "completed"
    },
    "tags": []
   },
   "outputs": [
    {
     "name": "stdout",
     "output_type": "stream",
     "text": [
      "Data contain 550 records and 7 columns.\n"
     ]
    }
   ],
   "source": [
    "# Let's look at the dimension of the data\n",
    "print(f'Data contain {df.shape[0]} records and {df.shape[1]} columns.')"
   ]
  },
  {
   "cell_type": "code",
   "execution_count": 4,
   "id": "bda695b4",
   "metadata": {
    "execution": {
     "iopub.execute_input": "2022-11-09T16:25:04.107430Z",
     "iopub.status.busy": "2022-11-09T16:25:04.106971Z",
     "iopub.status.idle": "2022-11-09T16:25:04.133087Z",
     "shell.execute_reply": "2022-11-09T16:25:04.131977Z"
    },
    "papermill": {
     "duration": 0.048743,
     "end_time": "2022-11-09T16:25:04.136059",
     "exception": false,
     "start_time": "2022-11-09T16:25:04.087316",
     "status": "completed"
    },
    "tags": []
   },
   "outputs": [
    {
     "name": "stdout",
     "output_type": "stream",
     "text": [
      "<class 'pandas.core.frame.DataFrame'>\n",
      "RangeIndex: 550 entries, 0 to 549\n",
      "Data columns (total 7 columns):\n",
      " #   Column       Non-Null Count  Dtype  \n",
      "---  ------       --------------  -----  \n",
      " 0   Name         550 non-null    object \n",
      " 1   Author       550 non-null    object \n",
      " 2   User Rating  550 non-null    float64\n",
      " 3   Reviews      550 non-null    int64  \n",
      " 4   Price        550 non-null    int64  \n",
      " 5   Year         550 non-null    int64  \n",
      " 6   Genre        550 non-null    object \n",
      "dtypes: float64(1), int64(3), object(3)\n",
      "memory usage: 30.2+ KB\n"
     ]
    }
   ],
   "source": [
    "# Get concise summary of the dataframe\n",
    "df.info()"
   ]
  },
  {
   "cell_type": "code",
   "execution_count": 5,
   "id": "0ec4ff79",
   "metadata": {
    "execution": {
     "iopub.execute_input": "2022-11-09T16:25:04.169956Z",
     "iopub.status.busy": "2022-11-09T16:25:04.169602Z",
     "iopub.status.idle": "2022-11-09T16:25:04.177525Z",
     "shell.execute_reply": "2022-11-09T16:25:04.175274Z"
    },
    "papermill": {
     "duration": 0.027793,
     "end_time": "2022-11-09T16:25:04.180093",
     "exception": false,
     "start_time": "2022-11-09T16:25:04.152300",
     "status": "completed"
    },
    "tags": []
   },
   "outputs": [
    {
     "name": "stdout",
     "output_type": "stream",
     "text": [
      "Name            object\n",
      "Author          object\n",
      "User Rating    float64\n",
      "Reviews          int64\n",
      "Price            int64\n",
      "Year             int64\n",
      "Genre           object\n",
      "dtype: object\n"
     ]
    }
   ],
   "source": [
    "# Data type of each columns\n",
    "print(df.dtypes)"
   ]
  },
  {
   "cell_type": "markdown",
   "id": "5c95da04",
   "metadata": {
    "papermill": {
     "duration": 0.015605,
     "end_time": "2022-11-09T16:25:04.211892",
     "exception": false,
     "start_time": "2022-11-09T16:25:04.196287",
     "status": "completed"
    },
    "tags": []
   },
   "source": [
    "<div style=\"display:fill; padding:10px 15px;\n",
    "           border-radius:5px;\n",
    "           background-color:#EBEBD8;\n",
    "           letter-spacing:0.5px\"><span style=\"font-size:20px; color:#960; font-weight:bold\">3. Data Wrangling</span></div>"
   ]
  },
  {
   "cell_type": "code",
   "execution_count": 6,
   "id": "ed004539",
   "metadata": {
    "execution": {
     "iopub.execute_input": "2022-11-09T16:25:04.246252Z",
     "iopub.status.busy": "2022-11-09T16:25:04.245821Z",
     "iopub.status.idle": "2022-11-09T16:25:04.257077Z",
     "shell.execute_reply": "2022-11-09T16:25:04.255603Z"
    },
    "papermill": {
     "duration": 0.030625,
     "end_time": "2022-11-09T16:25:04.259196",
     "exception": false,
     "start_time": "2022-11-09T16:25:04.228571",
     "status": "completed"
    },
    "tags": []
   },
   "outputs": [
    {
     "data": {
      "text/plain": [
       "Name           0\n",
       "Author         0\n",
       "User Rating    0\n",
       "Reviews        0\n",
       "Price          0\n",
       "Year           0\n",
       "Genre          0\n",
       "dtype: int64"
      ]
     },
     "execution_count": 6,
     "metadata": {},
     "output_type": "execute_result"
    }
   ],
   "source": [
    "# Check missing values\n",
    "df.isnull().sum()"
   ]
  },
  {
   "cell_type": "markdown",
   "id": "571a1611",
   "metadata": {
    "papermill": {
     "duration": 0.015719,
     "end_time": "2022-11-09T16:25:04.291649",
     "exception": false,
     "start_time": "2022-11-09T16:25:04.275930",
     "status": "completed"
    },
    "tags": []
   },
   "source": [
    "> <span style=\"font-size:16px;\">The data has no missing values, so no further transformations are required.</span>"
   ]
  },
  {
   "cell_type": "code",
   "execution_count": 7,
   "id": "f2d09144",
   "metadata": {
    "execution": {
     "iopub.execute_input": "2022-11-09T16:25:04.326342Z",
     "iopub.status.busy": "2022-11-09T16:25:04.324693Z",
     "iopub.status.idle": "2022-11-09T16:25:04.336530Z",
     "shell.execute_reply": "2022-11-09T16:25:04.335601Z"
    },
    "papermill": {
     "duration": 0.030901,
     "end_time": "2022-11-09T16:25:04.338476",
     "exception": false,
     "start_time": "2022-11-09T16:25:04.307575",
     "status": "completed"
    },
    "tags": []
   },
   "outputs": [
    {
     "data": {
      "text/plain": [
       "0"
      ]
     },
     "execution_count": 7,
     "metadata": {},
     "output_type": "execute_result"
    }
   ],
   "source": [
    "# Check duplicate values\n",
    "df.duplicated().sum()"
   ]
  },
  {
   "cell_type": "markdown",
   "id": "06b45908",
   "metadata": {
    "papermill": {
     "duration": 0.016045,
     "end_time": "2022-11-09T16:25:04.370655",
     "exception": false,
     "start_time": "2022-11-09T16:25:04.354610",
     "status": "completed"
    },
    "tags": []
   },
   "source": [
    "> <span style=\"font-size:16px;\">The data has no duplicate values, so no further transformations are required.</span>"
   ]
  },
  {
   "cell_type": "code",
   "execution_count": 8,
   "id": "bcf6c7c3",
   "metadata": {
    "execution": {
     "iopub.execute_input": "2022-11-09T16:25:04.404821Z",
     "iopub.status.busy": "2022-11-09T16:25:04.404343Z",
     "iopub.status.idle": "2022-11-09T16:25:04.412278Z",
     "shell.execute_reply": "2022-11-09T16:25:04.410661Z"
    },
    "papermill": {
     "duration": 0.028573,
     "end_time": "2022-11-09T16:25:04.415288",
     "exception": false,
     "start_time": "2022-11-09T16:25:04.386715",
     "status": "completed"
    },
    "tags": []
   },
   "outputs": [
    {
     "name": "stdout",
     "output_type": "stream",
     "text": [
      "Categorical columns : Name, Author, Genre.\n"
     ]
    }
   ],
   "source": [
    "# Forming categorical columns\n",
    "cat_col = list(df.select_dtypes(exclude=('int', 'float')).columns)\n",
    "print(f'Categorical columns : {\", \".join(cat_col)}.')"
   ]
  },
  {
   "cell_type": "code",
   "execution_count": 9,
   "id": "10dcf2bc",
   "metadata": {
    "execution": {
     "iopub.execute_input": "2022-11-09T16:25:04.449582Z",
     "iopub.status.busy": "2022-11-09T16:25:04.449163Z",
     "iopub.status.idle": "2022-11-09T16:25:04.460179Z",
     "shell.execute_reply": "2022-11-09T16:25:04.458369Z"
    },
    "papermill": {
     "duration": 0.031011,
     "end_time": "2022-11-09T16:25:04.462558",
     "exception": false,
     "start_time": "2022-11-09T16:25:04.431547",
     "status": "completed"
    },
    "tags": []
   },
   "outputs": [
    {
     "name": "stdout",
     "output_type": "stream",
     "text": [
      "Actual Name: \"351\" - After Spell Check Name: \"350\"\n",
      "Actual Author: \"248\" - After Spell Check Author: \"248\"\n",
      "Actual Genre: \"2\" - After Spell Check Genre: \"2\"\n"
     ]
    }
   ],
   "source": [
    "# Check for spelling errors in entire dataset\n",
    "for col in cat_col:\n",
    "    print(f'Actual {col}: \"{len(set(df[col]))}\" - After Spell Check {col}: \"{len(set(df[col].str.title().str.strip()))}\"')"
   ]
  },
  {
   "cell_type": "code",
   "execution_count": 10,
   "id": "47626f2b",
   "metadata": {
    "execution": {
     "iopub.execute_input": "2022-11-09T16:25:04.496192Z",
     "iopub.status.busy": "2022-11-09T16:25:04.495788Z",
     "iopub.status.idle": "2022-11-09T16:25:04.502649Z",
     "shell.execute_reply": "2022-11-09T16:25:04.501447Z"
    },
    "papermill": {
     "duration": 0.026917,
     "end_time": "2022-11-09T16:25:04.505401",
     "exception": false,
     "start_time": "2022-11-09T16:25:04.478484",
     "status": "completed"
    },
    "tags": []
   },
   "outputs": [],
   "source": [
    "# Correct the errors\n",
    "df.Name = df.Name.str.title().str.strip()"
   ]
  },
  {
   "cell_type": "code",
   "execution_count": 11,
   "id": "27b7ac72",
   "metadata": {
    "execution": {
     "iopub.execute_input": "2022-11-09T16:25:04.539605Z",
     "iopub.status.busy": "2022-11-09T16:25:04.539226Z",
     "iopub.status.idle": "2022-11-09T16:25:04.552515Z",
     "shell.execute_reply": "2022-11-09T16:25:04.551045Z"
    },
    "papermill": {
     "duration": 0.033678,
     "end_time": "2022-11-09T16:25:04.555227",
     "exception": false,
     "start_time": "2022-11-09T16:25:04.521549",
     "status": "completed"
    },
    "tags": []
   },
   "outputs": [
    {
     "name": "stdout",
     "output_type": "stream",
     "text": [
      "Actual Name: \"350\" - After Spell Check Name: \"350\"\n",
      "Actual Author: \"248\" - After Spell Check Author: \"248\"\n",
      "Actual Genre: \"2\" - After Spell Check Genre: \"2\"\n"
     ]
    }
   ],
   "source": [
    "# Check if the changes have passed\n",
    "for col in cat_col:\n",
    "    print(f'Actual {col}: \"{len(set(df[col]))}\" - After Spell Check {col}: \"{len(set(df[col].str.title().str.strip()))}\"')"
   ]
  },
  {
   "cell_type": "markdown",
   "id": "314dc764",
   "metadata": {
    "papermill": {
     "duration": 0.015619,
     "end_time": "2022-11-09T16:25:04.587603",
     "exception": false,
     "start_time": "2022-11-09T16:25:04.571984",
     "status": "completed"
    },
    "tags": []
   },
   "source": [
    "<span style=\"font-size:16px;\">Let's check if there are the same author names but with different spellings.</span>"
   ]
  },
  {
   "cell_type": "code",
   "execution_count": 12,
   "id": "7707dec4",
   "metadata": {
    "execution": {
     "iopub.execute_input": "2022-11-09T16:25:04.621629Z",
     "iopub.status.busy": "2022-11-09T16:25:04.621279Z",
     "iopub.status.idle": "2022-11-09T16:25:04.629864Z",
     "shell.execute_reply": "2022-11-09T16:25:04.629157Z"
    },
    "papermill": {
     "duration": 0.028022,
     "end_time": "2022-11-09T16:25:04.631561",
     "exception": false,
     "start_time": "2022-11-09T16:25:04.603539",
     "status": "completed"
    },
    "tags": []
   },
   "outputs": [
    {
     "data": {
      "text/plain": [
       "array(['Abraham Verghese', 'Adam Gasiewski', 'Adam Mansbach', 'Adir Levy',\n",
       "       'Admiral William H. McRaven', 'Adult Coloring Book Designs',\n",
       "       'Alan Moore', 'Alex Michaelides', 'Alice Schertle', 'Allie Brosh',\n",
       "       'American Psychiatric Association',\n",
       "       'American Psychological Association', 'Amor Towles', 'Amy Ramos',\n",
       "       'Amy Shields', 'Andy Weir', 'Angie Grace', 'Angie Thomas',\n",
       "       'Ann Voskamp', 'Ann Whitford Paul', 'Anthony Bourdain',\n",
       "       'Anthony Doerr', 'Atul Gawande', 'Audrey Niffenegger',\n",
       "       'B. J. Novak', 'Bessel van der Kolk M.D.', 'Bill Martin Jr.',\n",
       "       \"Bill O'Reilly\", 'Bill Simmons', 'Blue Star Coloring',\n",
       "       'Bob Woodward', 'Brandon Stanton', 'Brené Brown',\n",
       "       'Brian Kilmeade', 'Bruce Springsteen', 'Carol S. Dweck',\n",
       "       'Celeste Ng', 'Charlaine Harris', 'Charles Duhigg',\n",
       "       'Charles Krauthammer', 'Cheryl Strayed', 'Chip Gaines',\n",
       "       'Chip Heath', 'Chris Cleave', 'Chris Kyle', 'Chrissy Teigen',\n",
       "       'Christina Baker Kline', 'Christopher Paolini',\n",
       "       'Coloring Books for Adults', 'Craig Smith', 'Crispin Boyer', 'DK',\n",
       "       'Dale Carnegie', 'Dan Brown', 'Daniel H. Pink',\n",
       "       'Daniel James Brown', 'Daniel Kahneman', 'Daniel Lipkowitz',\n",
       "       'Dav Pilkey', 'Dave Ramsey', 'David Goggins', 'David Grann',\n",
       "       'David McCullough', 'David Perlmutter MD', 'David Platt',\n",
       "       'David Zinczenko', 'Deborah Diesen',\n",
       "       'Delegates of the Constitutional\\x85', 'Delia Owens',\n",
       "       'Dinah Bucholz', 'Don Miguel Ruiz', 'Donna Tartt', 'Doug Lemov',\n",
       "       'Dr. Seuss', 'Dr. Steven R Gundry MD', 'Drew Daywalt', 'E L James',\n",
       "       'Eben Alexander', 'Edward Klein', 'Edward M. Kennedy',\n",
       "       'Elie Wiesel', 'Elizabeth Strout', 'Emily Winfield Martin',\n",
       "       'Eric Carle', 'Eric Larson', 'Ernest Cline', 'F. A. Hayek',\n",
       "       'F. Scott Fitzgerald', 'Francis Chan', 'Fredrik Backman', 'Gallup',\n",
       "       'Garth Stein', 'Gary Chapman', 'Gayle Forman', 'Geneen Roth',\n",
       "       'George Orwell', 'George R. R. Martin', 'George R.R. Martin',\n",
       "       'George W. Bush', 'Giles Andreae', 'Gillian Flynn', 'Glenn Beck',\n",
       "       'Golden Books', 'Greg Mortenson', 'Harper Lee', 'Heidi Murkoff',\n",
       "       'Hillary Rodham Clinton', 'Hopscotch Girls', 'Howard Stern',\n",
       "       'Ian K. Smith M.D.', 'Ina Garten', 'J. D. Vance', 'J. K. Rowling',\n",
       "       'J.K. Rowling', 'JJ Smith', 'James Comey', 'James Dashner',\n",
       "       'James Patterson', 'Jay Asher', 'Jaycee Dugard', 'Jeff Kinney',\n",
       "       'Jen Sincero', 'Jennifer Smith', 'Jill Twiss', 'Jim Collins',\n",
       "       'Joanna Gaines', 'Joel Fuhrman MD', 'Johanna Basford',\n",
       "       'John Green', 'John Grisham', 'John Heilemann', 'Jon Meacham',\n",
       "       'Jon Stewart', 'Jonathan Cahn', 'Jordan B. Peterson',\n",
       "       'Julia Child', 'Justin Halpern', 'Kathryn Stockett',\n",
       "       'Keith Richards', 'Ken Follett', 'Kevin Kwan', 'Khaled Hosseini',\n",
       "       'Kristin Hannah', 'Larry Schweikart', 'Laura Hillenbrand',\n",
       "       'Laurel Randolph', 'Lin-Manuel Miranda', 'Lysa TerKeurst',\n",
       "       'M Prefontaine', \"Madeleine L'Engle\", 'Malcolm Gladwell',\n",
       "       'Margaret Atwood', 'Margaret Wise Brown', 'Marie Kondō',\n",
       "       'Marjorie Sarnat', 'Mark Hyman M.D.', 'Mark Manson', 'Mark Owen',\n",
       "       'Mark R. Levin', 'Mark Twain', 'Markus Zusak', 'Marty Noble',\n",
       "       'Mary Ann Shaffer', 'Maurice Sendak', 'Melissa Hartwig Urban',\n",
       "       'Michael Lewis', 'Michael Pollan', 'Michael Wolff',\n",
       "       'Michelle Obama', 'Mike Moreno', 'Mitch Albom', 'Muriel Barbery',\n",
       "       'Naomi Kleinberg', 'Nathan W. Pyle', 'National Geographic Kids',\n",
       "       'Neil deGrasse Tyson', 'Paper Peony Press', 'Patrick Lencioni',\n",
       "       'Patrick Thorpe', 'Paul Kalanithi', 'Paula Hawkins',\n",
       "       'Paula McLain', 'Paulo Coelho', 'Pete Souza', 'Peter A. Lillback',\n",
       "       'Phil Robertson', 'Pierre Dukan', 'Pretty Simple Press',\n",
       "       'R. J. Palacio', 'RH Disney', 'Rachel Hollis', 'Raina Telgemeier',\n",
       "       'Randall Munroe', 'Randy Pausch', 'Ray Bradbury', 'Rebecca Skloot',\n",
       "       'Ree Drummond', 'Rick Riordan', 'Rob Bell', 'Rob Elliott',\n",
       "       'Robert Jordan', 'Robert Munsch', 'Rod Campbell', 'Roger Priddy',\n",
       "       'Ron Chernow', 'Rupi Kaur', 'Rush Limbaugh', 'Samin Nosrat',\n",
       "       'Sandra Boynton', 'Sara Gruen', 'Sarah Palin', 'Sarah Young',\n",
       "       \"Sasha O'Hara\", 'Scholastic', 'School Zone',\n",
       "       'Sherri Duskey Rinker', 'Sheryl Sandberg', 'Silly Bear',\n",
       "       'Stephen Kendrick', 'Stephen King', 'Stephen R. Covey',\n",
       "       'Stephenie Meyer', 'Steve Harvey', 'Steven D. Levitt',\n",
       "       'Stieg Larsson', 'Susan Cain', 'Suzanne Collins',\n",
       "       'Ta-Nehisi Coates', 'Tara Westover', 'Tatiana de Rosnay',\n",
       "       'The College Board', 'The Staff of The Late Show with\\x85',\n",
       "       'The Washington Post', 'Thomas Campbell', 'Thomas Piketty',\n",
       "       'Thug Kitchen', 'Timothy Ferriss', 'Tina Fey', 'Todd Burpo',\n",
       "       'Tony Hsieh', 'Tucker Carlson', 'Veronica Roth',\n",
       "       'W. Cleon Skousen', 'Walter Isaacson', 'William Davis',\n",
       "       'William P. Young', 'Wizards RPG Team', 'Zhi Gang Sha'],\n",
       "      dtype=object)"
      ]
     },
     "execution_count": 12,
     "metadata": {},
     "output_type": "execute_result"
    }
   ],
   "source": [
    "# Check for spelling errors in Author column\n",
    "authors = df.Author.sort_values().unique()\n",
    "authors"
   ]
  },
  {
   "cell_type": "markdown",
   "id": "bc93d5e1",
   "metadata": {
    "papermill": {
     "duration": 0.016423,
     "end_time": "2022-11-09T16:25:04.664083",
     "exception": false,
     "start_time": "2022-11-09T16:25:04.647660",
     "status": "completed"
    },
    "tags": []
   },
   "source": [
    "> <span style=\"font-size:16px;\">Observe that names with initial have a tendency to be in different varaiations.\n",
    "> George R. R. Martin and J. K. Rowling fall into this category.</span>"
   ]
  },
  {
   "cell_type": "code",
   "execution_count": 13,
   "id": "fc89e26f",
   "metadata": {
    "execution": {
     "iopub.execute_input": "2022-11-09T16:25:04.699647Z",
     "iopub.status.busy": "2022-11-09T16:25:04.698671Z",
     "iopub.status.idle": "2022-11-09T16:25:04.714852Z",
     "shell.execute_reply": "2022-11-09T16:25:04.713942Z"
    },
    "papermill": {
     "duration": 0.036265,
     "end_time": "2022-11-09T16:25:04.717550",
     "exception": false,
     "start_time": "2022-11-09T16:25:04.681285",
     "status": "completed"
    },
    "tags": []
   },
   "outputs": [
    {
     "data": {
      "text/plain": [
       "[('George R. R. Martin', 100),\n",
       " ('George R.R. Martin', 100),\n",
       " ('George Orwell', 53),\n",
       " ('Bill Martin Jr.', 52)]"
      ]
     },
     "execution_count": 13,
     "metadata": {},
     "output_type": "execute_result"
    }
   ],
   "source": [
    "# Let's build a list of the most similar spellings for the first Author with this error\n",
    "matches_author_name = fuzzywuzzy.process.extract('George R.R. Martin', authors, limit=4, scorer=fuzzywuzzy.fuzz.token_sort_ratio)\n",
    "matches_author_name"
   ]
  },
  {
   "cell_type": "code",
   "execution_count": 14,
   "id": "ce89e629",
   "metadata": {
    "execution": {
     "iopub.execute_input": "2022-11-09T16:25:04.753530Z",
     "iopub.status.busy": "2022-11-09T16:25:04.753124Z",
     "iopub.status.idle": "2022-11-09T16:25:04.763793Z",
     "shell.execute_reply": "2022-11-09T16:25:04.762388Z"
    },
    "papermill": {
     "duration": 0.031782,
     "end_time": "2022-11-09T16:25:04.766400",
     "exception": false,
     "start_time": "2022-11-09T16:25:04.734618",
     "status": "completed"
    },
    "tags": []
   },
   "outputs": [
    {
     "data": {
      "text/plain": [
       "[('J. K. Rowling', 100),\n",
       " ('J.K. Rowling', 100),\n",
       " ('Mark Owen', 50),\n",
       " ('Mark Twain', 48)]"
      ]
     },
     "execution_count": 14,
     "metadata": {},
     "output_type": "execute_result"
    }
   ],
   "source": [
    "# Let's build a list of the most similar spellings for the second Author with this error\n",
    "matches_author_name = fuzzywuzzy.process.extract('J. K. Rowling', authors, limit=4, scorer=fuzzywuzzy.fuzz.token_sort_ratio)\n",
    "matches_author_name"
   ]
  },
  {
   "cell_type": "code",
   "execution_count": 15,
   "id": "56030bd0",
   "metadata": {
    "execution": {
     "iopub.execute_input": "2022-11-09T16:25:04.802202Z",
     "iopub.status.busy": "2022-11-09T16:25:04.801820Z",
     "iopub.status.idle": "2022-11-09T16:25:04.808913Z",
     "shell.execute_reply": "2022-11-09T16:25:04.807641Z"
    },
    "papermill": {
     "duration": 0.028106,
     "end_time": "2022-11-09T16:25:04.811502",
     "exception": false,
     "start_time": "2022-11-09T16:25:04.783396",
     "status": "completed"
    },
    "tags": []
   },
   "outputs": [],
   "source": [
    "# Replace the names of the Authors with the correct ones\n",
    "df = df.replace('George R. R. Martin', 'George R.R. Martin')\n",
    "df = df.replace('J. K. Rowling', 'J.K. Rowling')"
   ]
  },
  {
   "cell_type": "code",
   "execution_count": 16,
   "id": "9d7192b4",
   "metadata": {
    "execution": {
     "iopub.execute_input": "2022-11-09T16:25:04.847034Z",
     "iopub.status.busy": "2022-11-09T16:25:04.846668Z",
     "iopub.status.idle": "2022-11-09T16:25:04.855627Z",
     "shell.execute_reply": "2022-11-09T16:25:04.854516Z"
    },
    "papermill": {
     "duration": 0.029241,
     "end_time": "2022-11-09T16:25:04.857644",
     "exception": false,
     "start_time": "2022-11-09T16:25:04.828403",
     "status": "completed"
    },
    "tags": []
   },
   "outputs": [
    {
     "name": "stdout",
     "output_type": "stream",
     "text": [
      "Before Name: 350 After Name: 350\n",
      "Before Author: 246 After Author: 246\n",
      "Before Genre: 2 After Genre: 2\n"
     ]
    }
   ],
   "source": [
    "# Check if the changes have passed\n",
    "for col in cat_col:\n",
    "    print(f'Before {col}: {len(set(df[col]))} After {col}: {len(set(df[col].str.title().str.strip()))}')"
   ]
  },
  {
   "cell_type": "code",
   "execution_count": 17,
   "id": "830ab4dd",
   "metadata": {
    "execution": {
     "iopub.execute_input": "2022-11-09T16:25:04.893542Z",
     "iopub.status.busy": "2022-11-09T16:25:04.893149Z",
     "iopub.status.idle": "2022-11-09T16:25:04.899784Z",
     "shell.execute_reply": "2022-11-09T16:25:04.898657Z"
    },
    "papermill": {
     "duration": 0.026887,
     "end_time": "2022-11-09T16:25:04.901632",
     "exception": false,
     "start_time": "2022-11-09T16:25:04.874745",
     "status": "completed"
    },
    "tags": []
   },
   "outputs": [
    {
     "data": {
      "text/plain": [
       "array(['Non Fiction', 'Fiction'], dtype=object)"
      ]
     },
     "execution_count": 17,
     "metadata": {},
     "output_type": "execute_result"
    }
   ],
   "source": [
    "# Check the column Genre\n",
    "genre = df.Genre.unique()\n",
    "genre"
   ]
  },
  {
   "cell_type": "markdown",
   "id": "3676f4ae",
   "metadata": {
    "papermill": {
     "duration": 0.016606,
     "end_time": "2022-11-09T16:25:04.935210",
     "exception": false,
     "start_time": "2022-11-09T16:25:04.918604",
     "status": "completed"
    },
    "tags": []
   },
   "source": [
    "> <span style=\"font-size:16px;\">Everything is fine with genres.</span>"
   ]
  },
  {
   "cell_type": "code",
   "execution_count": 18,
   "id": "dfec8e8f",
   "metadata": {
    "execution": {
     "iopub.execute_input": "2022-11-09T16:25:04.970597Z",
     "iopub.status.busy": "2022-11-09T16:25:04.970155Z",
     "iopub.status.idle": "2022-11-09T16:25:04.979196Z",
     "shell.execute_reply": "2022-11-09T16:25:04.978168Z"
    },
    "papermill": {
     "duration": 0.029359,
     "end_time": "2022-11-09T16:25:04.981280",
     "exception": false,
     "start_time": "2022-11-09T16:25:04.951921",
     "status": "completed"
    },
    "tags": []
   },
   "outputs": [
    {
     "data": {
      "text/plain": [
       "[2009, 2010, 2011, 2012, 2013, 2014, 2015, 2016, 2017, 2018, 2019]"
      ]
     },
     "execution_count": 18,
     "metadata": {},
     "output_type": "execute_result"
    }
   ],
   "source": [
    "# Check the column Year\n",
    "years = list(df.Year.unique())\n",
    "sorted(years)"
   ]
  },
  {
   "cell_type": "markdown",
   "id": "6b4455e5",
   "metadata": {
    "papermill": {
     "duration": 0.016978,
     "end_time": "2022-11-09T16:25:05.015275",
     "exception": false,
     "start_time": "2022-11-09T16:25:04.998297",
     "status": "completed"
    },
    "tags": []
   },
   "source": [
    "> <span style=\"font-size:16px;\">Everything is fine with years.</span>"
   ]
  },
  {
   "cell_type": "markdown",
   "id": "a6629cb1",
   "metadata": {
    "papermill": {
     "duration": 0.016569,
     "end_time": "2022-11-09T16:25:05.048778",
     "exception": false,
     "start_time": "2022-11-09T16:25:05.032209",
     "status": "completed"
    },
    "tags": []
   },
   "source": [
    "<div style=\"display:fill; padding:10px 15px;\n",
    "           border-radius:5px;\n",
    "           background-color:#EBEBD8;\n",
    "           letter-spacing:0.5px\"><span style=\"font-size:20px; color:#960; font-weight:bold\">4. Exploratory Data Analysis (EDA)</span></div>"
   ]
  },
  {
   "cell_type": "markdown",
   "id": "a8651b5e",
   "metadata": {
    "papermill": {
     "duration": 0.016633,
     "end_time": "2022-11-09T16:25:05.083708",
     "exception": false,
     "start_time": "2022-11-09T16:25:05.067075",
     "status": "completed"
    },
    "tags": []
   },
   "source": [
    "<span style=\"padding-left:17px; font-size:18px; color:#339; font-weight:bold\">4.1. Genre Distribution</span>"
   ]
  },
  {
   "cell_type": "code",
   "execution_count": 19,
   "id": "4812c99f",
   "metadata": {
    "execution": {
     "iopub.execute_input": "2022-11-09T16:25:05.120672Z",
     "iopub.status.busy": "2022-11-09T16:25:05.120315Z",
     "iopub.status.idle": "2022-11-09T16:25:05.422482Z",
     "shell.execute_reply": "2022-11-09T16:25:05.421682Z"
    },
    "papermill": {
     "duration": 0.323053,
     "end_time": "2022-11-09T16:25:05.424417",
     "exception": false,
     "start_time": "2022-11-09T16:25:05.101364",
     "status": "completed"
    },
    "tags": []
   },
   "outputs": [
    {
     "data": {
      "text/plain": [
       "Non Fiction    310\n",
       "Fiction        240\n",
       "Name: Genre, dtype: int64"
      ]
     },
     "execution_count": 19,
     "metadata": {},
     "output_type": "execute_result"
    },
    {
     "data": {
      "image/png": "[encoded data removed]",
      "text/plain": [
       "<Figure size 432x288 with 1 Axes>"
      ]
     },
     "metadata": {},
     "output_type": "display_data"
    }
   ],
   "source": [
    "# Genre distribution\n",
    "colors = ['#aaa662','#9a0eea']\n",
    "plt.pie(df['Genre'].value_counts(), autopct = '%1.2f%%', labels = df['Genre'].value_counts().index, colors=colors)\n",
    "plt.title('Genre Distribution');\n",
    "df['Genre'].value_counts()"
   ]
  },
  {
   "cell_type": "markdown",
   "id": "e66debb1",
   "metadata": {
    "papermill": {
     "duration": 0.016837,
     "end_time": "2022-11-09T16:25:05.458613",
     "exception": false,
     "start_time": "2022-11-09T16:25:05.441776",
     "status": "completed"
    },
    "tags": []
   },
   "source": [
    "<span style=\"font-size:16px; font-weight:bold\">✔️ INSIGHT:</span>\n",
    "<span style=\"font-size:16px;\">By analyzing the genre distribution, Non-fiction is more likely to become a bestseller. Later we will find out how users relate to these genres.</span>"
   ]
  },
  {
   "cell_type": "markdown",
   "id": "52a2018d",
   "metadata": {
    "papermill": {
     "duration": 0.016595,
     "end_time": "2022-11-09T16:25:05.492154",
     "exception": false,
     "start_time": "2022-11-09T16:25:05.475559",
     "status": "completed"
    },
    "tags": []
   },
   "source": [
    "<span style=\"padding-left:17px; font-size:18px; color:#339; font-weight:bold\">4.2. Trends & Outliers</span>"
   ]
  },
  {
   "cell_type": "markdown",
   "id": "d09cafdc",
   "metadata": {
    "papermill": {
     "duration": 0.016536,
     "end_time": "2022-11-09T16:25:05.525583",
     "exception": false,
     "start_time": "2022-11-09T16:25:05.509047",
     "status": "completed"
    },
    "tags": []
   },
   "source": [
    "<span style=\"font-size:16px;\">Let's look at the measures of the central trend that characterize the distribution of numerical values in the data. We render a box-plot for each numeric variable.</span>"
   ]
  },
  {
   "cell_type": "code",
   "execution_count": 20,
   "id": "1baf10a7",
   "metadata": {
    "execution": {
     "iopub.execute_input": "2022-11-09T16:25:05.562038Z",
     "iopub.status.busy": "2022-11-09T16:25:05.560814Z",
     "iopub.status.idle": "2022-11-09T16:25:05.588065Z",
     "shell.execute_reply": "2022-11-09T16:25:05.586602Z"
    },
    "papermill": {
     "duration": 0.047738,
     "end_time": "2022-11-09T16:25:05.590129",
     "exception": false,
     "start_time": "2022-11-09T16:25:05.542391",
     "status": "completed"
    },
    "tags": []
   },
   "outputs": [
    {
     "data": {
      "text/html": [
       "<div>\n",
       "<style scoped>\n",
       "    .dataframe tbody tr th:only-of-type {\n",
       "        vertical-align: middle;\n",
       "    }\n",
       "\n",
       "    .dataframe tbody tr th {\n",
       "        vertical-align: top;\n",
       "    }\n",
       "\n",
       "    .dataframe thead th {\n",
       "        text-align: right;\n",
       "    }\n",
       "</style>\n",
       "<table border=\"1\" class=\"dataframe\">\n",
       "  <thead>\n",
       "    <tr style=\"text-align: right;\">\n",
       "      <th></th>\n",
       "      <th>User Rating</th>\n",
       "      <th>Reviews</th>\n",
       "      <th>Price</th>\n",
       "      <th>Year</th>\n",
       "    </tr>\n",
       "  </thead>\n",
       "  <tbody>\n",
       "    <tr>\n",
       "      <th>count</th>\n",
       "      <td>550.000000</td>\n",
       "      <td>550.000000</td>\n",
       "      <td>550.000000</td>\n",
       "      <td>550.000000</td>\n",
       "    </tr>\n",
       "    <tr>\n",
       "      <th>mean</th>\n",
       "      <td>4.618364</td>\n",
       "      <td>11953.281818</td>\n",
       "      <td>13.100000</td>\n",
       "      <td>2014.000000</td>\n",
       "    </tr>\n",
       "    <tr>\n",
       "      <th>std</th>\n",
       "      <td>0.226980</td>\n",
       "      <td>11731.132017</td>\n",
       "      <td>10.842262</td>\n",
       "      <td>3.165156</td>\n",
       "    </tr>\n",
       "    <tr>\n",
       "      <th>min</th>\n",
       "      <td>3.300000</td>\n",
       "      <td>37.000000</td>\n",
       "      <td>0.000000</td>\n",
       "      <td>2009.000000</td>\n",
       "    </tr>\n",
       "    <tr>\n",
       "      <th>25%</th>\n",
       "      <td>4.500000</td>\n",
       "      <td>4058.000000</td>\n",
       "      <td>7.000000</td>\n",
       "      <td>2011.000000</td>\n",
       "    </tr>\n",
       "    <tr>\n",
       "      <th>50%</th>\n",
       "      <td>4.700000</td>\n",
       "      <td>8580.000000</td>\n",
       "      <td>11.000000</td>\n",
       "      <td>2014.000000</td>\n",
       "    </tr>\n",
       "    <tr>\n",
       "      <th>75%</th>\n",
       "      <td>4.800000</td>\n",
       "      <td>17253.250000</td>\n",
       "      <td>16.000000</td>\n",
       "      <td>2017.000000</td>\n",
       "    </tr>\n",
       "    <tr>\n",
       "      <th>max</th>\n",
       "      <td>4.900000</td>\n",
       "      <td>87841.000000</td>\n",
       "      <td>105.000000</td>\n",
       "      <td>2019.000000</td>\n",
       "    </tr>\n",
       "  </tbody>\n",
       "</table>\n",
       "</div>"
      ],
      "text/plain": [
       "       User Rating       Reviews       Price         Year\n",
       "count   550.000000    550.000000  550.000000   550.000000\n",
       "mean      4.618364  11953.281818   13.100000  2014.000000\n",
       "std       0.226980  11731.132017   10.842262     3.165156\n",
       "min       3.300000     37.000000    0.000000  2009.000000\n",
       "25%       4.500000   4058.000000    7.000000  2011.000000\n",
       "50%       4.700000   8580.000000   11.000000  2014.000000\n",
       "75%       4.800000  17253.250000   16.000000  2017.000000\n",
       "max       4.900000  87841.000000  105.000000  2019.000000"
      ]
     },
     "execution_count": 20,
     "metadata": {},
     "output_type": "execute_result"
    }
   ],
   "source": [
    "# Display summary statistical\n",
    "df.describe()"
   ]
  },
  {
   "cell_type": "markdown",
   "id": "b08c8ebe",
   "metadata": {
    "papermill": {
     "duration": 0.017226,
     "end_time": "2022-11-09T16:25:05.624531",
     "exception": false,
     "start_time": "2022-11-09T16:25:05.607305",
     "status": "completed"
    },
    "tags": []
   },
   "source": [
    "<span style=\"padding-left:20px; font-size:18px; color:#339; font-weight:bold\">4.2.1 User Rating Trends & Outliers</span>"
   ]
  },
  {
   "cell_type": "code",
   "execution_count": 21,
   "id": "7ba58e67",
   "metadata": {
    "execution": {
     "iopub.execute_input": "2022-11-09T16:25:05.663059Z",
     "iopub.status.busy": "2022-11-09T16:25:05.661889Z",
     "iopub.status.idle": "2022-11-09T16:25:06.803062Z",
     "shell.execute_reply": "2022-11-09T16:25:06.801187Z"
    },
    "papermill": {
     "duration": 1.163458,
     "end_time": "2022-11-09T16:25:06.805759",
     "exception": false,
     "start_time": "2022-11-09T16:25:05.642301",
     "status": "completed"
    },
    "tags": []
   },
   "outputs": [
    {
     "data": {
      "text/html": [
       "        <script type=\"text/javascript\">\n",
       "        window.PlotlyConfig = {MathJaxConfig: 'local'};\n",
       "        if (window.MathJax && window.MathJax.Hub && window.MathJax.Hub.Config) {window.MathJax.Hub.Config({SVG: {font: \"STIX-Web\"}});}\n",
       "        if (typeof require !== 'undefined') {\n",
       "        require.undef(\"plotly\");\n",
       "        requirejs.config({\n",
       "            paths: {\n",
       "                'plotly': ['https://cdn.plot.ly/plotly-2.14.0.min']\n",
       "            }\n",
       "        });\n",
       "        require(['plotly'], function(Plotly) {\n",
       "            window._Plotly = Plotly;\n",
       "        });\n",
       "        }\n",
       "        </script>\n",
       "        "
      ]
     },
     "metadata": {},
     "output_type": "display_data"
    },
    {
     "data": {
      "text/html": [
       "<div>                            <div id=\"bddb6c09-3074-499e-a32a-621a993f8919\" class=\"plotly-graph-div\" style=\"height:525px; width:100%;\"></div>            <script type=\"text/javascript\">                require([\"plotly\"], function(Plotly) {                    window.PLOTLYENV=window.PLOTLYENV || {};                                    if (document.getElementById(\"bddb6c09-3074-499e-a32a-621a993f8919\")) {                    Plotly.newPlot(                        \"bddb6c09-3074-499e-a32a-621a993f8919\",                        [{\"name\":\"User Rating\",\"x\":[4.7,4.6,4.7,4.7,4.8,4.4,4.7,4.7,4.7,4.6,4.6,4.6,4.6,4.5,4.6,4.5,4.6,4.4,4.5,4.8,4.6,4.6,3.9,4.6,4.3,4.6,4.7,4.2,4.6,4.6,4.8,4.7,4.8,4.8,4.8,4.7,4.7,4.7,4.6,4.5,4.9,4.9,4.8,4.6,4.8,4.5,4.7,4.7,4.7,4.7,4.7,4.7,4.7,4.3,4.8,4.8,4.6,4.6,4.8,4.4,4.6,4.3,4.2,4.8,4.8,4.8,4.8,4.6,4.6,4.5,4.5,4.8,4.8,4.8,4.6,4.6,4.6,4.5,4.6,4.7,4.8,4.9,4.9,4.9,4.9,4.9,4.9,4.9,4.8,4.6,4.5,4.5,4.3,4.5,4.5,4.7,4.7,4.7,4.7,4.7,4.6,4.6,4.7,4.4,4.4,4.5,3.8,3.8,4.5,4.2,4.7,4.7,4.7,4.7,4.7,4.4,4.7,4.4,4.6,4.6,4.6,4.5,4.6,4.8,4.8,4.8,4.8,4.8,4.6,4.6,4.6,4.6,3.6,4.8,4.6,4.0,4.0,4.0,4.6,4.5,4.5,4.5,4.5,4.8,4.8,4.8,4.9,4.9,4.6,4.4,4.8,4.9,4.8,4.9,4.0,4.9,4.9,4.9,4.7,4.8,4.8,4.7,4.7,4.4,4.4,4.8,4.7,4.7,4.7,4.7,4.7,4.3,4.8,4.8,4.9,4.7,4.8,4.6,4.8,4.8,4.3,4.4,4.1,4.6,4.4,4.4,4.8,4.9,4.9,4.9,4.9,4.9,4.9,4.6,4.5,4.6,4.5,4.6,4.7,4.7,4.6,4.6,4.8,4.8,4.5,4.5,4.5,4.9,4.6,4.6,4.6,4.6,4.6,4.5,4.5,4.4,4.8,4.5,4.1,4.9,4.5,4.5,4.2,4.8,4.8,4.8,4.5,4.7,4.8,4.7,4.7,4.7,4.4,4.6,4.6,4.6,4.5,4.5,4.5,4.8,4.8,4.6,4.7,4.6,4.9,4.9,4.9,4.9,4.9,4.9,4.9,4.9,4.9,4.8,4.2,4.6,4.6,4.5,4.3,4.6,4.6,4.6,4.7,4.7,4.8,4.8,4.8,4.8,4.7,4.3,4.3,4.5,4.5,4.5,4.5,4.5,4.5,4.5,4.5,4.5,4.5,4.8,4.6,4.6,4.7,4.7,4.6,4.6,4.9,4.9,4.8,4.8,4.6,4.8,4.8,4.7,4.7,4.8,4.1,4.7,4.6,4.6,4.6,4.9,4.0,4.0,4.0,4.0,4.0,4.0,4.0,4.0,4.0,4.5,4.6,4.5,4.4,4.4,4.3,4.3,4.7,4.7,4.7,4.7,4.7,4.8,4.8,4.8,4.8,4.8,4.8,4.6,4.6,4.6,4.6,4.7,4.7,4.7,4.7,4.6,4.7,4.7,4.7,4.8,4.2,4.8,4.7,4.6,4.6,4.8,4.8,4.8,4.8,3.3,4.7,4.3,4.3,4.3,4.8,4.4,4.8,4.8,4.8,4.1,4.0,4.7,4.7,4.7,4.7,4.6,4.6,4.6,4.6,4.6,4.6,4.7,4.7,4.7,4.7,4.7,4.7,4.8,4.1,4.1,4.7,4.7,4.7,4.7,4.4,4.4,4.8,4.8,3.9,3.9,4.4,4.4,4.4,4.5,4.7,4.3,4.6,4.8,4.8,4.8,4.8,4.8,4.8,4.7,4.7,4.7,4.8,4.8,4.7,4.7,4.7,4.3,4.3,4.7,4.8,4.8,4.9,4.4,4.4,4.5,4.5,4.5,4.5,4.4,4.8,4.2,4.8,4.9,4.8,4.7,4.5,4.8,4.6,4.8,4.8,4.4,4.4,4.4,4.4,4.4,4.3,4.3,4.8,4.8,4.8,4.5,4.4,4.8,4.8,4.6,4.3,4.3,4.6,4.6,4.8,4.6,4.6,4.6,4.5,4.8,4.6,4.6,4.6,4.7,4.7,4.7,4.4,4.4,4.7,4.7,4.8,4.7,4.9,4.9,4.9,4.9,4.9,4.9,4.9,4.6,4.6,4.6,4.9,4.9,4.9,4.9,4.8,4.8,4.7,4.7,4.6,4.6,4.5,4.5,4.3,4.3,4.6,4.6,4.6,4.6,4.3,4.8,4.8,4.8,4.8,4.8,4.6,4.8,4.5,4.7,4.5,4.8,4.8,4.8,4.8,4.8,4.3,4.9,4.8,4.7,4.8,4.5,4.6,4.7,4.7,4.8,4.4,4.4,4.4,4.8,4.8,4.8,4.6,4.4,4.5,4.2,4.8,4.8,4.8,4.8,4.8,4.9,4.7,4.7,4.7,4.7],\"type\":\"box\",\"marker\":{\"color\":\"#aaa662\"}}],                        {\"template\":{\"data\":{\"barpolar\":[{\"marker\":{\"line\":{\"color\":\"white\",\"width\":0.5},\"pattern\":{\"fillmode\":\"overlay\",\"size\":10,\"solidity\":0.2}},\"type\":\"barpolar\"}],\"bar\":[{\"error_x\":{\"color\":\"rgb(36,36,36)\"},\"error_y\":{\"color\":\"rgb(36,36,36)\"},\"marker\":{\"line\":{\"color\":\"white\",\"width\":0.5},\"pattern\":{\"fillmode\":\"overlay\",\"size\":10,\"solidity\":0.2}},\"type\":\"bar\"}],\"carpet\":[{\"aaxis\":{\"endlinecolor\":\"rgb(36,36,36)\",\"gridcolor\":\"white\",\"linecolor\":\"white\",\"minorgridcolor\":\"white\",\"startlinecolor\":\"rgb(36,36,36)\"},\"baxis\":{\"endlinecolor\":\"rgb(36,36,36)\",\"gridcolor\":\"white\",\"linecolor\":\"white\",\"minorgridcolor\":\"white\",\"startlinecolor\":\"rgb(36,36,36)\"},\"type\":\"carpet\"}],\"choropleth\":[{\"colorbar\":{\"outlinewidth\":1,\"tickcolor\":\"rgb(36,36,36)\",\"ticks\":\"outside\"},\"type\":\"choropleth\"}],\"contourcarpet\":[{\"colorbar\":{\"outlinewidth\":1,\"tickcolor\":\"rgb(36,36,36)\",\"ticks\":\"outside\"},\"type\":\"contourcarpet\"}],\"contour\":[{\"colorbar\":{\"outlinewidth\":1,\"tickcolor\":\"rgb(36,36,36)\",\"ticks\":\"outside\"},\"colorscale\":[[0.0,\"#440154\"],[0.1111111111111111,\"#482878\"],[0.2222222222222222,\"#3e4989\"],[0.3333333333333333,\"#31688e\"],[0.4444444444444444,\"#26828e\"],[0.5555555555555556,\"#1f9e89\"],[0.6666666666666666,\"#35b779\"],[0.7777777777777778,\"#6ece58\"],[0.8888888888888888,\"#b5de2b\"],[1.0,\"#fde725\"]],\"type\":\"contour\"}],\"heatmapgl\":[{\"colorbar\":{\"outlinewidth\":1,\"tickcolor\":\"rgb(36,36,36)\",\"ticks\":\"outside\"},\"colorscale\":[[0.0,\"#440154\"],[0.1111111111111111,\"#482878\"],[0.2222222222222222,\"#3e4989\"],[0.3333333333333333,\"#31688e\"],[0.4444444444444444,\"#26828e\"],[0.5555555555555556,\"#1f9e89\"],[0.6666666666666666,\"#35b779\"],[0.7777777777777778,\"#6ece58\"],[0.8888888888888888,\"#b5de2b\"],[1.0,\"#fde725\"]],\"type\":\"heatmapgl\"}],\"heatmap\":[{\"colorbar\":{\"outlinewidth\":1,\"tickcolor\":\"rgb(36,36,36)\",\"ticks\":\"outside\"},\"colorscale\":[[0.0,\"#440154\"],[0.1111111111111111,\"#482878\"],[0.2222222222222222,\"#3e4989\"],[0.3333333333333333,\"#31688e\"],[0.4444444444444444,\"#26828e\"],[0.5555555555555556,\"#1f9e89\"],[0.6666666666666666,\"#35b779\"],[0.7777777777777778,\"#6ece58\"],[0.8888888888888888,\"#b5de2b\"],[1.0,\"#fde725\"]],\"type\":\"heatmap\"}],\"histogram2dcontour\":[{\"colorbar\":{\"outlinewidth\":1,\"tickcolor\":\"rgb(36,36,36)\",\"ticks\":\"outside\"},\"colorscale\":[[0.0,\"#440154\"],[0.1111111111111111,\"#482878\"],[0.2222222222222222,\"#3e4989\"],[0.3333333333333333,\"#31688e\"],[0.4444444444444444,\"#26828e\"],[0.5555555555555556,\"#1f9e89\"],[0.6666666666666666,\"#35b779\"],[0.7777777777777778,\"#6ece58\"],[0.8888888888888888,\"#b5de2b\"],[1.0,\"#fde725\"]],\"type\":\"histogram2dcontour\"}],\"histogram2d\":[{\"colorbar\":{\"outlinewidth\":1,\"tickcolor\":\"rgb(36,36,36)\",\"ticks\":\"outside\"},\"colorscale\":[[0.0,\"#440154\"],[0.1111111111111111,\"#482878\"],[0.2222222222222222,\"#3e4989\"],[0.3333333333333333,\"#31688e\"],[0.4444444444444444,\"#26828e\"],[0.5555555555555556,\"#1f9e89\"],[0.6666666666666666,\"#35b779\"],[0.7777777777777778,\"#6ece58\"],[0.8888888888888888,\"#b5de2b\"],[1.0,\"#fde725\"]],\"type\":\"histogram2d\"}],\"histogram\":[{\"marker\":{\"line\":{\"color\":\"white\",\"width\":0.6}},\"type\":\"histogram\"}],\"mesh3d\":[{\"colorbar\":{\"outlinewidth\":1,\"tickcolor\":\"rgb(36,36,36)\",\"ticks\":\"outside\"},\"type\":\"mesh3d\"}],\"parcoords\":[{\"line\":{\"colorbar\":{\"outlinewidth\":1,\"tickcolor\":\"rgb(36,36,36)\",\"ticks\":\"outside\"}},\"type\":\"parcoords\"}],\"pie\":[{\"automargin\":true,\"type\":\"pie\"}],\"scatter3d\":[{\"line\":{\"colorbar\":{\"outlinewidth\":1,\"tickcolor\":\"rgb(36,36,36)\",\"ticks\":\"outside\"}},\"marker\":{\"colorbar\":{\"outlinewidth\":1,\"tickcolor\":\"rgb(36,36,36)\",\"ticks\":\"outside\"}},\"type\":\"scatter3d\"}],\"scattercarpet\":[{\"marker\":{\"colorbar\":{\"outlinewidth\":1,\"tickcolor\":\"rgb(36,36,36)\",\"ticks\":\"outside\"}},\"type\":\"scattercarpet\"}],\"scattergeo\":[{\"marker\":{\"colorbar\":{\"outlinewidth\":1,\"tickcolor\":\"rgb(36,36,36)\",\"ticks\":\"outside\"}},\"type\":\"scattergeo\"}],\"scattergl\":[{\"marker\":{\"colorbar\":{\"outlinewidth\":1,\"tickcolor\":\"rgb(36,36,36)\",\"ticks\":\"outside\"}},\"type\":\"scattergl\"}],\"scattermapbox\":[{\"marker\":{\"colorbar\":{\"outlinewidth\":1,\"tickcolor\":\"rgb(36,36,36)\",\"ticks\":\"outside\"}},\"type\":\"scattermapbox\"}],\"scatterpolargl\":[{\"marker\":{\"colorbar\":{\"outlinewidth\":1,\"tickcolor\":\"rgb(36,36,36)\",\"ticks\":\"outside\"}},\"type\":\"scatterpolargl\"}],\"scatterpolar\":[{\"marker\":{\"colorbar\":{\"outlinewidth\":1,\"tickcolor\":\"rgb(36,36,36)\",\"ticks\":\"outside\"}},\"type\":\"scatterpolar\"}],\"scatter\":[{\"fillpattern\":{\"fillmode\":\"overlay\",\"size\":10,\"solidity\":0.2},\"type\":\"scatter\"}],\"scatterternary\":[{\"marker\":{\"colorbar\":{\"outlinewidth\":1,\"tickcolor\":\"rgb(36,36,36)\",\"ticks\":\"outside\"}},\"type\":\"scatterternary\"}],\"surface\":[{\"colorbar\":{\"outlinewidth\":1,\"tickcolor\":\"rgb(36,36,36)\",\"ticks\":\"outside\"},\"colorscale\":[[0.0,\"#440154\"],[0.1111111111111111,\"#482878\"],[0.2222222222222222,\"#3e4989\"],[0.3333333333333333,\"#31688e\"],[0.4444444444444444,\"#26828e\"],[0.5555555555555556,\"#1f9e89\"],[0.6666666666666666,\"#35b779\"],[0.7777777777777778,\"#6ece58\"],[0.8888888888888888,\"#b5de2b\"],[1.0,\"#fde725\"]],\"type\":\"surface\"}],\"table\":[{\"cells\":{\"fill\":{\"color\":\"rgb(237,237,237)\"},\"line\":{\"color\":\"white\"}},\"header\":{\"fill\":{\"color\":\"rgb(217,217,217)\"},\"line\":{\"color\":\"white\"}},\"type\":\"table\"}]},\"layout\":{\"annotationdefaults\":{\"arrowhead\":0,\"arrowwidth\":1},\"autotypenumbers\":\"strict\",\"coloraxis\":{\"colorbar\":{\"outlinewidth\":1,\"tickcolor\":\"rgb(36,36,36)\",\"ticks\":\"outside\"}},\"colorscale\":{\"diverging\":[[0.0,\"rgb(103,0,31)\"],[0.1,\"rgb(178,24,43)\"],[0.2,\"rgb(214,96,77)\"],[0.3,\"rgb(244,165,130)\"],[0.4,\"rgb(253,219,199)\"],[0.5,\"rgb(247,247,247)\"],[0.6,\"rgb(209,229,240)\"],[0.7,\"rgb(146,197,222)\"],[0.8,\"rgb(67,147,195)\"],[0.9,\"rgb(33,102,172)\"],[1.0,\"rgb(5,48,97)\"]],\"sequential\":[[0.0,\"#440154\"],[0.1111111111111111,\"#482878\"],[0.2222222222222222,\"#3e4989\"],[0.3333333333333333,\"#31688e\"],[0.4444444444444444,\"#26828e\"],[0.5555555555555556,\"#1f9e89\"],[0.6666666666666666,\"#35b779\"],[0.7777777777777778,\"#6ece58\"],[0.8888888888888888,\"#b5de2b\"],[1.0,\"#fde725\"]],\"sequentialminus\":[[0.0,\"#440154\"],[0.1111111111111111,\"#482878\"],[0.2222222222222222,\"#3e4989\"],[0.3333333333333333,\"#31688e\"],[0.4444444444444444,\"#26828e\"],[0.5555555555555556,\"#1f9e89\"],[0.6666666666666666,\"#35b779\"],[0.7777777777777778,\"#6ece58\"],[0.8888888888888888,\"#b5de2b\"],[1.0,\"#fde725\"]]},\"colorway\":[\"#1F77B4\",\"#FF7F0E\",\"#2CA02C\",\"#D62728\",\"#9467BD\",\"#8C564B\",\"#E377C2\",\"#7F7F7F\",\"#BCBD22\",\"#17BECF\"],\"font\":{\"color\":\"rgb(36,36,36)\"},\"geo\":{\"bgcolor\":\"white\",\"lakecolor\":\"white\",\"landcolor\":\"white\",\"showlakes\":true,\"showland\":true,\"subunitcolor\":\"white\"},\"hoverlabel\":{\"align\":\"left\"},\"hovermode\":\"closest\",\"mapbox\":{\"style\":\"light\"},\"paper_bgcolor\":\"white\",\"plot_bgcolor\":\"white\",\"polar\":{\"angularaxis\":{\"gridcolor\":\"rgb(232,232,232)\",\"linecolor\":\"rgb(36,36,36)\",\"showgrid\":false,\"showline\":true,\"ticks\":\"outside\"},\"bgcolor\":\"white\",\"radialaxis\":{\"gridcolor\":\"rgb(232,232,232)\",\"linecolor\":\"rgb(36,36,36)\",\"showgrid\":false,\"showline\":true,\"ticks\":\"outside\"}},\"scene\":{\"xaxis\":{\"backgroundcolor\":\"white\",\"gridcolor\":\"rgb(232,232,232)\",\"gridwidth\":2,\"linecolor\":\"rgb(36,36,36)\",\"showbackground\":true,\"showgrid\":false,\"showline\":true,\"ticks\":\"outside\",\"zeroline\":false,\"zerolinecolor\":\"rgb(36,36,36)\"},\"yaxis\":{\"backgroundcolor\":\"white\",\"gridcolor\":\"rgb(232,232,232)\",\"gridwidth\":2,\"linecolor\":\"rgb(36,36,36)\",\"showbackground\":true,\"showgrid\":false,\"showline\":true,\"ticks\":\"outside\",\"zeroline\":false,\"zerolinecolor\":\"rgb(36,36,36)\"},\"zaxis\":{\"backgroundcolor\":\"white\",\"gridcolor\":\"rgb(232,232,232)\",\"gridwidth\":2,\"linecolor\":\"rgb(36,36,36)\",\"showbackground\":true,\"showgrid\":false,\"showline\":true,\"ticks\":\"outside\",\"zeroline\":false,\"zerolinecolor\":\"rgb(36,36,36)\"}},\"shapedefaults\":{\"fillcolor\":\"black\",\"line\":{\"width\":0},\"opacity\":0.3},\"ternary\":{\"aaxis\":{\"gridcolor\":\"rgb(232,232,232)\",\"linecolor\":\"rgb(36,36,36)\",\"showgrid\":false,\"showline\":true,\"ticks\":\"outside\"},\"baxis\":{\"gridcolor\":\"rgb(232,232,232)\",\"linecolor\":\"rgb(36,36,36)\",\"showgrid\":false,\"showline\":true,\"ticks\":\"outside\"},\"bgcolor\":\"white\",\"caxis\":{\"gridcolor\":\"rgb(232,232,232)\",\"linecolor\":\"rgb(36,36,36)\",\"showgrid\":false,\"showline\":true,\"ticks\":\"outside\"}},\"title\":{\"x\":0.05},\"xaxis\":{\"automargin\":true,\"gridcolor\":\"rgb(232,232,232)\",\"linecolor\":\"rgb(36,36,36)\",\"showgrid\":false,\"showline\":true,\"ticks\":\"outside\",\"title\":{\"standoff\":15},\"zeroline\":false,\"zerolinecolor\":\"rgb(36,36,36)\"},\"yaxis\":{\"automargin\":true,\"gridcolor\":\"rgb(232,232,232)\",\"linecolor\":\"rgb(36,36,36)\",\"showgrid\":false,\"showline\":true,\"ticks\":\"outside\",\"title\":{\"standoff\":15},\"zeroline\":false,\"zerolinecolor\":\"rgb(36,36,36)\"}}},\"xaxis\":{\"anchor\":\"y\",\"domain\":[0.0,1.0]},\"yaxis\":{\"anchor\":\"x\",\"domain\":[0.0,1.0]},\"font\":{\"family\":\"Arial\",\"size\":12,\"color\":\"black\"},\"title\":{\"text\":\"User Rating Trends & Outliers\"},\"showlegend\":false},                        {\"responsive\": true}                    ).then(function(){\n",
       "                            \n",
       "var gd = document.getElementById('bddb6c09-3074-499e-a32a-621a993f8919');\n",
       "var x = new MutationObserver(function (mutations, observer) {{\n",
       "        var display = window.getComputedStyle(gd).display;\n",
       "        if (!display || display === 'none') {{\n",
       "            console.log([gd, 'removed!']);\n",
       "            Plotly.purge(gd);\n",
       "            observer.disconnect();\n",
       "        }}\n",
       "}});\n",
       "\n",
       "// Listen for the removal of the full notebook cells\n",
       "var notebookContainer = gd.closest('#notebook-container');\n",
       "if (notebookContainer) {{\n",
       "    x.observe(notebookContainer, {childList: true});\n",
       "}}\n",
       "\n",
       "// Listen for the clearing of the current output cell\n",
       "var outputEl = gd.closest('.output');\n",
       "if (outputEl) {{\n",
       "    x.observe(outputEl, {childList: true});\n",
       "}}\n",
       "\n",
       "                        })                };                });            </script>        </div>"
      ]
     },
     "metadata": {},
     "output_type": "display_data"
    }
   ],
   "source": [
    "# Let's set the visualization parameters\n",
    "user_rating_bp = make_subplots(rows=1, cols=1, specs=[[{'type': 'xy'}]])\n",
    "\n",
    "# Setting Box parameters\n",
    "user_rating_bp.add_trace(go.Box(x=df['User Rating'], \n",
    "                       name='User Rating'))\n",
    "\n",
    "# Setting the parameters of the Box when displaying\n",
    "user_rating_bp.update_traces(marker_color='#aaa662')\n",
    "\n",
    "# Setting the parameters of the Box when displaying\n",
    "user_rating_bp.update_layout(title='User Rating Trends & Outliers',showlegend=False, \n",
    "                    template='simple_white', \n",
    "                    font=dict(family='Arial', \n",
    "                              size=12, \n",
    "                              color='black'))\n",
    "\n",
    "# Displaying the Box\n",
    "user_rating_bp.show()"
   ]
  },
  {
   "cell_type": "markdown",
   "id": "bc48487f",
   "metadata": {
    "papermill": {
     "duration": 0.018906,
     "end_time": "2022-11-09T16:25:06.843513",
     "exception": false,
     "start_time": "2022-11-09T16:25:06.824607",
     "status": "completed"
    },
    "tags": []
   },
   "source": [
    "<span style=\"padding-left:20px; font-size:18px; color:#339; font-weight:bold\">4.2.2 Reviews Trends & Outliers</span>"
   ]
  },
  {
   "cell_type": "code",
   "execution_count": 22,
   "id": "c9ea96f1",
   "metadata": {
    "execution": {
     "iopub.execute_input": "2022-11-09T16:25:06.882282Z",
     "iopub.status.busy": "2022-11-09T16:25:06.881827Z",
     "iopub.status.idle": "2022-11-09T16:25:06.929342Z",
     "shell.execute_reply": "2022-11-09T16:25:06.927645Z"
    },
    "papermill": {
     "duration": 0.07028,
     "end_time": "2022-11-09T16:25:06.932254",
     "exception": false,
     "start_time": "2022-11-09T16:25:06.861974",
     "status": "completed"
    },
    "tags": []
   },
   "outputs": [
    {
     "data": {
      "text/html": [
       "<div>                            <div id=\"ab8f1ecd-ed62-4488-8ab9-703a33b0580c\" class=\"plotly-graph-div\" style=\"height:525px; width:100%;\"></div>            <script type=\"text/javascript\">                require([\"plotly\"], function(Plotly) {                    window.PLOTLYENV=window.PLOTLYENV || {};                                    if (document.getElementById(\"ab8f1ecd-ed62-4488-8ab9-703a33b0580c\")) {                    Plotly.newPlot(                        \"ab8f1ecd-ed62-4488-8ab9-703a33b0580c\",                        [{\"name\":\"Reviews\",\"x\":[17350,2052,18979,21424,7665,12643,19735,19699,5983,23848,23848,460,4149,5153,5013,2313,2925,2951,2426,9198,36348,36348,6310,15921,12159,798,9374,491,5360,1909,1296,615,61133,61133,11113,10070,10070,3729,9769,471,14344,14344,4505,10369,16244,2884,22614,22614,22614,4761,1542,1542,1542,6143,4022,3871,4866,4866,1329,4642,1541,1924,2094,10922,10922,10922,10922,2137,1651,6679,6679,6812,3837,6540,7955,27098,27098,17684,37,15845,3181,5062,4786,7235,7235,12619,9089,5470,5118,2134,2525,720,956,6346,6346,5505,5505,28729,28729,5413,10721,10721,4370,6042,23631,20262,47265,47265,13964,13677,17323,17323,17323,17323,17323,1555,3642,1215,5594,5594,5594,408,4799,14038,14038,14038,14038,14038,7660,22288,22288,1365,14982,9568,1636,57271,57271,57271,10141,3457,3457,3457,3457,8837,8837,8837,7038,7038,5972,25624,5476,5867,4148,19622,23973,7758,3146,10052,3564,13471,1930,15779,15779,15526,15526,3776,25001,25001,25001,25001,25001,5272,3490,3490,2812,4896,9737,1320,16643,16643,7153,4571,29651,5299,7396,7396,7062,19576,19576,19576,19576,19576,19576,978,4748,8393,11391,8634,9342,9342,10927,5235,8916,2507,3673,3673,3673,11881,6990,6990,6990,6990,6990,6132,3014,7550,3828,2752,1467,1884,25706,8491,1649,18613,18613,9867,1386,10199,2926,17739,17739,17739,3113,5542,5542,5542,26741,26741,26741,5347,7866,5680,5178,8093,3192,21834,21834,21834,21834,21834,21834,21834,21834,6169,4519,3163,3163,1831,18904,21930,10426,10426,10820,10820,548,16990,16990,16990,3503,13616,13616,8580,8580,8580,8580,8580,8580,8580,8580,8580,8580,4757,10009,10009,1985,1985,22536,22536,7150,3836,7802,7802,3619,23047,23047,9366,1265,3923,2272,973,220,7827,7827,9382,5069,5069,5069,5069,5069,5069,5069,5069,5069,1583,1907,23114,637,637,2314,4587,3477,3477,3477,3477,3477,25554,25554,25554,25554,25554,1680,9325,9325,9325,9325,4725,4725,4725,35799,2580,11813,11813,3536,6600,1789,12361,858,23148,23148,8081,8081,23358,23358,9372,4633,13061,13061,3523,2774,440,8922,8922,8922,2023,1859,50482,50482,50482,50482,3207,3207,3207,3207,3207,803,23308,23308,23308,23308,23308,23308,5836,79446,79446,7747,7747,7251,7251,10559,10559,5249,5249,33844,33844,11616,11616,11616,13609,8587,29442,11098,9947,13871,13871,13871,13871,6982,32122,32122,32122,16949,16949,9289,9289,9289,7368,7368,4028,4628,4628,5396,4247,4247,22641,22641,22641,22641,6222,4506,8747,1655,7861,6247,39459,10101,5898,2744,49288,49288,1201,1201,1201,1201,1201,807,3759,2663,3428,2876,3601,7058,9784,9784,10795,10191,14493,2186,1204,2091,19720,19720,2122,27536,4290,26490,26490,26490,5487,6377,1463,3759,3503,11550,3801,3796,9030,19546,19546,19546,19546,19546,19546,19546,7508,7508,7508,8842,8842,8842,8842,30183,30183,6169,7034,11034,11034,7932,1904,3319,3319,11128,11128,11128,11128,5977,26234,26234,26234,26234,26234,4360,2282,438,11676,2586,29673,29673,29673,29673,29673,6740,5956,6108,4585,3829,8958,5492,9292,1873,8170,3341,7497,7497,13779,87841,9967,6669,17044,10760,1302,21625,21625,21625,21625,21625,9413,14331,14331,14331,14331],\"type\":\"box\",\"marker\":{\"color\":\"#aaa662\"}}],                        {\"template\":{\"data\":{\"barpolar\":[{\"marker\":{\"line\":{\"color\":\"white\",\"width\":0.5},\"pattern\":{\"fillmode\":\"overlay\",\"size\":10,\"solidity\":0.2}},\"type\":\"barpolar\"}],\"bar\":[{\"error_x\":{\"color\":\"rgb(36,36,36)\"},\"error_y\":{\"color\":\"rgb(36,36,36)\"},\"marker\":{\"line\":{\"color\":\"white\",\"width\":0.5},\"pattern\":{\"fillmode\":\"overlay\",\"size\":10,\"solidity\":0.2}},\"type\":\"bar\"}],\"carpet\":[{\"aaxis\":{\"endlinecolor\":\"rgb(36,36,36)\",\"gridcolor\":\"white\",\"linecolor\":\"white\",\"minorgridcolor\":\"white\",\"startlinecolor\":\"rgb(36,36,36)\"},\"baxis\":{\"endlinecolor\":\"rgb(36,36,36)\",\"gridcolor\":\"white\",\"linecolor\":\"white\",\"minorgridcolor\":\"white\",\"startlinecolor\":\"rgb(36,36,36)\"},\"type\":\"carpet\"}],\"choropleth\":[{\"colorbar\":{\"outlinewidth\":1,\"tickcolor\":\"rgb(36,36,36)\",\"ticks\":\"outside\"},\"type\":\"choropleth\"}],\"contourcarpet\":[{\"colorbar\":{\"outlinewidth\":1,\"tickcolor\":\"rgb(36,36,36)\",\"ticks\":\"outside\"},\"type\":\"contourcarpet\"}],\"contour\":[{\"colorbar\":{\"outlinewidth\":1,\"tickcolor\":\"rgb(36,36,36)\",\"ticks\":\"outside\"},\"colorscale\":[[0.0,\"#440154\"],[0.1111111111111111,\"#482878\"],[0.2222222222222222,\"#3e4989\"],[0.3333333333333333,\"#31688e\"],[0.4444444444444444,\"#26828e\"],[0.5555555555555556,\"#1f9e89\"],[0.6666666666666666,\"#35b779\"],[0.7777777777777778,\"#6ece58\"],[0.8888888888888888,\"#b5de2b\"],[1.0,\"#fde725\"]],\"type\":\"contour\"}],\"heatmapgl\":[{\"colorbar\":{\"outlinewidth\":1,\"tickcolor\":\"rgb(36,36,36)\",\"ticks\":\"outside\"},\"colorscale\":[[0.0,\"#440154\"],[0.1111111111111111,\"#482878\"],[0.2222222222222222,\"#3e4989\"],[0.3333333333333333,\"#31688e\"],[0.4444444444444444,\"#26828e\"],[0.5555555555555556,\"#1f9e89\"],[0.6666666666666666,\"#35b779\"],[0.7777777777777778,\"#6ece58\"],[0.8888888888888888,\"#b5de2b\"],[1.0,\"#fde725\"]],\"type\":\"heatmapgl\"}],\"heatmap\":[{\"colorbar\":{\"outlinewidth\":1,\"tickcolor\":\"rgb(36,36,36)\",\"ticks\":\"outside\"},\"colorscale\":[[0.0,\"#440154\"],[0.1111111111111111,\"#482878\"],[0.2222222222222222,\"#3e4989\"],[0.3333333333333333,\"#31688e\"],[0.4444444444444444,\"#26828e\"],[0.5555555555555556,\"#1f9e89\"],[0.6666666666666666,\"#35b779\"],[0.7777777777777778,\"#6ece58\"],[0.8888888888888888,\"#b5de2b\"],[1.0,\"#fde725\"]],\"type\":\"heatmap\"}],\"histogram2dcontour\":[{\"colorbar\":{\"outlinewidth\":1,\"tickcolor\":\"rgb(36,36,36)\",\"ticks\":\"outside\"},\"colorscale\":[[0.0,\"#440154\"],[0.1111111111111111,\"#482878\"],[0.2222222222222222,\"#3e4989\"],[0.3333333333333333,\"#31688e\"],[0.4444444444444444,\"#26828e\"],[0.5555555555555556,\"#1f9e89\"],[0.6666666666666666,\"#35b779\"],[0.7777777777777778,\"#6ece58\"],[0.8888888888888888,\"#b5de2b\"],[1.0,\"#fde725\"]],\"type\":\"histogram2dcontour\"}],\"histogram2d\":[{\"colorbar\":{\"outlinewidth\":1,\"tickcolor\":\"rgb(36,36,36)\",\"ticks\":\"outside\"},\"colorscale\":[[0.0,\"#440154\"],[0.1111111111111111,\"#482878\"],[0.2222222222222222,\"#3e4989\"],[0.3333333333333333,\"#31688e\"],[0.4444444444444444,\"#26828e\"],[0.5555555555555556,\"#1f9e89\"],[0.6666666666666666,\"#35b779\"],[0.7777777777777778,\"#6ece58\"],[0.8888888888888888,\"#b5de2b\"],[1.0,\"#fde725\"]],\"type\":\"histogram2d\"}],\"histogram\":[{\"marker\":{\"line\":{\"color\":\"white\",\"width\":0.6}},\"type\":\"histogram\"}],\"mesh3d\":[{\"colorbar\":{\"outlinewidth\":1,\"tickcolor\":\"rgb(36,36,36)\",\"ticks\":\"outside\"},\"type\":\"mesh3d\"}],\"parcoords\":[{\"line\":{\"colorbar\":{\"outlinewidth\":1,\"tickcolor\":\"rgb(36,36,36)\",\"ticks\":\"outside\"}},\"type\":\"parcoords\"}],\"pie\":[{\"automargin\":true,\"type\":\"pie\"}],\"scatter3d\":[{\"line\":{\"colorbar\":{\"outlinewidth\":1,\"tickcolor\":\"rgb(36,36,36)\",\"ticks\":\"outside\"}},\"marker\":{\"colorbar\":{\"outlinewidth\":1,\"tickcolor\":\"rgb(36,36,36)\",\"ticks\":\"outside\"}},\"type\":\"scatter3d\"}],\"scattercarpet\":[{\"marker\":{\"colorbar\":{\"outlinewidth\":1,\"tickcolor\":\"rgb(36,36,36)\",\"ticks\":\"outside\"}},\"type\":\"scattercarpet\"}],\"scattergeo\":[{\"marker\":{\"colorbar\":{\"outlinewidth\":1,\"tickcolor\":\"rgb(36,36,36)\",\"ticks\":\"outside\"}},\"type\":\"scattergeo\"}],\"scattergl\":[{\"marker\":{\"colorbar\":{\"outlinewidth\":1,\"tickcolor\":\"rgb(36,36,36)\",\"ticks\":\"outside\"}},\"type\":\"scattergl\"}],\"scattermapbox\":[{\"marker\":{\"colorbar\":{\"outlinewidth\":1,\"tickcolor\":\"rgb(36,36,36)\",\"ticks\":\"outside\"}},\"type\":\"scattermapbox\"}],\"scatterpolargl\":[{\"marker\":{\"colorbar\":{\"outlinewidth\":1,\"tickcolor\":\"rgb(36,36,36)\",\"ticks\":\"outside\"}},\"type\":\"scatterpolargl\"}],\"scatterpolar\":[{\"marker\":{\"colorbar\":{\"outlinewidth\":1,\"tickcolor\":\"rgb(36,36,36)\",\"ticks\":\"outside\"}},\"type\":\"scatterpolar\"}],\"scatter\":[{\"fillpattern\":{\"fillmode\":\"overlay\",\"size\":10,\"solidity\":0.2},\"type\":\"scatter\"}],\"scatterternary\":[{\"marker\":{\"colorbar\":{\"outlinewidth\":1,\"tickcolor\":\"rgb(36,36,36)\",\"ticks\":\"outside\"}},\"type\":\"scatterternary\"}],\"surface\":[{\"colorbar\":{\"outlinewidth\":1,\"tickcolor\":\"rgb(36,36,36)\",\"ticks\":\"outside\"},\"colorscale\":[[0.0,\"#440154\"],[0.1111111111111111,\"#482878\"],[0.2222222222222222,\"#3e4989\"],[0.3333333333333333,\"#31688e\"],[0.4444444444444444,\"#26828e\"],[0.5555555555555556,\"#1f9e89\"],[0.6666666666666666,\"#35b779\"],[0.7777777777777778,\"#6ece58\"],[0.8888888888888888,\"#b5de2b\"],[1.0,\"#fde725\"]],\"type\":\"surface\"}],\"table\":[{\"cells\":{\"fill\":{\"color\":\"rgb(237,237,237)\"},\"line\":{\"color\":\"white\"}},\"header\":{\"fill\":{\"color\":\"rgb(217,217,217)\"},\"line\":{\"color\":\"white\"}},\"type\":\"table\"}]},\"layout\":{\"annotationdefaults\":{\"arrowhead\":0,\"arrowwidth\":1},\"autotypenumbers\":\"strict\",\"coloraxis\":{\"colorbar\":{\"outlinewidth\":1,\"tickcolor\":\"rgb(36,36,36)\",\"ticks\":\"outside\"}},\"colorscale\":{\"diverging\":[[0.0,\"rgb(103,0,31)\"],[0.1,\"rgb(178,24,43)\"],[0.2,\"rgb(214,96,77)\"],[0.3,\"rgb(244,165,130)\"],[0.4,\"rgb(253,219,199)\"],[0.5,\"rgb(247,247,247)\"],[0.6,\"rgb(209,229,240)\"],[0.7,\"rgb(146,197,222)\"],[0.8,\"rgb(67,147,195)\"],[0.9,\"rgb(33,102,172)\"],[1.0,\"rgb(5,48,97)\"]],\"sequential\":[[0.0,\"#440154\"],[0.1111111111111111,\"#482878\"],[0.2222222222222222,\"#3e4989\"],[0.3333333333333333,\"#31688e\"],[0.4444444444444444,\"#26828e\"],[0.5555555555555556,\"#1f9e89\"],[0.6666666666666666,\"#35b779\"],[0.7777777777777778,\"#6ece58\"],[0.8888888888888888,\"#b5de2b\"],[1.0,\"#fde725\"]],\"sequentialminus\":[[0.0,\"#440154\"],[0.1111111111111111,\"#482878\"],[0.2222222222222222,\"#3e4989\"],[0.3333333333333333,\"#31688e\"],[0.4444444444444444,\"#26828e\"],[0.5555555555555556,\"#1f9e89\"],[0.6666666666666666,\"#35b779\"],[0.7777777777777778,\"#6ece58\"],[0.8888888888888888,\"#b5de2b\"],[1.0,\"#fde725\"]]},\"colorway\":[\"#1F77B4\",\"#FF7F0E\",\"#2CA02C\",\"#D62728\",\"#9467BD\",\"#8C564B\",\"#E377C2\",\"#7F7F7F\",\"#BCBD22\",\"#17BECF\"],\"font\":{\"color\":\"rgb(36,36,36)\"},\"geo\":{\"bgcolor\":\"white\",\"lakecolor\":\"white\",\"landcolor\":\"white\",\"showlakes\":true,\"showland\":true,\"subunitcolor\":\"white\"},\"hoverlabel\":{\"align\":\"left\"},\"hovermode\":\"closest\",\"mapbox\":{\"style\":\"light\"},\"paper_bgcolor\":\"white\",\"plot_bgcolor\":\"white\",\"polar\":{\"angularaxis\":{\"gridcolor\":\"rgb(232,232,232)\",\"linecolor\":\"rgb(36,36,36)\",\"showgrid\":false,\"showline\":true,\"ticks\":\"outside\"},\"bgcolor\":\"white\",\"radialaxis\":{\"gridcolor\":\"rgb(232,232,232)\",\"linecolor\":\"rgb(36,36,36)\",\"showgrid\":false,\"showline\":true,\"ticks\":\"outside\"}},\"scene\":{\"xaxis\":{\"backgroundcolor\":\"white\",\"gridcolor\":\"rgb(232,232,232)\",\"gridwidth\":2,\"linecolor\":\"rgb(36,36,36)\",\"showbackground\":true,\"showgrid\":false,\"showline\":true,\"ticks\":\"outside\",\"zeroline\":false,\"zerolinecolor\":\"rgb(36,36,36)\"},\"yaxis\":{\"backgroundcolor\":\"white\",\"gridcolor\":\"rgb(232,232,232)\",\"gridwidth\":2,\"linecolor\":\"rgb(36,36,36)\",\"showbackground\":true,\"showgrid\":false,\"showline\":true,\"ticks\":\"outside\",\"zeroline\":false,\"zerolinecolor\":\"rgb(36,36,36)\"},\"zaxis\":{\"backgroundcolor\":\"white\",\"gridcolor\":\"rgb(232,232,232)\",\"gridwidth\":2,\"linecolor\":\"rgb(36,36,36)\",\"showbackground\":true,\"showgrid\":false,\"showline\":true,\"ticks\":\"outside\",\"zeroline\":false,\"zerolinecolor\":\"rgb(36,36,36)\"}},\"shapedefaults\":{\"fillcolor\":\"black\",\"line\":{\"width\":0},\"opacity\":0.3},\"ternary\":{\"aaxis\":{\"gridcolor\":\"rgb(232,232,232)\",\"linecolor\":\"rgb(36,36,36)\",\"showgrid\":false,\"showline\":true,\"ticks\":\"outside\"},\"baxis\":{\"gridcolor\":\"rgb(232,232,232)\",\"linecolor\":\"rgb(36,36,36)\",\"showgrid\":false,\"showline\":true,\"ticks\":\"outside\"},\"bgcolor\":\"white\",\"caxis\":{\"gridcolor\":\"rgb(232,232,232)\",\"linecolor\":\"rgb(36,36,36)\",\"showgrid\":false,\"showline\":true,\"ticks\":\"outside\"}},\"title\":{\"x\":0.05},\"xaxis\":{\"automargin\":true,\"gridcolor\":\"rgb(232,232,232)\",\"linecolor\":\"rgb(36,36,36)\",\"showgrid\":false,\"showline\":true,\"ticks\":\"outside\",\"title\":{\"standoff\":15},\"zeroline\":false,\"zerolinecolor\":\"rgb(36,36,36)\"},\"yaxis\":{\"automargin\":true,\"gridcolor\":\"rgb(232,232,232)\",\"linecolor\":\"rgb(36,36,36)\",\"showgrid\":false,\"showline\":true,\"ticks\":\"outside\",\"title\":{\"standoff\":15},\"zeroline\":false,\"zerolinecolor\":\"rgb(36,36,36)\"}}},\"xaxis\":{\"anchor\":\"y\",\"domain\":[0.0,1.0]},\"yaxis\":{\"anchor\":\"x\",\"domain\":[0.0,1.0]},\"font\":{\"family\":\"Arial\",\"size\":12,\"color\":\"black\"},\"title\":{\"text\":\"Reviews Trends & Outliers\"},\"showlegend\":false},                        {\"responsive\": true}                    ).then(function(){\n",
       "                            \n",
       "var gd = document.getElementById('ab8f1ecd-ed62-4488-8ab9-703a33b0580c');\n",
       "var x = new MutationObserver(function (mutations, observer) {{\n",
       "        var display = window.getComputedStyle(gd).display;\n",
       "        if (!display || display === 'none') {{\n",
       "            console.log([gd, 'removed!']);\n",
       "            Plotly.purge(gd);\n",
       "            observer.disconnect();\n",
       "        }}\n",
       "}});\n",
       "\n",
       "// Listen for the removal of the full notebook cells\n",
       "var notebookContainer = gd.closest('#notebook-container');\n",
       "if (notebookContainer) {{\n",
       "    x.observe(notebookContainer, {childList: true});\n",
       "}}\n",
       "\n",
       "// Listen for the clearing of the current output cell\n",
       "var outputEl = gd.closest('.output');\n",
       "if (outputEl) {{\n",
       "    x.observe(outputEl, {childList: true});\n",
       "}}\n",
       "\n",
       "                        })                };                });            </script>        </div>"
      ]
     },
     "metadata": {},
     "output_type": "display_data"
    }
   ],
   "source": [
    "# Let's set the visualization parameters\n",
    "review_bp = make_subplots(rows=1, cols=1, specs=[[{'type': 'xy'}]])\n",
    "\n",
    "# Setting Box parameters\n",
    "review_bp.add_trace(go.Box(x=df['Reviews'], \n",
    "                       name='Reviews'))\n",
    "\n",
    "# Setting the parameters of the Box when displaying\n",
    "review_bp.update_traces(marker_color='#aaa662')\n",
    "\n",
    "# Setting the parameters of the Box when displaying\n",
    "review_bp.update_layout(title='Reviews Trends & Outliers', showlegend=False, \n",
    "                    template='simple_white', \n",
    "                    font=dict(family='Arial', \n",
    "                              size=12, \n",
    "                              color='black'))\n",
    "\n",
    "# Displaying the Box\n",
    "review_bp.show()"
   ]
  },
  {
   "cell_type": "markdown",
   "id": "831899c8",
   "metadata": {
    "papermill": {
     "duration": 0.018179,
     "end_time": "2022-11-09T16:25:06.969000",
     "exception": false,
     "start_time": "2022-11-09T16:25:06.950821",
     "status": "completed"
    },
    "tags": []
   },
   "source": [
    "<span style=\"padding-left:20px; font-size:18px; color:#339; font-weight:bold\">4.2.3 Price Trends & Outliers</span>"
   ]
  },
  {
   "cell_type": "code",
   "execution_count": 23,
   "id": "489fc297",
   "metadata": {
    "execution": {
     "iopub.execute_input": "2022-11-09T16:25:07.008945Z",
     "iopub.status.busy": "2022-11-09T16:25:07.008547Z",
     "iopub.status.idle": "2022-11-09T16:25:07.057978Z",
     "shell.execute_reply": "2022-11-09T16:25:07.056652Z"
    },
    "papermill": {
     "duration": 0.073169,
     "end_time": "2022-11-09T16:25:07.060882",
     "exception": false,
     "start_time": "2022-11-09T16:25:06.987713",
     "status": "completed"
    },
    "tags": []
   },
   "outputs": [
    {
     "data": {
      "text/html": [
       "<div>                            <div id=\"0b181c98-0425-43fa-b862-0447e6e0faa1\" class=\"plotly-graph-div\" style=\"height:525px; width:100%;\"></div>            <script type=\"text/javascript\">                require([\"plotly\"], function(Plotly) {                    window.PLOTLYENV=window.PLOTLYENV || {};                                    if (document.getElementById(\"0b181c98-0425-43fa-b862-0447e6e0faa1\")) {                    Plotly.newPlot(                        \"0b181c98-0425-43fa-b862-0447e6e0faa1\",                        [{\"name\":\"Price\",\"x\":[8,22,15,6,12,11,30,15,3,8,8,2,32,5,17,4,6,6,8,13,14,14,13,9,13,5,9,14,5,11,24,21,11,11,15,13,13,18,13,8,5,5,0,4,18,28,11,11,11,16,14,14,14,8,4,5,11,11,10,13,4,8,4,5,5,5,5,17,15,105,105,0,15,22,5,15,15,6,6,13,12,6,8,4,4,8,8,6,20,5,16,1,14,9,9,7,18,15,15,9,8,8,15,2,7,11,14,14,32,6,4,4,4,4,4,9,0,9,5,5,5,20,16,4,4,4,4,4,12,12,12,11,19,9,6,10,10,9,6,14,14,14,14,5,5,5,7,7,10,14,7,54,11,30,12,18,30,22,9,52,4,10,10,14,14,22,11,11,11,11,11,16,15,15,17,17,7,7,4,4,9,21,14,20,13,13,12,8,8,8,8,8,8,0,12,17,12,25,10,10,6,5,6,8,4,4,4,13,4,4,4,4,4,13,21,6,15,18,10,0,12,7,13,5,5,16,20,11,27,8,8,8,6,10,10,10,8,8,8,16,11,10,9,14,22,8,8,8,8,8,8,8,8,7,12,13,13,9,13,11,20,20,5,5,2,27,27,27,9,10,10,46,46,46,46,46,46,46,46,46,46,4,20,7,9,9,12,12,12,12,20,20,10,6,6,9,11,16,6,25,17,20,20,6,17,17,17,17,17,17,17,17,17,18,13,18,20,20,22,21,28,28,28,28,28,8,8,8,8,8,12,24,24,24,24,16,16,16,39,9,10,10,17,11,14,12,53,6,6,8,8,12,12,12,21,6,6,13,0,11,9,9,9,15,11,13,13,7,13,6,6,6,6,6,9,6,6,6,6,6,6,0,18,7,14,14,9,16,2,2,5,5,20,20,7,7,7,14,10,7,13,11,6,6,8,7,14,14,8,8,30,30,13,9,9,7,7,9,7,7,20,13,13,11,11,11,11,18,14,19,13,5,10,9,8,8,12,11,11,40,40,40,40,40,36,16,17,14,21,18,17,5,5,21,18,18,12,14,12,8,8,0,14,10,15,15,15,9,7,10,6,9,10,82,12,10,5,5,5,5,5,5,5,16,16,16,10,10,10,10,4,4,16,15,19,19,9,23,11,11,23,23,23,23,12,0,0,0,0,7,21,21,15,9,5,16,16,16,13,16,20,11,4,9,42,12,18,17,14,13,9,6,6,14,15,13,12,18,15,11,9,9,9,9,9,8,8,8,8,8],\"type\":\"box\",\"marker\":{\"color\":\"#aaa662\"}}],                        {\"template\":{\"data\":{\"barpolar\":[{\"marker\":{\"line\":{\"color\":\"white\",\"width\":0.5},\"pattern\":{\"fillmode\":\"overlay\",\"size\":10,\"solidity\":0.2}},\"type\":\"barpolar\"}],\"bar\":[{\"error_x\":{\"color\":\"rgb(36,36,36)\"},\"error_y\":{\"color\":\"rgb(36,36,36)\"},\"marker\":{\"line\":{\"color\":\"white\",\"width\":0.5},\"pattern\":{\"fillmode\":\"overlay\",\"size\":10,\"solidity\":0.2}},\"type\":\"bar\"}],\"carpet\":[{\"aaxis\":{\"endlinecolor\":\"rgb(36,36,36)\",\"gridcolor\":\"white\",\"linecolor\":\"white\",\"minorgridcolor\":\"white\",\"startlinecolor\":\"rgb(36,36,36)\"},\"baxis\":{\"endlinecolor\":\"rgb(36,36,36)\",\"gridcolor\":\"white\",\"linecolor\":\"white\",\"minorgridcolor\":\"white\",\"startlinecolor\":\"rgb(36,36,36)\"},\"type\":\"carpet\"}],\"choropleth\":[{\"colorbar\":{\"outlinewidth\":1,\"tickcolor\":\"rgb(36,36,36)\",\"ticks\":\"outside\"},\"type\":\"choropleth\"}],\"contourcarpet\":[{\"colorbar\":{\"outlinewidth\":1,\"tickcolor\":\"rgb(36,36,36)\",\"ticks\":\"outside\"},\"type\":\"contourcarpet\"}],\"contour\":[{\"colorbar\":{\"outlinewidth\":1,\"tickcolor\":\"rgb(36,36,36)\",\"ticks\":\"outside\"},\"colorscale\":[[0.0,\"#440154\"],[0.1111111111111111,\"#482878\"],[0.2222222222222222,\"#3e4989\"],[0.3333333333333333,\"#31688e\"],[0.4444444444444444,\"#26828e\"],[0.5555555555555556,\"#1f9e89\"],[0.6666666666666666,\"#35b779\"],[0.7777777777777778,\"#6ece58\"],[0.8888888888888888,\"#b5de2b\"],[1.0,\"#fde725\"]],\"type\":\"contour\"}],\"heatmapgl\":[{\"colorbar\":{\"outlinewidth\":1,\"tickcolor\":\"rgb(36,36,36)\",\"ticks\":\"outside\"},\"colorscale\":[[0.0,\"#440154\"],[0.1111111111111111,\"#482878\"],[0.2222222222222222,\"#3e4989\"],[0.3333333333333333,\"#31688e\"],[0.4444444444444444,\"#26828e\"],[0.5555555555555556,\"#1f9e89\"],[0.6666666666666666,\"#35b779\"],[0.7777777777777778,\"#6ece58\"],[0.8888888888888888,\"#b5de2b\"],[1.0,\"#fde725\"]],\"type\":\"heatmapgl\"}],\"heatmap\":[{\"colorbar\":{\"outlinewidth\":1,\"tickcolor\":\"rgb(36,36,36)\",\"ticks\":\"outside\"},\"colorscale\":[[0.0,\"#440154\"],[0.1111111111111111,\"#482878\"],[0.2222222222222222,\"#3e4989\"],[0.3333333333333333,\"#31688e\"],[0.4444444444444444,\"#26828e\"],[0.5555555555555556,\"#1f9e89\"],[0.6666666666666666,\"#35b779\"],[0.7777777777777778,\"#6ece58\"],[0.8888888888888888,\"#b5de2b\"],[1.0,\"#fde725\"]],\"type\":\"heatmap\"}],\"histogram2dcontour\":[{\"colorbar\":{\"outlinewidth\":1,\"tickcolor\":\"rgb(36,36,36)\",\"ticks\":\"outside\"},\"colorscale\":[[0.0,\"#440154\"],[0.1111111111111111,\"#482878\"],[0.2222222222222222,\"#3e4989\"],[0.3333333333333333,\"#31688e\"],[0.4444444444444444,\"#26828e\"],[0.5555555555555556,\"#1f9e89\"],[0.6666666666666666,\"#35b779\"],[0.7777777777777778,\"#6ece58\"],[0.8888888888888888,\"#b5de2b\"],[1.0,\"#fde725\"]],\"type\":\"histogram2dcontour\"}],\"histogram2d\":[{\"colorbar\":{\"outlinewidth\":1,\"tickcolor\":\"rgb(36,36,36)\",\"ticks\":\"outside\"},\"colorscale\":[[0.0,\"#440154\"],[0.1111111111111111,\"#482878\"],[0.2222222222222222,\"#3e4989\"],[0.3333333333333333,\"#31688e\"],[0.4444444444444444,\"#26828e\"],[0.5555555555555556,\"#1f9e89\"],[0.6666666666666666,\"#35b779\"],[0.7777777777777778,\"#6ece58\"],[0.8888888888888888,\"#b5de2b\"],[1.0,\"#fde725\"]],\"type\":\"histogram2d\"}],\"histogram\":[{\"marker\":{\"line\":{\"color\":\"white\",\"width\":0.6}},\"type\":\"histogram\"}],\"mesh3d\":[{\"colorbar\":{\"outlinewidth\":1,\"tickcolor\":\"rgb(36,36,36)\",\"ticks\":\"outside\"},\"type\":\"mesh3d\"}],\"parcoords\":[{\"line\":{\"colorbar\":{\"outlinewidth\":1,\"tickcolor\":\"rgb(36,36,36)\",\"ticks\":\"outside\"}},\"type\":\"parcoords\"}],\"pie\":[{\"automargin\":true,\"type\":\"pie\"}],\"scatter3d\":[{\"line\":{\"colorbar\":{\"outlinewidth\":1,\"tickcolor\":\"rgb(36,36,36)\",\"ticks\":\"outside\"}},\"marker\":{\"colorbar\":{\"outlinewidth\":1,\"tickcolor\":\"rgb(36,36,36)\",\"ticks\":\"outside\"}},\"type\":\"scatter3d\"}],\"scattercarpet\":[{\"marker\":{\"colorbar\":{\"outlinewidth\":1,\"tickcolor\":\"rgb(36,36,36)\",\"ticks\":\"outside\"}},\"type\":\"scattercarpet\"}],\"scattergeo\":[{\"marker\":{\"colorbar\":{\"outlinewidth\":1,\"tickcolor\":\"rgb(36,36,36)\",\"ticks\":\"outside\"}},\"type\":\"scattergeo\"}],\"scattergl\":[{\"marker\":{\"colorbar\":{\"outlinewidth\":1,\"tickcolor\":\"rgb(36,36,36)\",\"ticks\":\"outside\"}},\"type\":\"scattergl\"}],\"scattermapbox\":[{\"marker\":{\"colorbar\":{\"outlinewidth\":1,\"tickcolor\":\"rgb(36,36,36)\",\"ticks\":\"outside\"}},\"type\":\"scattermapbox\"}],\"scatterpolargl\":[{\"marker\":{\"colorbar\":{\"outlinewidth\":1,\"tickcolor\":\"rgb(36,36,36)\",\"ticks\":\"outside\"}},\"type\":\"scatterpolargl\"}],\"scatterpolar\":[{\"marker\":{\"colorbar\":{\"outlinewidth\":1,\"tickcolor\":\"rgb(36,36,36)\",\"ticks\":\"outside\"}},\"type\":\"scatterpolar\"}],\"scatter\":[{\"fillpattern\":{\"fillmode\":\"overlay\",\"size\":10,\"solidity\":0.2},\"type\":\"scatter\"}],\"scatterternary\":[{\"marker\":{\"colorbar\":{\"outlinewidth\":1,\"tickcolor\":\"rgb(36,36,36)\",\"ticks\":\"outside\"}},\"type\":\"scatterternary\"}],\"surface\":[{\"colorbar\":{\"outlinewidth\":1,\"tickcolor\":\"rgb(36,36,36)\",\"ticks\":\"outside\"},\"colorscale\":[[0.0,\"#440154\"],[0.1111111111111111,\"#482878\"],[0.2222222222222222,\"#3e4989\"],[0.3333333333333333,\"#31688e\"],[0.4444444444444444,\"#26828e\"],[0.5555555555555556,\"#1f9e89\"],[0.6666666666666666,\"#35b779\"],[0.7777777777777778,\"#6ece58\"],[0.8888888888888888,\"#b5de2b\"],[1.0,\"#fde725\"]],\"type\":\"surface\"}],\"table\":[{\"cells\":{\"fill\":{\"color\":\"rgb(237,237,237)\"},\"line\":{\"color\":\"white\"}},\"header\":{\"fill\":{\"color\":\"rgb(217,217,217)\"},\"line\":{\"color\":\"white\"}},\"type\":\"table\"}]},\"layout\":{\"annotationdefaults\":{\"arrowhead\":0,\"arrowwidth\":1},\"autotypenumbers\":\"strict\",\"coloraxis\":{\"colorbar\":{\"outlinewidth\":1,\"tickcolor\":\"rgb(36,36,36)\",\"ticks\":\"outside\"}},\"colorscale\":{\"diverging\":[[0.0,\"rgb(103,0,31)\"],[0.1,\"rgb(178,24,43)\"],[0.2,\"rgb(214,96,77)\"],[0.3,\"rgb(244,165,130)\"],[0.4,\"rgb(253,219,199)\"],[0.5,\"rgb(247,247,247)\"],[0.6,\"rgb(209,229,240)\"],[0.7,\"rgb(146,197,222)\"],[0.8,\"rgb(67,147,195)\"],[0.9,\"rgb(33,102,172)\"],[1.0,\"rgb(5,48,97)\"]],\"sequential\":[[0.0,\"#440154\"],[0.1111111111111111,\"#482878\"],[0.2222222222222222,\"#3e4989\"],[0.3333333333333333,\"#31688e\"],[0.4444444444444444,\"#26828e\"],[0.5555555555555556,\"#1f9e89\"],[0.6666666666666666,\"#35b779\"],[0.7777777777777778,\"#6ece58\"],[0.8888888888888888,\"#b5de2b\"],[1.0,\"#fde725\"]],\"sequentialminus\":[[0.0,\"#440154\"],[0.1111111111111111,\"#482878\"],[0.2222222222222222,\"#3e4989\"],[0.3333333333333333,\"#31688e\"],[0.4444444444444444,\"#26828e\"],[0.5555555555555556,\"#1f9e89\"],[0.6666666666666666,\"#35b779\"],[0.7777777777777778,\"#6ece58\"],[0.8888888888888888,\"#b5de2b\"],[1.0,\"#fde725\"]]},\"colorway\":[\"#1F77B4\",\"#FF7F0E\",\"#2CA02C\",\"#D62728\",\"#9467BD\",\"#8C564B\",\"#E377C2\",\"#7F7F7F\",\"#BCBD22\",\"#17BECF\"],\"font\":{\"color\":\"rgb(36,36,36)\"},\"geo\":{\"bgcolor\":\"white\",\"lakecolor\":\"white\",\"landcolor\":\"white\",\"showlakes\":true,\"showland\":true,\"subunitcolor\":\"white\"},\"hoverlabel\":{\"align\":\"left\"},\"hovermode\":\"closest\",\"mapbox\":{\"style\":\"light\"},\"paper_bgcolor\":\"white\",\"plot_bgcolor\":\"white\",\"polar\":{\"angularaxis\":{\"gridcolor\":\"rgb(232,232,232)\",\"linecolor\":\"rgb(36,36,36)\",\"showgrid\":false,\"showline\":true,\"ticks\":\"outside\"},\"bgcolor\":\"white\",\"radialaxis\":{\"gridcolor\":\"rgb(232,232,232)\",\"linecolor\":\"rgb(36,36,36)\",\"showgrid\":false,\"showline\":true,\"ticks\":\"outside\"}},\"scene\":{\"xaxis\":{\"backgroundcolor\":\"white\",\"gridcolor\":\"rgb(232,232,232)\",\"gridwidth\":2,\"linecolor\":\"rgb(36,36,36)\",\"showbackground\":true,\"showgrid\":false,\"showline\":true,\"ticks\":\"outside\",\"zeroline\":false,\"zerolinecolor\":\"rgb(36,36,36)\"},\"yaxis\":{\"backgroundcolor\":\"white\",\"gridcolor\":\"rgb(232,232,232)\",\"gridwidth\":2,\"linecolor\":\"rgb(36,36,36)\",\"showbackground\":true,\"showgrid\":false,\"showline\":true,\"ticks\":\"outside\",\"zeroline\":false,\"zerolinecolor\":\"rgb(36,36,36)\"},\"zaxis\":{\"backgroundcolor\":\"white\",\"gridcolor\":\"rgb(232,232,232)\",\"gridwidth\":2,\"linecolor\":\"rgb(36,36,36)\",\"showbackground\":true,\"showgrid\":false,\"showline\":true,\"ticks\":\"outside\",\"zeroline\":false,\"zerolinecolor\":\"rgb(36,36,36)\"}},\"shapedefaults\":{\"fillcolor\":\"black\",\"line\":{\"width\":0},\"opacity\":0.3},\"ternary\":{\"aaxis\":{\"gridcolor\":\"rgb(232,232,232)\",\"linecolor\":\"rgb(36,36,36)\",\"showgrid\":false,\"showline\":true,\"ticks\":\"outside\"},\"baxis\":{\"gridcolor\":\"rgb(232,232,232)\",\"linecolor\":\"rgb(36,36,36)\",\"showgrid\":false,\"showline\":true,\"ticks\":\"outside\"},\"bgcolor\":\"white\",\"caxis\":{\"gridcolor\":\"rgb(232,232,232)\",\"linecolor\":\"rgb(36,36,36)\",\"showgrid\":false,\"showline\":true,\"ticks\":\"outside\"}},\"title\":{\"x\":0.05},\"xaxis\":{\"automargin\":true,\"gridcolor\":\"rgb(232,232,232)\",\"linecolor\":\"rgb(36,36,36)\",\"showgrid\":false,\"showline\":true,\"ticks\":\"outside\",\"title\":{\"standoff\":15},\"zeroline\":false,\"zerolinecolor\":\"rgb(36,36,36)\"},\"yaxis\":{\"automargin\":true,\"gridcolor\":\"rgb(232,232,232)\",\"linecolor\":\"rgb(36,36,36)\",\"showgrid\":false,\"showline\":true,\"ticks\":\"outside\",\"title\":{\"standoff\":15},\"zeroline\":false,\"zerolinecolor\":\"rgb(36,36,36)\"}}},\"xaxis\":{\"anchor\":\"y\",\"domain\":[0.0,1.0]},\"yaxis\":{\"anchor\":\"x\",\"domain\":[0.0,1.0]},\"font\":{\"family\":\"Arial\",\"size\":12,\"color\":\"black\"},\"title\":{\"text\":\"Price Trends & Outliers\"},\"showlegend\":false},                        {\"responsive\": true}                    ).then(function(){\n",
       "                            \n",
       "var gd = document.getElementById('0b181c98-0425-43fa-b862-0447e6e0faa1');\n",
       "var x = new MutationObserver(function (mutations, observer) {{\n",
       "        var display = window.getComputedStyle(gd).display;\n",
       "        if (!display || display === 'none') {{\n",
       "            console.log([gd, 'removed!']);\n",
       "            Plotly.purge(gd);\n",
       "            observer.disconnect();\n",
       "        }}\n",
       "}});\n",
       "\n",
       "// Listen for the removal of the full notebook cells\n",
       "var notebookContainer = gd.closest('#notebook-container');\n",
       "if (notebookContainer) {{\n",
       "    x.observe(notebookContainer, {childList: true});\n",
       "}}\n",
       "\n",
       "// Listen for the clearing of the current output cell\n",
       "var outputEl = gd.closest('.output');\n",
       "if (outputEl) {{\n",
       "    x.observe(outputEl, {childList: true});\n",
       "}}\n",
       "\n",
       "                        })                };                });            </script>        </div>"
      ]
     },
     "metadata": {},
     "output_type": "display_data"
    }
   ],
   "source": [
    "# Let's set the visualization parameters\n",
    "price_bp = make_subplots(rows=1, cols=1, specs=[[{'type': 'xy'}]])\n",
    "\n",
    "# Setting Box parameters\n",
    "price_bp.add_trace(go.Box(x=df['Price'], \n",
    "                       name='Price'))\n",
    "\n",
    "# Setting the parameters of the Box when displaying\n",
    "price_bp.update_traces(marker_color='#aaa662')\n",
    "\n",
    "# Setting the parameters of the Box when displaying\n",
    "price_bp.update_layout(title='Price Trends & Outliers', showlegend=False, \n",
    "                    template='simple_white', \n",
    "                    font=dict(family='Arial', \n",
    "                              size=12, \n",
    "                              color='black'))\n",
    "\n",
    "# Displaying the Box\n",
    "price_bp.show()"
   ]
  },
  {
   "cell_type": "markdown",
   "id": "26831c1a",
   "metadata": {
    "execution": {
     "iopub.execute_input": "2022-11-09T03:32:23.285457Z",
     "iopub.status.busy": "2022-11-09T03:32:23.285086Z",
     "iopub.status.idle": "2022-11-09T03:32:23.296056Z",
     "shell.execute_reply": "2022-11-09T03:32:23.293924Z",
     "shell.execute_reply.started": "2022-11-09T03:32:23.285430Z"
    },
    "papermill": {
     "duration": 0.018051,
     "end_time": "2022-11-09T16:25:07.098857",
     "exception": false,
     "start_time": "2022-11-09T16:25:07.080806",
     "status": "completed"
    },
    "tags": []
   },
   "source": [
    "<span style=\"font-size:16px; font-weight:bold\">✔️ INSIGHT: <br/></span>\n",
    "<span style=\"font-size:16px;\">By analyzing the numeric data, it is established:</span>\n",
    "\n",
    "<span style=\"font-size:16px;\"><p style=\"font-weight:bold\">User Rating:<br/></p></span>\n",
    "\n",
    "<span style=\"font-size:16px;\">1. Data is not distributed normally. Asymmetry is observed.<br/></span>\n",
    "<span style=\"font-size:16px;\">2. Average and median book ratings are 4.7.<br/></span>\n",
    "<span style=\"font-size:16px;\">3. There are outliers in the data. There are a small number of books in the data below the 4.1 rating.<br/></span>\n",
    "\n",
    "<span style=\"font-size:16px;\"><p style=\"font-weight:bold\">Reviews:<br/></p></span>\n",
    "\n",
    "<span style=\"font-size:16px;\">1. Data is not distributed normally. Asymmetry is observed.<br/></span>\n",
    "<span style=\"font-size:16px;\">2. The data has a wide range.<br/></span>\n",
    "<span style=\"font-size:16px;\">3. There are outliers in the data. There are a small number of books receiving reviews well above the 75 percentile.<br/></span>\n",
    "\n",
    "<span style=\"font-size:16px;\"><p style=\"font-weight:bold\">Price:<br/></p></span>\n",
    "\n",
    "<span style=\"font-size:16px;\">1. Data is not distributed normally. Asymmetry is observed.<br/></span>\n",
    "<span style=\"font-size:16px;\">2. There are books that cost much higher than the average, as well as books with a cost of 0, which is strange.There are books that cost much higher than the average, as well as books with a cost of 0, which is strange. Either the book is given for free or this error.<br/></span>"
   ]
  },
  {
   "cell_type": "markdown",
   "id": "1d4dfcea",
   "metadata": {
    "papermill": {
     "duration": 0.017196,
     "end_time": "2022-11-09T16:25:07.133940",
     "exception": false,
     "start_time": "2022-11-09T16:25:07.116744",
     "status": "completed"
    },
    "tags": []
   },
   "source": [
    "<span style=\"padding-left:17px; font-size:18px; color:#339; font-weight:bold\">4.3. Correlation In The Data</span>"
   ]
  },
  {
   "cell_type": "markdown",
   "id": "b8324b1c",
   "metadata": {
    "papermill": {
     "duration": 0.017833,
     "end_time": "2022-11-09T16:25:07.169984",
     "exception": false,
     "start_time": "2022-11-09T16:25:07.152151",
     "status": "completed"
    },
    "tags": []
   },
   "source": [
    "<span style=\"font-size:16px;\">Let's look at the correlation in the data.</span>"
   ]
  },
  {
   "cell_type": "code",
   "execution_count": 24,
   "id": "ea35c391",
   "metadata": {
    "execution": {
     "iopub.execute_input": "2022-11-09T16:25:07.211348Z",
     "iopub.status.busy": "2022-11-09T16:25:07.210622Z",
     "iopub.status.idle": "2022-11-09T16:25:07.466000Z",
     "shell.execute_reply": "2022-11-09T16:25:07.463972Z"
    },
    "papermill": {
     "duration": 0.279319,
     "end_time": "2022-11-09T16:25:07.468802",
     "exception": false,
     "start_time": "2022-11-09T16:25:07.189483",
     "status": "completed"
    },
    "tags": []
   },
   "outputs": [
    {
     "name": "stdout",
     "output_type": "stream",
     "text": [
      "\u001b[1mPairwise correlation of all columns in the dataframe\n",
      "\n",
      "\n"
     ]
    },
    {
     "data": {
      "text/plain": [
       "<AxesSubplot:>"
      ]
     },
     "execution_count": 24,
     "metadata": {},
     "output_type": "execute_result"
    },
    {
     "data": {
      "image/png": "[encoded data removed]",
      "text/plain": [
       "<Figure size 432x288 with 2 Axes>"
      ]
     },
     "metadata": {
      "needs_background": "light"
     },
     "output_type": "display_data"
    }
   ],
   "source": [
    "# Correlation in the data\n",
    "print('\\033[1m'+\"Pairwise correlation of all columns in the dataframe\")\n",
    "print()\n",
    "df.corr()\n",
    "print()\n",
    "sns.heatmap(df.corr(),annot=True,cmap=\"vlag\")"
   ]
  },
  {
   "cell_type": "markdown",
   "id": "19c2fabb",
   "metadata": {
    "papermill": {
     "duration": 0.018363,
     "end_time": "2022-11-09T16:25:07.506529",
     "exception": false,
     "start_time": "2022-11-09T16:25:07.488166",
     "status": "completed"
    },
    "tags": []
   },
   "source": [
    "<span style=\"font-size:18px; color:#339;\">"
   ]
  },
  {
   "cell_type": "markdown",
   "id": "376a0cc6",
   "metadata": {
    "papermill": {
     "duration": 0.017981,
     "end_time": "2022-11-09T16:25:07.543240",
     "exception": false,
     "start_time": "2022-11-09T16:25:07.525259",
     "status": "completed"
    },
    "tags": []
   },
   "source": [
    "<span style=\"padding-left:20px; font-size:18px; color:#339; font-weight:bold\">4.3.1 Reviews vs. User Rating</span>"
   ]
  },
  {
   "cell_type": "code",
   "execution_count": 25,
   "id": "8772912c",
   "metadata": {
    "execution": {
     "iopub.execute_input": "2022-11-09T16:25:07.582134Z",
     "iopub.status.busy": "2022-11-09T16:25:07.581724Z",
     "iopub.status.idle": "2022-11-09T16:25:07.852683Z",
     "shell.execute_reply": "2022-11-09T16:25:07.851004Z"
    },
    "papermill": {
     "duration": 0.293558,
     "end_time": "2022-11-09T16:25:07.855483",
     "exception": false,
     "start_time": "2022-11-09T16:25:07.561925",
     "status": "completed"
    },
    "tags": []
   },
   "outputs": [
    {
     "data": {
      "text/plain": [
       "<AxesSubplot:xlabel='User Rating', ylabel='Reviews'>"
      ]
     },
     "execution_count": 25,
     "metadata": {},
     "output_type": "execute_result"
    },
    {
     "data": {
      "image/png": "[encoded data removed]",
      "text/plain": [
       "<Figure size 432x288 with 1 Axes>"
      ]
     },
     "metadata": {
      "needs_background": "light"
     },
     "output_type": "display_data"
    }
   ],
   "source": [
    "# Correlation between reviews and user rating\n",
    "color_dict = dict({'Non Fiction':'#aaa662', 'Fiction':'#9a0eea'})\n",
    "sns.scatterplot(data=df, x=\"User Rating\", y=\"Reviews\", hue=\"Genre\", palette=color_dict)"
   ]
  },
  {
   "cell_type": "markdown",
   "id": "e1927148",
   "metadata": {
    "papermill": {
     "duration": 0.019956,
     "end_time": "2022-11-09T16:25:07.896619",
     "exception": false,
     "start_time": "2022-11-09T16:25:07.876663",
     "status": "completed"
    },
    "tags": []
   },
   "source": [
    "<span style=\"padding-left:20px; font-size:18px; color:#339; font-weight:bold\">4.3.2 Price vs. User Rating</span>"
   ]
  },
  {
   "cell_type": "code",
   "execution_count": 26,
   "id": "ad850c71",
   "metadata": {
    "execution": {
     "iopub.execute_input": "2022-11-09T16:25:07.938098Z",
     "iopub.status.busy": "2022-11-09T16:25:07.937703Z",
     "iopub.status.idle": "2022-11-09T16:25:08.212936Z",
     "shell.execute_reply": "2022-11-09T16:25:08.211520Z"
    },
    "papermill": {
     "duration": 0.29937,
     "end_time": "2022-11-09T16:25:08.215434",
     "exception": false,
     "start_time": "2022-11-09T16:25:07.916064",
     "status": "completed"
    },
    "tags": []
   },
   "outputs": [
    {
     "data": {
      "text/plain": [
       "<AxesSubplot:xlabel='User Rating', ylabel='Price'>"
      ]
     },
     "execution_count": 26,
     "metadata": {},
     "output_type": "execute_result"
    },
    {
     "data": {
      "image/png": "[encoded data removed]",
      "text/plain": [
       "<Figure size 432x288 with 1 Axes>"
      ]
     },
     "metadata": {
      "needs_background": "light"
     },
     "output_type": "display_data"
    }
   ],
   "source": [
    "# Correlation between price and user rating\n",
    "color_dict = dict({'Non Fiction':'#aaa662', 'Fiction':'#9a0eea'})\n",
    "sns.scatterplot(data=df, x=\"User Rating\", y=\"Price\", hue=\"Genre\", palette=color_dict)"
   ]
  },
  {
   "cell_type": "markdown",
   "id": "b031af1b",
   "metadata": {
    "papermill": {
     "duration": 0.019992,
     "end_time": "2022-11-09T16:25:08.254824",
     "exception": false,
     "start_time": "2022-11-09T16:25:08.234832",
     "status": "completed"
    },
    "tags": []
   },
   "source": [
    "<span style=\"padding-left:20px; font-size:18px; color:#339; font-weight:bold\">4.3.3 Reviews vs. Price</span>"
   ]
  },
  {
   "cell_type": "code",
   "execution_count": 27,
   "id": "75fa35b0",
   "metadata": {
    "execution": {
     "iopub.execute_input": "2022-11-09T16:25:08.296149Z",
     "iopub.status.busy": "2022-11-09T16:25:08.295767Z",
     "iopub.status.idle": "2022-11-09T16:25:08.535959Z",
     "shell.execute_reply": "2022-11-09T16:25:08.534996Z"
    },
    "papermill": {
     "duration": 0.262884,
     "end_time": "2022-11-09T16:25:08.538137",
     "exception": false,
     "start_time": "2022-11-09T16:25:08.275253",
     "status": "completed"
    },
    "tags": []
   },
   "outputs": [
    {
     "data": {
      "text/plain": [
       "<AxesSubplot:xlabel='Price', ylabel='Reviews'>"
      ]
     },
     "execution_count": 27,
     "metadata": {},
     "output_type": "execute_result"
    },
    {
     "data": {
      "image/png": "[encoded data removed]",
      "text/plain": [
       "<Figure size 432x288 with 1 Axes>"
      ]
     },
     "metadata": {
      "needs_background": "light"
     },
     "output_type": "display_data"
    }
   ],
   "source": [
    "# Correlation between reviews and price\n",
    "color_dict = dict({'Non Fiction':'#aaa662', 'Fiction':'#9a0eea'})\n",
    "sns.scatterplot(data=df, x=\"Price\", y=\"Reviews\", hue=\"Genre\", palette=color_dict)"
   ]
  },
  {
   "cell_type": "markdown",
   "id": "e45e4f20",
   "metadata": {
    "papermill": {
     "duration": 0.019484,
     "end_time": "2022-11-09T16:25:08.577903",
     "exception": false,
     "start_time": "2022-11-09T16:25:08.558419",
     "status": "completed"
    },
    "tags": []
   },
   "source": [
    "<span style=\"font-size:16px; font-weight:bold\">✔️ INSIGHT:</span>\n",
    "<span style=\"font-size:16px;\">Based on the constructed correlation matrix as well as the constructed visualizations, it can be seen that the data does not contain any positive or negative linear relationship between the rating, reviews and the price of books.</span>"
   ]
  },
  {
   "cell_type": "markdown",
   "id": "b6aeaa8e",
   "metadata": {
    "papermill": {
     "duration": 0.01947,
     "end_time": "2022-11-09T16:25:08.617285",
     "exception": false,
     "start_time": "2022-11-09T16:25:08.597815",
     "status": "completed"
    },
    "tags": []
   },
   "source": [
    "<span style=\"padding-left:17px; font-size:18px; color:#339; font-weight:bold\">4.4. The Most Popular Authors & The Most Popular Books</span>"
   ]
  },
  {
   "cell_type": "markdown",
   "id": "2880c94c",
   "metadata": {
    "papermill": {
     "duration": 0.019475,
     "end_time": "2022-11-09T16:25:08.657008",
     "exception": false,
     "start_time": "2022-11-09T16:25:08.637533",
     "status": "completed"
    },
    "tags": []
   },
   "source": [
    "<span style=\"padding-left:20px; font-size:18px; color:#339; font-weight:bold\">4.4.1 The Most Popular Author</span>"
   ]
  },
  {
   "cell_type": "code",
   "execution_count": 28,
   "id": "95c69e97",
   "metadata": {
    "execution": {
     "iopub.execute_input": "2022-11-09T16:25:08.698563Z",
     "iopub.status.busy": "2022-11-09T16:25:08.698154Z",
     "iopub.status.idle": "2022-11-09T16:25:08.719789Z",
     "shell.execute_reply": "2022-11-09T16:25:08.718257Z"
    },
    "papermill": {
     "duration": 0.04535,
     "end_time": "2022-11-09T16:25:08.721906",
     "exception": false,
     "start_time": "2022-11-09T16:25:08.676556",
     "status": "completed"
    },
    "tags": []
   },
   "outputs": [
    {
     "data": {
      "text/html": [
       "<div>\n",
       "<style scoped>\n",
       "    .dataframe tbody tr th:only-of-type {\n",
       "        vertical-align: middle;\n",
       "    }\n",
       "\n",
       "    .dataframe tbody tr th {\n",
       "        vertical-align: top;\n",
       "    }\n",
       "\n",
       "    .dataframe thead th {\n",
       "        text-align: right;\n",
       "    }\n",
       "</style>\n",
       "<table border=\"1\" class=\"dataframe\">\n",
       "  <thead>\n",
       "    <tr style=\"text-align: right;\">\n",
       "      <th></th>\n",
       "      <th>User Rating</th>\n",
       "      <th>Reviews</th>\n",
       "      <th>Total Books</th>\n",
       "    </tr>\n",
       "    <tr>\n",
       "      <th>Author</th>\n",
       "      <th></th>\n",
       "      <th></th>\n",
       "      <th></th>\n",
       "    </tr>\n",
       "  </thead>\n",
       "  <tbody>\n",
       "    <tr>\n",
       "      <th>Eric Carle</th>\n",
       "      <td>4.9</td>\n",
       "      <td>136822</td>\n",
       "      <td>7</td>\n",
       "    </tr>\n",
       "    <tr>\n",
       "      <th>Sarah Young</th>\n",
       "      <td>4.9</td>\n",
       "      <td>117456</td>\n",
       "      <td>6</td>\n",
       "    </tr>\n",
       "    <tr>\n",
       "      <th>Dav Pilkey</th>\n",
       "      <td>4.9</td>\n",
       "      <td>51496</td>\n",
       "      <td>7</td>\n",
       "    </tr>\n",
       "    <tr>\n",
       "      <th>Emily Winfield Martin</th>\n",
       "      <td>4.9</td>\n",
       "      <td>35368</td>\n",
       "      <td>4</td>\n",
       "    </tr>\n",
       "    <tr>\n",
       "      <th>Bill Martin Jr.</th>\n",
       "      <td>4.9</td>\n",
       "      <td>28688</td>\n",
       "      <td>2</td>\n",
       "    </tr>\n",
       "    <tr>\n",
       "      <th>Sherri Duskey Rinker</th>\n",
       "      <td>4.9</td>\n",
       "      <td>14076</td>\n",
       "      <td>2</td>\n",
       "    </tr>\n",
       "    <tr>\n",
       "      <th>Jill Twiss</th>\n",
       "      <td>4.9</td>\n",
       "      <td>11881</td>\n",
       "      <td>1</td>\n",
       "    </tr>\n",
       "    <tr>\n",
       "      <th>Rush Limbaugh</th>\n",
       "      <td>4.9</td>\n",
       "      <td>10986</td>\n",
       "      <td>2</td>\n",
       "    </tr>\n",
       "    <tr>\n",
       "      <th>Nathan W. Pyle</th>\n",
       "      <td>4.9</td>\n",
       "      <td>9382</td>\n",
       "      <td>1</td>\n",
       "    </tr>\n",
       "    <tr>\n",
       "      <th>Chip Gaines</th>\n",
       "      <td>4.9</td>\n",
       "      <td>7861</td>\n",
       "      <td>1</td>\n",
       "    </tr>\n",
       "  </tbody>\n",
       "</table>\n",
       "</div>"
      ],
      "text/plain": [
       "                       User Rating  Reviews  Total Books\n",
       "Author                                                  \n",
       "Eric Carle                     4.9   136822            7\n",
       "Sarah Young                    4.9   117456            6\n",
       "Dav Pilkey                     4.9    51496            7\n",
       "Emily Winfield Martin          4.9    35368            4\n",
       "Bill Martin Jr.                4.9    28688            2\n",
       "Sherri Duskey Rinker           4.9    14076            2\n",
       "Jill Twiss                     4.9    11881            1\n",
       "Rush Limbaugh                  4.9    10986            2\n",
       "Nathan W. Pyle                 4.9     9382            1\n",
       "Chip Gaines                    4.9     7861            1"
      ]
     },
     "execution_count": 28,
     "metadata": {},
     "output_type": "execute_result"
    }
   ],
   "source": [
    "# The most popular authors\n",
    "authors = df.groupby('Author').agg({'User Rating':'mean', 'Reviews':'sum', 'Name': 'count'}).rename({'Name': 'Total Books'}, axis = 1)\n",
    "authors.sort_values(['User Rating', 'Reviews'], ascending = (False, False)).head(10)"
   ]
  },
  {
   "cell_type": "code",
   "execution_count": 29,
   "id": "110559ff",
   "metadata": {
    "execution": {
     "iopub.execute_input": "2022-11-09T16:25:08.764389Z",
     "iopub.status.busy": "2022-11-09T16:25:08.763511Z",
     "iopub.status.idle": "2022-11-09T16:25:09.042864Z",
     "shell.execute_reply": "2022-11-09T16:25:09.041500Z"
    },
    "papermill": {
     "duration": 0.303751,
     "end_time": "2022-11-09T16:25:09.045538",
     "exception": false,
     "start_time": "2022-11-09T16:25:08.741787",
     "status": "completed"
    },
    "tags": []
   },
   "outputs": [
    {
     "data": {
      "image/png": "[encoded data removed]",
      "text/plain": [
       "<Figure size 576x288 with 1 Axes>"
      ]
     },
     "metadata": {},
     "output_type": "display_data"
    }
   ],
   "source": [
    "# Visualize most popular authors\n",
    "authors = df.groupby('Author').agg({'User Rating':'mean', 'Reviews':'sum', 'Name': 'count'}).rename({'Name': 'Total Books'}, axis = 1)\n",
    "authors = authors.sort_values(['User Rating', 'Reviews'], ascending = (False, False)).head(10).reset_index()\n",
    "\n",
    "sns.set(rc = {'figure.figsize': (8, 4)})\n",
    "ax = sns.barplot(x=\"Reviews\", y=\"Author\", data=authors, color=\"#aaa662\").set(title=\"Top 10 Popular Authors\", ylabel=None)"
   ]
  },
  {
   "cell_type": "markdown",
   "id": "217d0f14",
   "metadata": {
    "papermill": {
     "duration": 0.021037,
     "end_time": "2022-11-09T16:25:09.087774",
     "exception": false,
     "start_time": "2022-11-09T16:25:09.066737",
     "status": "completed"
    },
    "tags": []
   },
   "source": [
    "<span style=\"padding-left:20px; font-size:18px; color:#339; font-weight:bold\">4.4.2 The Most Popular Books</span>"
   ]
  },
  {
   "cell_type": "code",
   "execution_count": 30,
   "id": "b1488091",
   "metadata": {
    "execution": {
     "iopub.execute_input": "2022-11-09T16:25:09.131836Z",
     "iopub.status.busy": "2022-11-09T16:25:09.131423Z",
     "iopub.status.idle": "2022-11-09T16:25:09.148271Z",
     "shell.execute_reply": "2022-11-09T16:25:09.147345Z"
    },
    "papermill": {
     "duration": 0.042001,
     "end_time": "2022-11-09T16:25:09.150915",
     "exception": false,
     "start_time": "2022-11-09T16:25:09.108914",
     "status": "completed"
    },
    "tags": []
   },
   "outputs": [
    {
     "data": {
      "text/html": [
       "<div>\n",
       "<style scoped>\n",
       "    .dataframe tbody tr th:only-of-type {\n",
       "        vertical-align: middle;\n",
       "    }\n",
       "\n",
       "    .dataframe tbody tr th {\n",
       "        vertical-align: top;\n",
       "    }\n",
       "\n",
       "    .dataframe thead th {\n",
       "        text-align: right;\n",
       "    }\n",
       "</style>\n",
       "<table border=\"1\" class=\"dataframe\">\n",
       "  <thead>\n",
       "    <tr style=\"text-align: right;\">\n",
       "      <th></th>\n",
       "      <th>User Rating</th>\n",
       "      <th>Reviews</th>\n",
       "      <th>Total Books</th>\n",
       "    </tr>\n",
       "    <tr>\n",
       "      <th>Name</th>\n",
       "      <th></th>\n",
       "      <th></th>\n",
       "      <th></th>\n",
       "    </tr>\n",
       "  </thead>\n",
       "  <tbody>\n",
       "    <tr>\n",
       "      <th>Oh, The Places You'Ll Go!</th>\n",
       "      <td>4.9</td>\n",
       "      <td>174672</td>\n",
       "      <td>8</td>\n",
       "    </tr>\n",
       "    <tr>\n",
       "      <th>The Very Hungry Caterpillar</th>\n",
       "      <td>4.9</td>\n",
       "      <td>136822</td>\n",
       "      <td>7</td>\n",
       "    </tr>\n",
       "    <tr>\n",
       "      <th>Jesus Calling: Enjoying Peace In His Presence (With Scripture References)</th>\n",
       "      <td>4.9</td>\n",
       "      <td>117456</td>\n",
       "      <td>6</td>\n",
       "    </tr>\n",
       "    <tr>\n",
       "      <th>The Wonderful Things You Will Be</th>\n",
       "      <td>4.9</td>\n",
       "      <td>35368</td>\n",
       "      <td>4</td>\n",
       "    </tr>\n",
       "    <tr>\n",
       "      <th>Brown Bear, Brown Bear, What Do You See?</th>\n",
       "      <td>4.9</td>\n",
       "      <td>28688</td>\n",
       "      <td>2</td>\n",
       "    </tr>\n",
       "    <tr>\n",
       "      <th>Harry Potter And The Chamber Of Secrets: The Illustrated Edition (Harry Potter, Book 2)</th>\n",
       "      <td>4.9</td>\n",
       "      <td>19622</td>\n",
       "      <td>1</td>\n",
       "    </tr>\n",
       "    <tr>\n",
       "      <th>Dog Man: Brawl Of The Wild: From The Creator Of Captain Underpants (Dog Man #6)</th>\n",
       "      <td>4.9</td>\n",
       "      <td>14470</td>\n",
       "      <td>2</td>\n",
       "    </tr>\n",
       "    <tr>\n",
       "      <th>Goodnight, Goodnight Construction Site (Hardcover Books For Toddlers, Preschool Books For Kids)</th>\n",
       "      <td>4.9</td>\n",
       "      <td>14076</td>\n",
       "      <td>2</td>\n",
       "    </tr>\n",
       "    <tr>\n",
       "      <th>Dog Man: Fetch-22: From The Creator Of Captain Underpants (Dog Man #8)</th>\n",
       "      <td>4.9</td>\n",
       "      <td>12619</td>\n",
       "      <td>1</td>\n",
       "    </tr>\n",
       "    <tr>\n",
       "      <th>Last Week Tonight With John Oliver Presents A Day In The Life Of Marlon Bundo (Better Bundo Book, Lgbt ChildrenS Book)</th>\n",
       "      <td>4.9</td>\n",
       "      <td>11881</td>\n",
       "      <td>1</td>\n",
       "    </tr>\n",
       "  </tbody>\n",
       "</table>\n",
       "</div>"
      ],
      "text/plain": [
       "                                                    User Rating  Reviews  \\\n",
       "Name                                                                       \n",
       "Oh, The Places You'Ll Go!                                   4.9   174672   \n",
       "The Very Hungry Caterpillar                                 4.9   136822   \n",
       "Jesus Calling: Enjoying Peace In His Presence (...          4.9   117456   \n",
       "The Wonderful Things You Will Be                            4.9    35368   \n",
       "Brown Bear, Brown Bear, What Do You See?                    4.9    28688   \n",
       "Harry Potter And The Chamber Of Secrets: The Il...          4.9    19622   \n",
       "Dog Man: Brawl Of The Wild: From The Creator Of...          4.9    14470   \n",
       "Goodnight, Goodnight Construction Site (Hardcov...          4.9    14076   \n",
       "Dog Man: Fetch-22: From The Creator Of Captain ...          4.9    12619   \n",
       "Last Week Tonight With John Oliver Presents A D...          4.9    11881   \n",
       "\n",
       "                                                    Total Books  \n",
       "Name                                                             \n",
       "Oh, The Places You'Ll Go!                                     8  \n",
       "The Very Hungry Caterpillar                                   7  \n",
       "Jesus Calling: Enjoying Peace In His Presence (...            6  \n",
       "The Wonderful Things You Will Be                              4  \n",
       "Brown Bear, Brown Bear, What Do You See?                      2  \n",
       "Harry Potter And The Chamber Of Secrets: The Il...            1  \n",
       "Dog Man: Brawl Of The Wild: From The Creator Of...            2  \n",
       "Goodnight, Goodnight Construction Site (Hardcov...            2  \n",
       "Dog Man: Fetch-22: From The Creator Of Captain ...            1  \n",
       "Last Week Tonight With John Oliver Presents A D...            1  "
      ]
     },
     "execution_count": 30,
     "metadata": {},
     "output_type": "execute_result"
    }
   ],
   "source": [
    "# The moost popular books\n",
    "books = df.groupby('Name').agg({'User Rating':'mean', 'Reviews':'sum', 'Name': 'count'}).rename({'Name': 'Total Books'}, axis = 1)\n",
    "books.sort_values(['User Rating', 'Reviews'], ascending = (False, False)).head(10)"
   ]
  },
  {
   "cell_type": "code",
   "execution_count": 31,
   "id": "0c49dbab",
   "metadata": {
    "execution": {
     "iopub.execute_input": "2022-11-09T16:25:09.194179Z",
     "iopub.status.busy": "2022-11-09T16:25:09.193582Z",
     "iopub.status.idle": "2022-11-09T16:25:09.518696Z",
     "shell.execute_reply": "2022-11-09T16:25:09.517177Z"
    },
    "papermill": {
     "duration": 0.349954,
     "end_time": "2022-11-09T16:25:09.521416",
     "exception": false,
     "start_time": "2022-11-09T16:25:09.171462",
     "status": "completed"
    },
    "tags": []
   },
   "outputs": [
    {
     "name": "stderr",
     "output_type": "stream",
     "text": [
      "/opt/conda/lib/python3.7/site-packages/IPython/core/events.py:89: UserWarning:\n",
      "\n",
      "Glyph 146 (\\x92) missing from current font.\n",
      "\n",
      "/opt/conda/lib/python3.7/site-packages/IPython/core/pylabtools.py:151: UserWarning:\n",
      "\n",
      "Glyph 146 (\\x92) missing from current font.\n",
      "\n"
     ]
    },
    {
     "data": {
      "image/png": "[encoded data removed]",
      "text/plain": [
       "<Figure size 576x288 with 1 Axes>"
      ]
     },
     "metadata": {},
     "output_type": "display_data"
    }
   ],
   "source": [
    "# Visualize most popular books\n",
    "books = df.groupby('Name').agg({'User Rating':'mean', 'Reviews':'sum', 'Name': 'count'}).rename({'Name': 'Total Books'}, axis = 1)\n",
    "books = books.sort_values(['User Rating', 'Reviews'], ascending = (False, False)).head(10).reset_index()\n",
    "\n",
    "sns.set(rc = {'figure.figsize': (8, 4)})\n",
    "ax = sns.barplot(x=\"Reviews\", y=\"Name\", data=books, color=\"#aaa662\").set(title=\"Top 10 Popular Books\", ylabel=None)"
   ]
  },
  {
   "cell_type": "markdown",
   "id": "65cd7f67",
   "metadata": {
    "papermill": {
     "duration": 0.02107,
     "end_time": "2022-11-09T16:25:09.563761",
     "exception": false,
     "start_time": "2022-11-09T16:25:09.542691",
     "status": "completed"
    },
    "tags": []
   },
   "source": [
    "<span style=\"padding-left:17px; font-size:18px; color:#339; font-weight:bold\">4.5. Distribution of Data</span>"
   ]
  },
  {
   "cell_type": "markdown",
   "id": "25811e25",
   "metadata": {
    "papermill": {
     "duration": 0.020714,
     "end_time": "2022-11-09T16:25:09.605701",
     "exception": false,
     "start_time": "2022-11-09T16:25:09.584987",
     "status": "completed"
    },
    "tags": []
   },
   "source": [
    "<span style=\"padding-left:20px; font-size:18px; color:#339; font-weight:bold\">4.5.1 Distribution of User Rating</span>"
   ]
  },
  {
   "cell_type": "code",
   "execution_count": 32,
   "id": "8a4daf7e",
   "metadata": {
    "execution": {
     "iopub.execute_input": "2022-11-09T16:25:09.650138Z",
     "iopub.status.busy": "2022-11-09T16:25:09.649772Z",
     "iopub.status.idle": "2022-11-09T16:25:10.018967Z",
     "shell.execute_reply": "2022-11-09T16:25:10.018167Z"
    },
    "papermill": {
     "duration": 0.394157,
     "end_time": "2022-11-09T16:25:10.020964",
     "exception": false,
     "start_time": "2022-11-09T16:25:09.626807",
     "status": "completed"
    },
    "tags": []
   },
   "outputs": [
    {
     "data": {
      "image/png": "[encoded data removed]",
      "text/plain": [
       "<Figure size 576x288 with 1 Axes>"
      ]
     },
     "metadata": {},
     "output_type": "display_data"
    }
   ],
   "source": [
    "# Rating distribution\n",
    "plt.title('Distribution of User Rating')\n",
    "color_dict = dict({'Non Fiction':'#aaa662', 'Fiction':'#9a0eea'})\n",
    "sns.histplot(x = 'User Rating', hue = 'Genre', data = df, palette = color_dict);"
   ]
  },
  {
   "cell_type": "markdown",
   "id": "6eb1c7af",
   "metadata": {
    "papermill": {
     "duration": 0.021535,
     "end_time": "2022-11-09T16:25:10.063979",
     "exception": false,
     "start_time": "2022-11-09T16:25:10.042444",
     "status": "completed"
    },
    "tags": []
   },
   "source": [
    "<span style=\"font-size:16px; font-weight:bold\">✔️ INSIGHT:</span>\n",
    "<span style=\"font-size:16px;\">Users give the most ratings on the numbers 4.6, 4.7, and 4.8 and the maximum rating is at 4.8.</span>"
   ]
  },
  {
   "cell_type": "markdown",
   "id": "0142f943",
   "metadata": {
    "papermill": {
     "duration": 0.023361,
     "end_time": "2022-11-09T16:25:10.110316",
     "exception": false,
     "start_time": "2022-11-09T16:25:10.086955",
     "status": "completed"
    },
    "tags": []
   },
   "source": [
    "<span style=\"padding-left:20px; font-size:18px; color:#339; font-weight:bold\">4.5.2 Distribution of Review</span>"
   ]
  },
  {
   "cell_type": "code",
   "execution_count": 33,
   "id": "c63feec4",
   "metadata": {
    "execution": {
     "iopub.execute_input": "2022-11-09T16:25:10.159517Z",
     "iopub.status.busy": "2022-11-09T16:25:10.158787Z",
     "iopub.status.idle": "2022-11-09T16:25:10.529219Z",
     "shell.execute_reply": "2022-11-09T16:25:10.528005Z"
    },
    "papermill": {
     "duration": 0.398407,
     "end_time": "2022-11-09T16:25:10.531394",
     "exception": false,
     "start_time": "2022-11-09T16:25:10.132987",
     "status": "completed"
    },
    "tags": []
   },
   "outputs": [
    {
     "data": {
      "image/png": "[encoded data removed]",
      "text/plain": [
       "<Figure size 576x288 with 1 Axes>"
      ]
     },
     "metadata": {},
     "output_type": "display_data"
    }
   ],
   "source": [
    "# Reviews distribution\n",
    "plt.title('Distribution of Reviews')\n",
    "color_dict = dict({'Non Fiction':'#aaa662', 'Fiction':'#9a0eea'})\n",
    "sns.histplot(x = 'Reviews', hue = 'Genre', data = df, palette = color_dict);"
   ]
  },
  {
   "cell_type": "markdown",
   "id": "569d0b4a",
   "metadata": {
    "papermill": {
     "duration": 0.021207,
     "end_time": "2022-11-09T16:25:10.574165",
     "exception": false,
     "start_time": "2022-11-09T16:25:10.552958",
     "status": "completed"
    },
    "tags": []
   },
   "source": [
    "<span style=\"font-size:16px; font-weight:bold\">✔️ INSIGHT:</span>\n",
    "<span style=\"font-size:16px;\">The average number of reviews is under 20,000 for both genres.\n",
    "There are several reviews with a total of over 40,000 for the Fiction genre.</span>"
   ]
  },
  {
   "cell_type": "markdown",
   "id": "74ab6342",
   "metadata": {
    "papermill": {
     "duration": 0.021822,
     "end_time": "2022-11-09T16:25:10.617775",
     "exception": false,
     "start_time": "2022-11-09T16:25:10.595953",
     "status": "completed"
    },
    "tags": []
   },
   "source": [
    "<span style=\"padding-left:20px; font-size:18px; color:#339; font-weight:bold\">4.5.3 Distribution of Price</span>"
   ]
  },
  {
   "cell_type": "code",
   "execution_count": 34,
   "id": "13f9c817",
   "metadata": {
    "execution": {
     "iopub.execute_input": "2022-11-09T16:25:10.665236Z",
     "iopub.status.busy": "2022-11-09T16:25:10.664769Z",
     "iopub.status.idle": "2022-11-09T16:25:11.113644Z",
     "shell.execute_reply": "2022-11-09T16:25:11.111716Z"
    },
    "papermill": {
     "duration": 0.476796,
     "end_time": "2022-11-09T16:25:11.116755",
     "exception": false,
     "start_time": "2022-11-09T16:25:10.639959",
     "status": "completed"
    },
    "tags": []
   },
   "outputs": [
    {
     "data": {
      "image/png": "[encoded data removed]",
      "text/plain": [
       "<Figure size 576x288 with 1 Axes>"
      ]
     },
     "metadata": {},
     "output_type": "display_data"
    }
   ],
   "source": [
    "# Price distribution\n",
    "plt.title('Distribution of Price')\n",
    "color_dict = dict({'Non Fiction':'#aaa662', 'Fiction':'#9a0eea'})\n",
    "sns.histplot(x = 'Price', hue = 'Genre', data = df, palette = color_dict);"
   ]
  },
  {
   "cell_type": "markdown",
   "id": "6c0fb7d0",
   "metadata": {
    "papermill": {
     "duration": 0.022968,
     "end_time": "2022-11-09T16:25:11.162878",
     "exception": false,
     "start_time": "2022-11-09T16:25:11.139910",
     "status": "completed"
    },
    "tags": []
   },
   "source": [
    "<span style=\"font-size:16px; font-weight:bold\">✔️ INSIGHT:</span>\n",
    "<span style=\"font-size:16px;\">The price range is mostly under 20.\n",
    "There are only a few that are in the range above 20 and above 40.</span>"
   ]
  },
  {
   "cell_type": "markdown",
   "id": "f2f12882",
   "metadata": {
    "papermill": {
     "duration": 0.022135,
     "end_time": "2022-11-09T16:25:11.207023",
     "exception": false,
     "start_time": "2022-11-09T16:25:11.184888",
     "status": "completed"
    },
    "tags": []
   },
   "source": [
    "<span style=\"padding-left:17px; font-size:18px; color:#339; font-weight:bold\">4.6. Yearly Trends</span>"
   ]
  },
  {
   "cell_type": "markdown",
   "id": "3c6aebce",
   "metadata": {
    "papermill": {
     "duration": 0.022069,
     "end_time": "2022-11-09T16:25:11.251705",
     "exception": false,
     "start_time": "2022-11-09T16:25:11.229636",
     "status": "completed"
    },
    "tags": []
   },
   "source": [
    "<span style=\"padding-left:20px; font-size:18px; color:#339; font-weight:bold\">4.6.1 Average Ratings by Year</span>"
   ]
  },
  {
   "cell_type": "code",
   "execution_count": 35,
   "id": "f9c4f044",
   "metadata": {
    "execution": {
     "iopub.execute_input": "2022-11-09T16:25:11.297990Z",
     "iopub.status.busy": "2022-11-09T16:25:11.297673Z",
     "iopub.status.idle": "2022-11-09T16:25:11.506998Z",
     "shell.execute_reply": "2022-11-09T16:25:11.505497Z"
    },
    "papermill": {
     "duration": 0.235346,
     "end_time": "2022-11-09T16:25:11.509694",
     "exception": false,
     "start_time": "2022-11-09T16:25:11.274348",
     "status": "completed"
    },
    "tags": []
   },
   "outputs": [
    {
     "data": {
      "image/png": "[encoded data removed]",
      "text/plain": [
       "<Figure size 576x288 with 1 Axes>"
      ]
     },
     "metadata": {},
     "output_type": "display_data"
    }
   ],
   "source": [
    "# Average ratings by year\n",
    "df.groupby('Year')['User Rating'].mean().plot(marker = 'o', c = '#9a0eea')\n",
    "plt.title('Average Ratings by Year')\n",
    "plt.xlabel('Year')\n",
    "plt.ylabel('Average Ratings');"
   ]
  },
  {
   "cell_type": "markdown",
   "id": "01d915ae",
   "metadata": {
    "papermill": {
     "duration": 0.021564,
     "end_time": "2022-11-09T16:25:11.553248",
     "exception": false,
     "start_time": "2022-11-09T16:25:11.531684",
     "status": "completed"
    },
    "tags": []
   },
   "source": [
    "<span style=\"padding-left:20px; font-size:18px; color:#339; font-weight:bold\">4.6.2 Total Reviews by Year</span>"
   ]
  },
  {
   "cell_type": "code",
   "execution_count": 36,
   "id": "af42970f",
   "metadata": {
    "execution": {
     "iopub.execute_input": "2022-11-09T16:25:11.598811Z",
     "iopub.status.busy": "2022-11-09T16:25:11.598410Z",
     "iopub.status.idle": "2022-11-09T16:25:11.813244Z",
     "shell.execute_reply": "2022-11-09T16:25:11.812329Z"
    },
    "papermill": {
     "duration": 0.241427,
     "end_time": "2022-11-09T16:25:11.816575",
     "exception": false,
     "start_time": "2022-11-09T16:25:11.575148",
     "status": "completed"
    },
    "tags": []
   },
   "outputs": [
    {
     "data": {
      "image/png": "[encoded data removed]",
      "text/plain": [
       "<Figure size 576x288 with 1 Axes>"
      ]
     },
     "metadata": {},
     "output_type": "display_data"
    }
   ],
   "source": [
    "# Total reviews by year\n",
    "df.groupby('Year')['Reviews'].sum().plot(marker = 'o', c = '#9a0eea')\n",
    "plt.title('Total Reviews by Year')\n",
    "plt.xlabel('Year')\n",
    "plt.ylabel('Total Reviews');"
   ]
  },
  {
   "cell_type": "markdown",
   "id": "8ac05494",
   "metadata": {
    "papermill": {
     "duration": 0.023682,
     "end_time": "2022-11-09T16:25:11.864477",
     "exception": false,
     "start_time": "2022-11-09T16:25:11.840795",
     "status": "completed"
    },
    "tags": []
   },
   "source": [
    "<div style=\"display:fill; padding:10px 15px;\n",
    "           border-radius:5px;\n",
    "           background-color:#EBEBD8;\n",
    "           letter-spacing:0.5px\"><span style=\"font-size:20px; color:#960; font-weight:bold\">5. Hypothesis Testing</span></div>"
   ]
  },
  {
   "cell_type": "markdown",
   "id": "9d5ed543",
   "metadata": {
    "papermill": {
     "duration": 0.023924,
     "end_time": "2022-11-09T16:25:11.913531",
     "exception": false,
     "start_time": "2022-11-09T16:25:11.889607",
     "status": "completed"
    },
    "tags": []
   },
   "source": [
    "<span style=\"font-size:16px;\">In this article, let us test the following hypothesis: \"Do genres differ in terms of rating?\"</span>\n",
    "\n",
    "<span style=\"font-size:16px;\">We will test the hypothesis according to the following algorithm:</span>\n",
    "\n",
    "<span style=\"font-size:16px;\">Null and alternative hypotheses are formulated.</span>\n",
    "<span style=\"font-size:16px;\">The distribution was checked for normality using \"Shapiro Wilk test of normality\".</span>\n",
    "<span style=\"font-size:16px;\">Two samples were formed. Books related to the Non Fiction genre and books related to the Fiction genre.</span>\n",
    "<span style=\"font-size:16px;\">Testing was carried out in order to identify statistical differences between the study groups.</span>"
   ]
  },
  {
   "cell_type": "markdown",
   "id": "bb4e0407",
   "metadata": {
    "papermill": {
     "duration": 0.023811,
     "end_time": "2022-11-09T16:25:11.961614",
     "exception": false,
     "start_time": "2022-11-09T16:25:11.937803",
     "status": "completed"
    },
    "tags": []
   },
   "source": [
    "<span style=\"font-size:16px;\">1. Let us formulate the null and alternative hypotheses.</span>\n",
    "\n",
    "<span style=\"font-size:16px;\">H0 - There are no differences between genre racketeering</span>\n",
    "\n",
    "<span style=\"font-size:16px;\">H1 - There are differences between genre racketeering</span>"
   ]
  },
  {
   "cell_type": "markdown",
   "id": "a692567b",
   "metadata": {
    "papermill": {
     "duration": 0.02437,
     "end_time": "2022-11-09T16:25:12.012465",
     "exception": false,
     "start_time": "2022-11-09T16:25:11.988095",
     "status": "completed"
    },
    "tags": []
   },
   "source": [
    "<span style=\"font-size:16px;\">2. Checking the distribution for normality. Using \"Shapiro Wilk test of normality\".</span>"
   ]
  },
  {
   "cell_type": "code",
   "execution_count": 37,
   "id": "ed264cca",
   "metadata": {
    "execution": {
     "iopub.execute_input": "2022-11-09T16:25:12.063968Z",
     "iopub.status.busy": "2022-11-09T16:25:12.063356Z",
     "iopub.status.idle": "2022-11-09T16:25:12.071354Z",
     "shell.execute_reply": "2022-11-09T16:25:12.069561Z"
    },
    "papermill": {
     "duration": 0.037234,
     "end_time": "2022-11-09T16:25:12.074527",
     "exception": false,
     "start_time": "2022-11-09T16:25:12.037293",
     "status": "completed"
    },
    "tags": []
   },
   "outputs": [
    {
     "name": "stdout",
     "output_type": "stream",
     "text": [
      "Statistic: 0.872\n",
      "P-Value: 0.00000000000000000001\n",
      "Reject H0 - Data is not distributed normally.\n"
     ]
    }
   ],
   "source": [
    "# Set the alpha level\n",
    "alpha=0.05\n",
    "\n",
    "# We pass groups to the criterion for testing\n",
    "stat, pval = shapiro(df['User Rating'])\n",
    "\n",
    "print('Statistic:', f'{stat:.3f}')\n",
    "print('P-Value:', f'{pval:.20f}')\n",
    "    \n",
    "# Checking the condition for accepting or rejecting H0\n",
    "if pval > alpha:\n",
    "    print('Accept H0 - Data is distributed normally.')\n",
    "if pval < alpha:\n",
    "    print('Reject H0 - Data is not distributed normally.')"
   ]
  },
  {
   "cell_type": "markdown",
   "id": "10086d3a",
   "metadata": {
    "papermill": {
     "duration": 0.023855,
     "end_time": "2022-11-09T16:25:12.123464",
     "exception": false,
     "start_time": "2022-11-09T16:25:12.099609",
     "status": "completed"
    },
    "tags": []
   },
   "source": [
    "<span style=\"font-size:16px;\">3. Let's form two samples for testing.</span>"
   ]
  },
  {
   "cell_type": "code",
   "execution_count": 38,
   "id": "9f02754f",
   "metadata": {
    "execution": {
     "iopub.execute_input": "2022-11-09T16:25:12.174149Z",
     "iopub.status.busy": "2022-11-09T16:25:12.173046Z",
     "iopub.status.idle": "2022-11-09T16:25:12.181110Z",
     "shell.execute_reply": "2022-11-09T16:25:12.179521Z"
    },
    "papermill": {
     "duration": 0.035882,
     "end_time": "2022-11-09T16:25:12.183883",
     "exception": false,
     "start_time": "2022-11-09T16:25:12.148001",
     "status": "completed"
    },
    "tags": []
   },
   "outputs": [],
   "source": [
    "# Create group\n",
    "non_fiction = df[df['Genre'] == 'Non Fiction']['User Rating']\n",
    "fiction = df[df['Genre'] == 'Fiction']['User Rating']"
   ]
  },
  {
   "cell_type": "markdown",
   "id": "1154ccc1",
   "metadata": {
    "papermill": {
     "duration": 0.024166,
     "end_time": "2022-11-09T16:25:12.232226",
     "exception": false,
     "start_time": "2022-11-09T16:25:12.208060",
     "status": "completed"
    },
    "tags": []
   },
   "source": [
    "<span style=\"font-size:16px;\">4. Let's carry out testing. Since the nadi data in the samples are not normally distributed, we will use the nonparametric Mann-Whitney test.</span>"
   ]
  },
  {
   "cell_type": "code",
   "execution_count": 39,
   "id": "11bb942f",
   "metadata": {
    "execution": {
     "iopub.execute_input": "2022-11-09T16:25:12.283526Z",
     "iopub.status.busy": "2022-11-09T16:25:12.282699Z",
     "iopub.status.idle": "2022-11-09T16:25:12.291540Z",
     "shell.execute_reply": "2022-11-09T16:25:12.290068Z"
    },
    "papermill": {
     "duration": 0.038054,
     "end_time": "2022-11-09T16:25:12.294528",
     "exception": false,
     "start_time": "2022-11-09T16:25:12.256474",
     "status": "completed"
    },
    "tags": []
   },
   "outputs": [
    {
     "name": "stdout",
     "output_type": "stream",
     "text": [
      "Statistic: 27490.500\n",
      "P-Value: 0.00000009714708137283\n",
      "Reject H0 - There are significant differences between the groups.\n"
     ]
    }
   ],
   "source": [
    "# Set the alpha level\n",
    "alpha=0.05\n",
    "\n",
    "# We pass groups to the criterion for testing\n",
    "stat, pval = mannwhitneyu(non_fiction, fiction)\n",
    "\n",
    "print('Statistic:', f'{stat:.3f}')\n",
    "print('P-Value:', f'{pval:.20f}')\n",
    " \n",
    "# Checking the condition for accepting or rejecting H0\n",
    "if pval > alpha:\n",
    "    print('Accept H0 - There is no significant difference between the groups.')\n",
    "if pval < alpha:\n",
    "    print('Reject H0 - There are significant differences between the groups.')"
   ]
  },
  {
   "cell_type": "markdown",
   "id": "b5310fc1",
   "metadata": {
    "papermill": {
     "duration": 0.024909,
     "end_time": "2022-11-09T16:25:12.344457",
     "exception": false,
     "start_time": "2022-11-09T16:25:12.319548",
     "status": "completed"
    },
    "tags": []
   },
   "source": [
    "<span style=\"font-size:16px;\">Let's compare the median values in the groups.</span>"
   ]
  },
  {
   "cell_type": "code",
   "execution_count": 40,
   "id": "5f7f0bf0",
   "metadata": {
    "execution": {
     "iopub.execute_input": "2022-11-09T16:25:12.395749Z",
     "iopub.status.busy": "2022-11-09T16:25:12.395359Z",
     "iopub.status.idle": "2022-11-09T16:25:12.402325Z",
     "shell.execute_reply": "2022-11-09T16:25:12.401015Z"
    },
    "papermill": {
     "duration": 0.035717,
     "end_time": "2022-11-09T16:25:12.405141",
     "exception": false,
     "start_time": "2022-11-09T16:25:12.369424",
     "status": "completed"
    },
    "tags": []
   },
   "outputs": [
    {
     "name": "stdout",
     "output_type": "stream",
     "text": [
      "Non_fiction median: 4.6, Fiction median: 4.7\n"
     ]
    }
   ],
   "source": [
    "print(f'Non_fiction median: {non_fiction.median()}, Fiction median: {fiction.median()}')"
   ]
  },
  {
   "cell_type": "markdown",
   "id": "5bc0a87a",
   "metadata": {
    "papermill": {
     "duration": 0.023232,
     "end_time": "2022-11-09T16:25:12.454469",
     "exception": false,
     "start_time": "2022-11-09T16:25:12.431237",
     "status": "completed"
    },
    "tags": []
   },
   "source": [
    "<span style=\"font-size:16px;\">Visualizing the density of distribution in samples.</span>"
   ]
  },
  {
   "cell_type": "code",
   "execution_count": 41,
   "id": "196b25c3",
   "metadata": {
    "execution": {
     "iopub.execute_input": "2022-11-09T16:25:12.504934Z",
     "iopub.status.busy": "2022-11-09T16:25:12.503418Z",
     "iopub.status.idle": "2022-11-09T16:25:12.773699Z",
     "shell.execute_reply": "2022-11-09T16:25:12.772176Z"
    },
    "papermill": {
     "duration": 0.297718,
     "end_time": "2022-11-09T16:25:12.776016",
     "exception": false,
     "start_time": "2022-11-09T16:25:12.478298",
     "status": "completed"
    },
    "tags": []
   },
   "outputs": [
    {
     "data": {
      "text/html": [
       "<div>                            <div id=\"765a0036-8842-4cec-b4ac-cc92bbb6a0aa\" class=\"plotly-graph-div\" style=\"height:525px; width:100%;\"></div>            <script type=\"text/javascript\">                require([\"plotly\"], function(Plotly) {                    window.PLOTLYENV=window.PLOTLYENV || {};                                    if (document.getElementById(\"765a0036-8842-4cec-b4ac-cc92bbb6a0aa\")) {                    Plotly.newPlot(                        \"765a0036-8842-4cec-b4ac-cc92bbb6a0aa\",                        [{\"autobinx\":false,\"histnorm\":\"probability density\",\"legendgroup\":\"Non Fiction\",\"marker\":{\"color\":\"#aaa662\"},\"name\":\"Non Fiction\",\"opacity\":0.7,\"x\":[4.7,4.7,4.8,4.7,4.6,4.6,4.6,4.5,4.6,4.4,4.5,4.8,4.6,4.6,4.7,4.2,4.6,4.6,4.8,4.7,4.8,4.8,4.8,4.7,4.7,4.7,4.5,4.6,4.8,4.5,4.7,4.7,4.7,4.7,4.8,4.8,4.8,4.4,4.6,4.6,4.5,4.5,4.6,4.6,4.6,4.5,4.5,4.3,4.5,4.5,4.7,4.7,4.7,4.4,4.2,4.7,4.7,4.7,4.7,4.7,4.4,4.4,4.5,4.6,4.6,4.6,4.6,4.6,4.6,4.6,4.5,4.5,4.5,4.5,4.6,4.8,4.9,4.8,4.7,4.8,4.7,4.7,4.4,4.4,4.8,4.7,4.7,4.7,4.7,4.7,4.3,4.8,4.8,4.9,4.7,4.8,4.4,4.4,4.4,4.8,4.9,4.9,4.9,4.9,4.9,4.9,4.6,4.5,4.6,4.7,4.7,4.6,4.6,4.8,4.8,4.5,4.5,4.5,4.6,4.6,4.6,4.6,4.6,4.5,4.5,4.4,4.8,4.5,4.2,4.8,4.5,4.7,4.8,4.7,4.7,4.7,4.4,4.6,4.6,4.6,4.8,4.8,4.7,4.6,4.9,4.6,4.6,4.5,4.6,4.6,4.7,4.7,4.3,4.3,4.5,4.5,4.5,4.5,4.5,4.5,4.5,4.5,4.5,4.5,4.6,4.6,4.7,4.7,4.8,4.8,4.8,4.8,4.7,4.7,4.8,4.1,4.6,4.6,4.6,4.0,4.0,4.0,4.0,4.0,4.0,4.0,4.0,4.0,4.5,4.6,4.4,4.4,4.3,4.3,4.7,4.7,4.7,4.7,4.7,4.8,4.8,4.8,4.8,4.8,4.8,4.6,4.6,4.6,4.6,4.7,4.7,4.7,4.6,4.7,4.2,4.8,4.7,4.8,4.8,4.7,4.3,4.3,4.8,4.4,4.1,4.6,4.6,4.6,4.6,4.6,4.6,4.7,4.7,4.7,4.7,4.7,4.7,4.7,4.7,4.7,4.3,4.3,4.7,4.4,4.4,4.5,4.5,4.5,4.5,4.8,4.9,4.6,4.4,4.4,4.4,4.4,4.4,4.3,4.8,4.8,4.8,4.5,4.4,4.6,4.6,4.6,4.6,4.6,4.7,4.4,4.7,4.7,4.6,4.6,4.6,4.7,4.7,4.6,4.6,4.5,4.3,4.3,4.6,4.6,4.6,4.6,4.3,4.6,4.5,4.8,4.8,4.8,4.8,4.8,4.9,4.8,4.7,4.6,4.7,4.4,4.4,4.4,4.8,4.6,4.4,4.2,4.7,4.7,4.7,4.7],\"xaxis\":\"x\",\"xbins\":{\"end\":4.9,\"size\":0.1,\"start\":4.0},\"yaxis\":\"y\",\"type\":\"histogram\"},{\"autobinx\":false,\"histnorm\":\"probability density\",\"legendgroup\":\"Fiction\",\"marker\":{\"color\":\"#9a0eea\"},\"name\":\"Fiction\",\"opacity\":0.7,\"x\":[4.6,4.7,4.4,4.7,4.7,4.6,4.6,4.5,4.6,4.6,3.9,4.3,4.6,4.9,4.9,4.8,4.7,4.7,4.7,4.3,4.6,4.6,4.6,4.3,4.2,4.8,4.8,4.8,4.8,4.8,4.8,4.8,4.6,4.6,4.5,4.7,4.8,4.9,4.9,4.9,4.9,4.9,4.9,4.9,4.8,4.7,4.7,4.6,4.6,4.7,4.4,4.5,3.8,3.8,4.5,4.7,4.6,4.6,4.6,4.8,4.8,4.8,4.8,4.8,3.6,4.8,4.0,4.0,4.0,4.8,4.8,4.8,4.9,4.9,4.4,4.9,4.0,4.9,4.9,4.9,4.8,4.6,4.8,4.8,4.3,4.1,4.6,4.6,4.5,4.9,4.1,4.9,4.5,4.5,4.8,4.8,4.5,4.5,4.5,4.6,4.9,4.9,4.9,4.9,4.9,4.9,4.9,4.9,4.8,4.2,4.3,4.6,4.8,4.8,4.8,4.8,4.7,4.8,4.6,4.6,4.9,4.9,4.6,4.7,4.9,4.5,4.7,4.7,4.7,4.8,4.6,4.6,4.8,4.8,3.3,4.3,4.8,4.8,4.8,4.0,4.7,4.7,4.7,4.7,4.8,4.1,4.1,4.7,4.7,4.7,4.7,4.4,4.4,4.8,4.8,3.9,3.9,4.4,4.4,4.4,4.5,4.7,4.3,4.6,4.8,4.8,4.8,4.8,4.8,4.8,4.7,4.7,4.7,4.8,4.8,4.8,4.8,4.9,4.4,4.8,4.2,4.8,4.7,4.5,4.8,4.8,4.8,4.3,4.8,4.8,4.3,4.3,4.6,4.8,4.6,4.6,4.6,4.5,4.8,4.7,4.7,4.4,4.7,4.8,4.9,4.9,4.9,4.9,4.9,4.9,4.9,4.9,4.9,4.9,4.9,4.8,4.8,4.5,4.8,4.8,4.8,4.8,4.8,4.8,4.7,4.5,4.3,4.8,4.5,4.7,4.8,4.8,4.8,4.5,4.8,4.8,4.8,4.8,4.8,4.9],\"xaxis\":\"x\",\"xbins\":{\"end\":4.9,\"size\":0.1,\"start\":3.3},\"yaxis\":\"y\",\"type\":\"histogram\"},{\"legendgroup\":\"Non Fiction\",\"marker\":{\"color\":\"#aaa662\"},\"mode\":\"lines\",\"name\":\"Non Fiction\",\"showlegend\":false,\"x\":[4.0,4.0018,4.0036,4.0054,4.0072,4.009,4.0108,4.0126,4.0144,4.0162,4.018,4.0198,4.0216,4.0234,4.0252,4.027,4.0288,4.0306,4.0324,4.0342,4.036,4.0378,4.0396,4.0414,4.0432,4.045,4.0468,4.0486,4.0504,4.0522,4.054,4.0558,4.0576,4.0594,4.0612,4.063,4.0648,4.0666,4.0684000000000005,4.0702,4.072,4.0738,4.0756,4.0774,4.0792,4.081,4.0828,4.0846,4.0864,4.0882,4.09,4.0918,4.0936,4.0954,4.0972,4.099,4.1008000000000004,4.1026,4.1044,4.1062,4.108,4.1098,4.1116,4.1134,4.1152,4.117,4.1188,4.1206000000000005,4.1224,4.1242,4.126,4.1278,4.1296,4.1314,4.1332,4.135,4.1368,4.1386,4.1404,4.1422,4.144,4.1458,4.1476,4.1494,4.1512,4.1530000000000005,4.1548,4.1566,4.1584,4.1602,4.162,4.1638,4.1656,4.1674,4.1692,4.171,4.1728000000000005,4.1746,4.1764,4.1782,4.18,4.1818,4.1836,4.1854000000000005,4.1872,4.189,4.1908,4.1926,4.1944,4.1962,4.198,4.1998,4.2016,4.2034,4.2052000000000005,4.207,4.2088,4.2106,4.2124,4.2142,4.216,4.2178,4.2196,4.2214,4.2232,4.225,4.2268,4.2286,4.2304,4.2322,4.234,4.2358,4.2376000000000005,4.2394,4.2412,4.243,4.2448,4.2466,4.2484,4.2502,4.252,4.2538,4.2556,4.2574000000000005,4.2592,4.261,4.2628,4.2646,4.2664,4.2682,4.2700000000000005,4.2718,4.2736,4.2754,4.277200000000001,4.279,4.2808,4.2826,4.2844,4.2862,4.288,4.2898000000000005,4.2916,4.2934,4.2952,4.297,4.2988,4.3006,4.3024000000000004,4.3042,4.306,4.3078,4.3096000000000005,4.3114,4.3132,4.315,4.3168,4.3186,4.3204,4.3222000000000005,4.324,4.3258,4.3276,4.3294,4.3312,4.333,4.3348,4.3366,4.3384,4.3402,4.3420000000000005,4.3438,4.3456,4.3474,4.3492,4.351,4.3528,4.3546000000000005,4.3564,4.3582,4.36,4.361800000000001,4.3636,4.3654,4.3672,4.369,4.3708,4.3726,4.3744000000000005,4.3762,4.378,4.3798,4.381600000000001,4.3834,4.3852,4.3870000000000005,4.3888,4.3906,4.3924,4.3942000000000005,4.396,4.3978,4.3996,4.4014,4.4032,4.405,4.4068000000000005,4.4086,4.4104,4.4122,4.414,4.4158,4.4176,4.4194,4.4212,4.423,4.4248,4.4266000000000005,4.4284,4.4302,4.432,4.4338,4.4356,4.4374,4.4392000000000005,4.441,4.4428,4.4446,4.446400000000001,4.4482,4.45,4.4518,4.4536,4.4554,4.4572,4.4590000000000005,4.4608,4.4626,4.4644,4.466200000000001,4.468,4.4698,4.4716000000000005,4.4734,4.4752,4.477,4.478800000000001,4.4806,4.4824,4.4842,4.486,4.4878,4.4896,4.4914000000000005,4.4932,4.495,4.4968,4.498600000000001,4.5004,4.5022,4.5040000000000004,4.5058,4.5076,4.5094,4.5112000000000005,4.513,4.5148,4.5166,4.5184,4.5202,4.522,4.5238000000000005,4.525600000000001,4.5274,4.5292,4.531000000000001,4.5328,4.5346,4.5364,4.5382,4.54,4.5418,4.5436000000000005,4.5454,4.5472,4.549,4.550800000000001,4.5526,4.5544,4.5562000000000005,4.558,4.5598,4.5616,4.563400000000001,4.5652,4.567,4.5688,4.570600000000001,4.5724,4.5742,4.5760000000000005,4.5778,4.5796,4.5814,4.583200000000001,4.585,4.5868,4.5886000000000005,4.590400000000001,4.5922,4.594,4.5958000000000006,4.5976,4.5994,4.6012,4.603,4.6048,4.6066,4.6084000000000005,4.610200000000001,4.612,4.6138,4.615600000000001,4.6174,4.6192,4.621,4.6228,4.6246,4.6264,4.6282000000000005,4.63,4.6318,4.6336,4.635400000000001,4.6372,4.639,4.6408000000000005,4.6426,4.6444,4.6462,4.648000000000001,4.6498,4.6516,4.6534,4.655200000000001,4.657,4.6588,4.6606000000000005,4.6624,4.6642,4.666,4.667800000000001,4.6696,4.6714,4.6732000000000005,4.675000000000001,4.6768,4.6786,4.680400000000001,4.6822,4.684,4.6858,4.6876,4.6894,4.6912,4.6930000000000005,4.694800000000001,4.6966,4.6984,4.700200000000001,4.702,4.7038,4.7056000000000004,4.707400000000001,4.7092,4.711,4.7128000000000005,4.7146,4.7164,4.7182,4.720000000000001,4.7218,4.7236,4.7254000000000005,4.7272,4.729,4.7308,4.732600000000001,4.7344,4.7362,4.738,4.739800000000001,4.7416,4.7434,4.7452000000000005,4.747,4.7488,4.7506,4.752400000000001,4.7542,4.756,4.7578000000000005,4.759600000000001,4.7614,4.7632,4.765000000000001,4.7668,4.7686,4.7704,4.7722,4.774,4.7758,4.7776000000000005,4.779400000000001,4.7812,4.783,4.784800000000001,4.7866,4.7884,4.7902000000000005,4.792000000000001,4.7938,4.7956,4.7974000000000006,4.7992,4.801,4.8028,4.804600000000001,4.8064,4.8082,4.8100000000000005,4.8118,4.8136,4.8154,4.817200000000001,4.819000000000001,4.8208,4.8226,4.824400000000001,4.8262,4.828,4.8298000000000005,4.8316,4.8334,4.8352,4.837000000000001,4.8388,4.8406,4.8424000000000005,4.844200000000001,4.846,4.8478,4.849600000000001,4.8514,4.8532,4.855,4.856800000000001,4.8586,4.8604,4.8622000000000005,4.864000000000001,4.8658,4.8676,4.869400000000001,4.8712,4.873,4.8748000000000005,4.876600000000001,4.8784,4.8802,4.882000000000001,4.8838,4.8856,4.8874,4.889200000000001,4.891,4.8928,4.8946000000000005,4.8964,4.8982],\"xaxis\":\"x\",\"y\":[0.20363659711919055,0.2041380824155831,0.20448865623311435,0.2046891577843853,0.2047408512023569,0.2046454196032208,0.20440495731011382,0.20402196029345504,0.20349931489491885,0.20284028491267625,0.2020484971355163,0.20112792542264976,0.2000828734343796,0.19891795612628085,0.19763808012607445,0.196248423117881,0.19475441236302643,0.19316170249000048,0.1914761526884854,0.18970380344366253,0.1878508529471452,0.18592363332003403,0.1839285867816657,0.18187224189472054,0.1797611900134869,0.17760206205734422,0.17540150572594337,0.1731661632662067,0.1709026498942813,0.16861753296792995,0.16631731199675168,0.16400839956903798,0.16169710326522674,0.15938960861880508,0.157091963176251,0.15481006169833436,0.15254963253584924,0.15031622520374974,0.14811519916875243,0.14595171385691338,0.14383071987943652,0.14175695146722822,0.13973492009739527,0.13776890928816934,0.13586297053262128,0.13402092033597807,0.13224633831652566,0.13054256632588523,0.12891270854095033,0.12735963247690543,0.12588597086861913,0.12449412436616934,0.12318626498934826,0.12196434028571537,0.12083007813698643,0.11978499215930728,0.11883038764415356,0.11796736798819181,0.11719684156238415,0.11651952897281657,0.11593597066816924,0.115446534851318,0.11505142565523749,0.11475069154605101,0.11454423391876206,0.11443181585375783,0.11441307100462508,0.11448751259007514,0.11465454246478189,0.11491346024573275,0.1152634724721245,0.11570370177803656,0.11623319605791826,0.1168509376054454,0.11755585220645952,0.11834681816655607,0.11922267525342556,0.12018223353329333,0.12122428207983449,0.12234759753268534,0.12355095248131913,0.12483312364851126,0.12619289984604404,0.12762908967367959,0.12914052893085184,0.13072608770907518,0.13238467713171936,0.1341152557067281,0.13591683525701265,0.13778848639278082,0.13972934348994984,0.14173860913909705,0.14381555803025334,0.14595954024010035,0.14816998389003955,0.15044639714596575,0.15278836953362554,0.15519557254695943,0.15766775953100276,0.16020476482558949,0.1628065021613691,0.1654729623053452,0.16820420995931842,0.1710003799212322,0.17386167252627527,0.1767883483918224,0.1797807224975872,0.18283915763988687,0.18596405730631163,0.1891558580244896,0.1924150212458019,0.1957420248317845,0.19913735421742682,0.20260149333154115,0.2061349153597737,0.20973807344047546,0.21341139138754944,0.21715525453732995,0.22097000081867496,0.2248559121463606,0.22881320623782903,0.23284202895211475,0.23694244724737124,0.24111444284982167,0.2453579067221633,0.24967263441351334,0.25405832236579423,0.25851456524316874,0.26304085434184754,0.2676365771271728,0.27230101793370254,0.2770333598517923,0.2818326878116484,0.28669799286222963,0.29162817762880033,0.29662206291878324,0.30167839543151,0.3067958565132852,0.3119730718853221,0.31720862225867824,0.32250105473736923,0.32784889489871366,0.33325065942872395,0.33870486918025294,0.3442100625126861,0.3497648087645009,0.35536772170403164,0.3610174727995045,0.3667128041468409,0.3724525408929745,0.3782356029937002,0.38406101614817845,0.3899279217573398,0.39583558576051764,0.4017834062137353,0.4077709194839254,0.4137978049461694,0.4198638880854596,0.4259691419206045,0.43211368668535616,0.43829778772059996,0.4445218515513663,0.45078642014312015,0.4570921633531528,0.46343986961470457,0.46983043491345666,0.4762648501377803,0.4827441869056324,0.4892695819919265,0.49584222049998194,0.5024633179395666,0.509134101391246,0.5158557899525632,0.5226295746751934,0.529456598213976,0.536337934417923,0.5432745681003078,0.5502673752290145,0.5573171037798512,0.5644243554942118,0.5715895687781896,0.578813002973137,0.586094724217615,0.5934345931079278,0.6008322543487397,0.6082871285671528,0.6157984064429571,0.6233650452848205,0.6309857681572738,0.6386590656365496,0.6463832002451578,0.6541562135855954,0.6619759361633197,0.6698399998582389,0.677745852973084,0.6856907777562112,0.6936719102660979,0.7016862624158041,0.7097307460075043,0.7178021985412566,0.7258974105577282,0.7340131542531325,0.7421462130852237,0.7502934120732958,0.7584516484819868,0.7666179225693653,0.7747893680737825,0.7829632821117435,0.7911371541608522,0.7993086938073484,0.8074758569471131,0.815636870142334,0.8237902528529802,0.8319348372826778,0.8400697856026673,0.8481946043443166,0.8563091557810092,0.8644136661522519,0.8725087306178223,0.8805953148660491,0.8886747533382162,0.8967487440696834,0.9048193401875361,0.9128889381437496,0.9209602628013176,0.929036349528478,0.9371205234922451,0.9452163763765389,0.9533277407819023,0.9614586625925788,0.9696133716223677,0.9777962508724457,0.9860118047523733,0.9942646266291882,1.0025593660786085,1.0109006962170093,1.0192932814923779,1.0277417463075564,1.0362506448388507,1.0448244323984432,1.0534674386694325,1.062183843118374,1.0709776528619952,1.0798526832323743,1.0888125412492073,1.0978606121687993,1.1070000492374823,1.116233766733523,1.1255644363356618,1.13499448680994,1.1445261069589745,1.1541612517309183,1.1639016513387013,1.1737488231953195,1.1837040864274693,1.193768578689656,1.2039432749631702,1.2142290079909162,1.224626489969221,1.2351363350933933,1.245759082533613,1.2564952194039143,1.2673452032780035,1.278309483803641,1.2893885229704494,1.3005828135959436,1.3118928956105471,1.3233193697444083,1.33486290824669,1.3465242623019413,1.358304265846955,1.3702038355358412,1.3822239666493619,1.394365724797221,1.406630233317873,1.419018656339174,1.4315321775233678,1.4441719745825152,1.4569391897124135,1.4698348961552739,1.4828600611625837,1.4960155056887765,1.5093018612027613,1.522719524057199,1.53626860790473,1.5499488946934605,1.5637597848130749,1.5777002469943806,1.5917687685909128,1.605963306888924,1.620281242103024,1.6347193327170566,1.6492736738247107,1.6639396591102598,1.6787119470886456,1.6935844321935567,1.7085502212645642,1.723601615939237,1.7387301014026642,1.7539263418883735,1.7691801832583494,1.784480662919135,1.7998160272553636,1.8151737566821793,1.830540598335519,1.845902606334392,1.8612451894636226,1.8765531660389803,1.8918108256325759,1.9070019972519328,1.9221101234872304,1.9371183400640766,1.952009560168211,1.9667665628431001,1.9813720847024503,1.995808914148308,2.0100599872426668,2.024108484345922,2.03793792661085,2.0515322714058546,2.06487600573588,2.0779542367355757,2.0907527783241853,2.1032582331387393,2.1154580688977265,2.1273406883944657,2.138895492374446,2.1501129346162906,2.160984568608876,2.171503085297597,2.181662341460772,2.1914573783697056,2.2008844304847455,2.2099409240407986,2.2186254654806303,2.2269378197999075,2.234878878973929,2.2424506207412986,2.249656058122489,2.256499180150877,2.262984884388818,2.2691189018906286,2.274907715356909,2.280358471299616,2.2854788871036975,2.290277153927607,2.2947618364321447,2.298941770363042,2.3028259590373015,2.306423469797001,2.3097433314956217,2.312794434071925,2.3155854312443656,2.3181246473258894,2.320419989113915,2.3224788637554283,2.3243081034214366,2.3259138975504436,2.3273017333370913,2.3284763450512598,2.329441672675399,2.3302008302447965,2.330756084168297,2.33110884169632,2.3312596495910625,2.331208202940905,2.3309533639490208,2.330493190416186,2.329824973531276,2.328945284480675,2.327850029291346,2.326534511232908,2.324993500021942,2.3232213069990717,2.3212118653854255,2.318958814672552,2.316455588156818,2.3136955025992547,2.3106718489718236,2.307377983244311,2.303807416170333,2.2999539010474597,2.2958115184547676,2.2913747570100296,2.2866385892393475,2.281598541712075,2.2762507586635463,2.2705920584066996,2.264619981919323,2.2583328330865156,2.251729710175902,2.2448105282257456,2.2375760321317197,2.2300278003256864,2.222168239048295,2.214000567324723,2.2055287928590634,2.196757679165556,2.1876927043537977,2.1783400120785066,2.1687063552513672,2.158799033192599,2.1486258229711255,2.138194905745511,2.127514788970225,2.1165942253753527,2.1054421296599743,2.094067493860796,2.082479302368495,2.070686447563133,2.0586976470288505,2.046521363285342,2.034165726940934,2.021638464129451,2.0089468290405934,1.996097542292924,1.9830967358293765,1.9699499049396567,1.9566618679312382,1.94323673388359,1.9296778788286686,1.9159879306059966,1.9021687625442285,1.888221496023202,1.874146511873616,1.8599434704753186,1.8456113403213859,1.8311484347252744,1.8165524562622957,1.8018205484560719,1.786949354146291,1.7719350799062072,1.7567735658186923,1.741460359867115,1.7259907961545125,1.710360076129492,1.6945633519727006,1.6785958112811077,1.6624527621815328,1.6461297180072547,1.6296224806838573,1.6129272219911932,1.5960405618981834,1.578959643204395,1.5616822017677017,1.5442066316494807,1.526532044567056,1.508658323106927,1.4905861672212688,1.4723171336022838,1.4538536676051705,1.435199127467784,1.4163578006545,1.3973349122314205,1.3781366252590384,1.3587700332665826,1.3392431449481028,1.3195648612933109,1.2997449454358123,1.2797939855666278,1.259723351321222,1.2395451441037277,1.219272141861014,1.1989177388624923,1.1784958810784043,1.1580209977786857,1.1375079299980408,1.1169718565283677,1.0964282181090934,1.0758926404878273,1.0553808570193977,1.0349086314600002,1.0144916815962646,0.994145604325452,0.9738858027746015,0.9537274160128466,0.9336852518728058,0.9137737233548093,0.894006789042203,0.8743978979075216,0.8549599388383754,0.8357051951596485,0.8166453043750826,0.7977912232972058,0.7791531986806466,0.7607407434205403,0.742562618325721,0.7246268194255118,0.7069405707209523,0.6895103222450683,0.6723417532541511,0.6554397803320599,0.6388085701535792,0.6224515566205646,0.6063714620560284,0.590570322117313,0.5750495140692498,0.5598097880426973,0.5448513008919604,0.5301736522575903],\"yaxis\":\"y\",\"type\":\"scatter\"},{\"legendgroup\":\"Fiction\",\"marker\":{\"color\":\"#9a0eea\"},\"mode\":\"lines\",\"name\":\"Fiction\",\"showlegend\":false,\"x\":[3.3,3.3032,3.3064,3.3095999999999997,3.3127999999999997,3.316,3.3192,3.3224,3.3255999999999997,3.3287999999999998,3.332,3.3352,3.3384,3.3415999999999997,3.3447999999999998,3.348,3.3512,3.3544,3.3575999999999997,3.3608,3.364,3.3672,3.3704,3.3735999999999997,3.3768,3.38,3.3832,3.3864,3.3895999999999997,3.3928,3.396,3.3992,3.4023999999999996,3.4055999999999997,3.4088,3.412,3.4152,3.4183999999999997,3.4215999999999998,3.4248,3.428,3.4312,3.4343999999999997,3.4375999999999998,3.4408,3.444,3.4472,3.4503999999999997,3.4536,3.4568,3.46,3.4632,3.4663999999999997,3.4696,3.4728,3.476,3.4792,3.4823999999999997,3.4856,3.4888,3.492,3.4952,3.4983999999999997,3.5016,3.5048,3.508,3.5112,3.5143999999999997,3.5176,3.5208,3.524,3.5271999999999997,3.5303999999999998,3.5336,3.5368,3.54,3.5431999999999997,3.5463999999999998,3.5496,3.5528,3.556,3.5591999999999997,3.5624,3.5656,3.5688,3.572,3.5751999999999997,3.5784,3.5816,3.5848,3.588,3.5911999999999997,3.5944,3.5976,3.6008,3.604,3.6071999999999997,3.6104,3.6136,3.6168,3.62,3.6231999999999998,3.6264,3.6296,3.6328,3.636,3.6391999999999998,3.6424,3.6456,3.6488,3.652,3.6552,3.6584,3.6616,3.6648,3.668,3.6712,3.6744,3.6776,3.6808,3.684,3.6872,3.6904,3.6936,3.6968,3.7,3.7032,3.7064,3.7096,3.7128,3.7159999999999997,3.7192,3.7224,3.7256,3.7288,3.732,3.7352,3.7384,3.7416,3.7448,3.748,3.7512,3.7544,3.7576,3.7608,3.7640000000000002,3.7672,3.7704,3.7736,3.7768,3.78,3.7832,3.7864,3.7896,3.7928,3.796,3.7992,3.8024,3.8056,3.8087999999999997,3.8120000000000003,3.8152,3.8184,3.8216,3.8247999999999998,3.8280000000000003,3.8312,3.8344,3.8376,3.8407999999999998,3.8440000000000003,3.8472,3.8504,3.8536,3.8568,3.8600000000000003,3.8632,3.8664,3.8696,3.8728,3.876,3.8792,3.8824,3.8856,3.8888,3.892,3.8952,3.8984,3.9016,3.9048,3.908,3.9112,3.9144,3.9176,3.9208,3.924,3.9272,3.9304,3.9336,3.9368,3.94,3.9432,3.9464,3.9496,3.9528,3.956,3.9592,3.9624,3.9656000000000002,3.9688,3.972,3.9752,3.9784,3.9816000000000003,3.9848,3.988,3.9912,3.9944,3.9976000000000003,4.0008,4.004,4.0072,4.0104,4.0136,4.0168,4.02,4.0232,4.0264,4.0296,4.0328,4.036,4.0392,4.0424,4.0456,4.0488,4.052,4.0552,4.0584,4.0616,4.0648,4.068,4.0712,4.0744,4.0776,4.0808,4.084,4.0872,4.0904,4.0936,4.0968,4.1,4.1032,4.1064,4.1096,4.1128,4.116,4.1192,4.1224,4.1256,4.1288,4.132,4.1352,4.1384,4.1416,4.1448,4.148,4.1512,4.1544,4.1576,4.1608,4.164,4.1672,4.1704,4.1736,4.1768,4.18,4.1832,4.1864,4.1896,4.1928,4.196,4.1992,4.2024,4.2056000000000004,4.2088,4.212,4.2152,4.2184,4.2216000000000005,4.2248,4.228,4.2312,4.2344,4.2376000000000005,4.2408,4.244,4.2472,4.2504,4.2536000000000005,4.2568,4.26,4.2632,4.2664,4.2696000000000005,4.2728,4.276,4.2792,4.2824,4.2856000000000005,4.2888,4.292,4.2952,4.2984,4.3016000000000005,4.3048,4.308,4.3112,4.3144,4.3176000000000005,4.3208,4.324,4.3272,4.3304,4.333600000000001,4.3368,4.34,4.3432,4.3464,4.349600000000001,4.3528,4.356,4.3592,4.3624,4.365600000000001,4.3688,4.372,4.3752,4.3784,4.381600000000001,4.3848,4.388,4.3911999999999995,4.3944,4.397600000000001,4.4008,4.404,4.4072,4.4104,4.413600000000001,4.4168,4.42,4.4232,4.4264,4.429600000000001,4.4328,4.436,4.4392,4.4424,4.445600000000001,4.4488,4.452,4.4552,4.4584,4.461600000000001,4.4648,4.468,4.4712000000000005,4.4744,4.477600000000001,4.4808,4.484,4.4872000000000005,4.4904,4.493600000000001,4.4968,4.5,4.5032000000000005,4.5064,4.509600000000001,4.5128,4.516,4.5192000000000005,4.5224,4.525600000000001,4.5288,4.532,4.535200000000001,4.5384,4.5416,4.5448,4.548,4.551200000000001,4.5544,4.5576,4.5608,4.564,4.567200000000001,4.5704,4.5736,4.5768,4.58,4.583200000000001,4.5864,4.5896,4.5928,4.596,4.599200000000001,4.6024,4.6056,4.6088000000000005,4.612,4.615200000000001,4.6184,4.6216,4.6248000000000005,4.628,4.631200000000001,4.6344,4.6376,4.6408000000000005,4.644,4.6472,4.6504,4.6536,4.6568000000000005,4.66,4.6632,4.6664,4.6696,4.6728000000000005,4.676,4.6792,4.6824,4.6856,4.6888000000000005,4.692,4.6952,4.6984,4.7016,4.7048000000000005,4.708,4.7112,4.7144,4.7176,4.7208000000000006,4.724,4.7272,4.7304,4.7336,4.736800000000001,4.74,4.7432,4.7464,4.749600000000001,4.752800000000001,4.756,4.7592,4.7624,4.765600000000001,4.768800000000001,4.772,4.7752,4.7784,4.781600000000001,4.784800000000001,4.788,4.7912,4.7944,4.7976,4.800800000000001,4.804,4.8072,4.8104000000000005,4.8136,4.816800000000001,4.82,4.8232,4.8264000000000005,4.8296,4.832800000000001,4.836,4.8392,4.8424000000000005,4.8456,4.848800000000001,4.852,4.8552,4.8584000000000005,4.8616,4.864800000000001,4.868,4.8712,4.8744000000000005,4.8776,4.880800000000001,4.884,4.8872,4.8904000000000005,4.8936,4.896800000000001],\"xaxis\":\"x\",\"y\":[0.01882337133776123,0.01881899288154779,0.01879110730663535,0.018739950629405627,0.01866586093300422,0.018569277229222032,0.018450737718014785,0.018310877460261117,0.018150425484128166,0.017970201349894056,0.017771111202221936,0.017554143342640723,0.017320363358330444,0.017070908846197178,0.01680698377363248,0.01652985251926643,0.016240833638429004,0.015941293398933798,0.015632639133191312,0.015316312452560732,0.01499378236928057,0.014666538370300339,0.014336083485908062,0.014003927394242265,0.013671579600638892,0.013340542728340876,0.013012305954435302,0.012688338622040376,0.012370084056787526,0.012058953612591024,0.011756320968620344,0.01146351669633964,0.011181823112505908,0.010912469431163297,0.010656627224984236,0.010415406203818764,0.010189850316057536,0.009980934176415171,0.009789559822018797,0.009616553797255388,0.009462664566694335,0.009328560254562303,0.009214826708694585,0.009121965886609124,0.009050394561327049,0.009000443344769044,0.00897235602696296,0.00896628922986684,0.008982312375305813,0.009020407967298952,0.009080472189869022,0.009162315822239316,0.009265665474081348,0.009390165144140938,0.009535378106092923,0.00970078912581818,0.009885807014418994,0.010089767521159546,0.010311936570106529,0.010551513843526006,0.010807636714052245,0.011079384526265931,0.01136578322660295,0.011665810338461037,0.01197840027698943,0.012302449995355473,0.012636824951301242,0.012980365379570834,0.013331892852333015,0.013690217106096015,0.014054143109854646,0.014422478345380104,0.014794040266717195,0.0151676639021496,0.015542209558200334,0.015916570581705893,0.016289681132710843,0.01666052391793426,0.017028137831918953,0.017391625450754376,0.0177501603215086,0.0181029939892732,0.01844946270305408,0.018788993741670073,0.019121111301383914,0.019445441888199983,0.019761719159643712,0.020069788163386455,0.02036960892329498,0.020661259327356827,0.020944937276431274,0.021220962057877234,0.021489774913768127,0.021751938779571958,0.022008137175799476,0.022259172242131503,0.02250596191086922,0.022749536224120397,0.022991032806868875,0.023231691515881215,0.023472848292200126,0.023715928252669837,0.023962438063440006,0.024213957645616336,0.02447213127008216,0.024738658104914175,0.025015282284686927,0.02530378257622055,0.02560596171991227,0.02592363552963989,0.026258621837281188,0.026612729370113358,0.02698774665070703,0.02738543100937966,0.02780749779881839,0.02825560989910574,0.028731367599102234,0.02923629893696726,0.029771850578563228,0.030339379307633814,0.03094014419601092,0.031575299515757736,0.03224588844815775,0.0329528376368847,0.033696952624627824,0.034478914203974365,0.03529927570457587,0.03615846122963016,0.0370567648456042,0.03799435072000524,0.03897125419297401,0.03998738375963016,0.0410425239315408,0.0421363389375052,0.043268377216126766,0.04443807664549461,0.045644770448742544,0.046887693708419734,0.04816599041751005,0.049478720990642745,0.05082487015559225,0.05220335514257382,0.0536130340871595,0.05505271456182709,0.056521162151261885,0.05801710898749717,0.05953926216280807,0.061086311940931184,0.06265693969060475,0.06424982546959877,0.06586365519222961,0.06749712731880708,0.06914895901143822,0.0708178917070758,0.07250269606553204,0.07420217625733579,0.07591517356369726,0.07764056926837651,0.07937728682886856,0.08112429332191419,0.08288060016587773,0.0846452631298977,0.0864173816468939,0.08819609745436395,0.08998059259347199,0.09177008680306509,0.09356383435097791,0.09536112035022672,0.09716125661241487,0.09896357709487505,0.10076743300168008,0.10257218760170395,0.104377210829352,0.10618187373541667,0.10798554285673502,0.10978757457394663,0.11158730952663798,0.11338406715459001,0.11517714043263587,0.11696579086489917,0.11874924380185421,0.12052668414080078,0.12229725246698837,0.12406004168877027,0.12581409421585849,0.12755839972503646,0.12929189355255996,0.1310134557470295,0.13272191081074985,0.13441602815157958,0.1360945232610441,0.13775605962811158,0.1393992513915498,0.14102266672726818,0.14262483196053713,0.1442042363865734,0.145759337776686,0.1472885685411141,0.14879034251389067,0.15026306231957162,0.15170512727661095,0.1531149417874927,0.15449092416160345,0.1558315158132078,0.15713519077387084,0.1584004654562529,0.15962590860441742,0.1608101513646829,0.16195189741056698,0.1630499330555618,0.1641031372883157,0.16511049166621974,0.1660710900054421,0.16698414780800772,0.16784901136955407,0.16866516651488606,0.1694322469122482,0.1701500419213511,0.17081850393448078,0.17143775517442272,0.17200809391739805,0.17253000011357478,0.1730041403820002,0.1734313723608218,0.17381274839743385,0.1741495185665966,0.1744431330075795,0.17469524357392224,0.17490770479150114,0.17508257412213313,0.1752221115310288,0.17532877835694602,0.17540523548398645,0.1754543408136026,0.1754791460346304,0.1754828926880639,0.17546900752195546,0.17544109713030248,0.17540294186819827,0.17535848903396062,0.17531184530753466,0.17526726843327,0.17522915813435244,0.1752020462458073,0.17519058605319668,0.17519954082496056,0.1752337715280232,0.17529822371865666,0.1753979136039674,0.1755379132735884,0.17572333510639684,0.1759593153632277,0.1762509969837344,0.1766035116135603,0.17702196089695968,0.1775113970797289,0.17807680297772738,0.1787230713773282,0.17945498394559392,0.18027718973974208,0.181194183417438,0.18221028326124314,0.18332960914224858,0.18455606055909693,0.18589329489912093,0.18734470607808607,0.18891340372362103,0.19060219307484388,0.19241355577661662,0.19434963175118583,0.19641220233245624,0.19860267484874083,0.2009220688383011,0.20337100407833142,0.20594969060209273,0.2086579208706891,0.21149506425544243,0.21446006397396106,0.21755143660795023,0.2207672743135494,0.2241052498156815,0.22756262425674295,0.23113625794703885,0.23482262403999635,0.2386178251295001,0.24251761274012343,0.24651740965356328,0.25061233498699037,0.2547972319111111,0.2590666978682515,0.2634151171238092,0.26783669545845945,0.2723254967837435,0.27687548144064145,0.2814805459194582,0.28613456372052887,0.2908314270586619,0.2955650891006136,0.300329606414107,0.30511918129919025,0.30992820366852325,0.3147512921419759,0.31958333402353434,0.3244195238342265,0.32925540008409615,0.3340868799788281,0.33891029177236204,0.3437224044956749,0.3485204548135497,0.35330217078535003,0.35806579233240327,0.36281008824311006,0.36753436957716207,0.3722384993618047,0.3769228985056124,0.38158854788835084,0.3862369866188257,0.390870306485778,0.3954911426594863,0.4001026607333809,0.4047085402254723,0.4093129546881897,0.41392054860220096,0.4185364112546194,0.4231660478243219,0.42781534791704395,0.4324905518098226,0.4371982146785614,0.441945169093699,0.4467384860769457,0.45158543501733467,0.45649344274671483,0.46147005207411157,0.46652288007462095,0.47165957642212114,0.47688778204624843,0.4822150883828121,0.4876489974735538,0.4931968831560665,0.4988659535678267,0.5046632151704952,0.5105954384813645,0.5166691256793101,0.5228904802322271,0.5292653786728146,0.5357993446291969,0.5424975251972987,0.5493646697226436,0.5564051110411516,0.563622749211418,0.5710210377550711,0.5786029724075933,0.5863710823691393,0.5943274240337492,0.6024735771660729,0.6108106434869005,0.6193392476229699,0.6280595403721443,0.6369712042323459,0.6460734611413279,0.6553650823743322,0.6648444005477095,0.6745093236785092,0.6843573512525525,0.6943855922563467,0.7045907851312009,0.7149693196105446,0.7255172604035933,0.7362303726901298,0.7471041493911149,0.75813384017909,0.7693144821893845,0.7806409323887554,0.79210790155156,0.8037099897845859,0.8154417235308995,0.8272975939695305,0.8392720967120072,0.8513597726788542,0.8635552500187169,0.8758532869105209,0.8882488150649287,0.9007369837154962,0.9133132038632511,0.9259731925103021,0.938713016590231,0.9515291362746131,0.9644184473076647,0.9773783219944656,0.9904066484435196,1.0035018676417202,1.0166630079203747,1.0298897163540908,1.0431822866225102,1.0565416828562586,1.0699695589858034,1.0834682731141587,1.0970408964421046,1.110691216289177,1.1244237327736484,1.1382436487420715,1.152156852572237,1.166169893513769,1.1802899492772678,1.194524785636063,1.2088827078639175,1.2233725038971643,1.2380033791800598,1.252784883227549,1.2677268280190666,1.282839198419957,1.2981320549130773,1.313615429010718,1.3292992118059639,1.3451930362115154,1.3613061535220023,1.3776473050223044,1.3942245894474867,1.411045327179564,1.428115922140526,1.4454417224097231,1.4630268806547388,1.4808742155185552,1.4989850751498746,1.5173592040985138,1.535994614821255,1.5548874650567603,1.574031942328589,1.593420156823843,1.6130420438706274,1.6328852771999187,1.6529351941267787,1.6731747337223672,1.6935843889711202,1.7141421738186262,1.7348236059140976,1.7556017057389581,1.7764470126895961,1.797327618549703,1.8182092186466663,1.8390551808380062,1.8598266323204462,1.8804825640961909,1.900979952770667,1.9212738991957483,1.9413177833120987,1.961063434388588,1.9804613157046365,1.999460722576939,2.0180099924960806,2.0360567260129194,2.053548016901345,2.0704306900244016,2.086651545246289,2.1021576056645364,2.116896368385876,2.1308160560370966,2.143865867187955,2.1559962238690202,2.16715901439172,2.177307829721187,2.1863981917148827,2.1943877716192777,2.2012365973136125,2.2069072479014094,2.211365034376508,2.2145781652282297,2.2165178959990457,2.217158661964822,2.216478193271093,2.2144576120254857,2.211081511015817,2.2063380138911435,2.2002188168090457,2.1927192117125847,2.1838380915541795,2.1735779379283255,2.1619447917088097,2.1489482074081123,2.1346011920850576,2.1189201297203346,2.1019246920583035,2.083637736976172,2.06408519548826,2.04329594852384,2.0213016946325824,1.9981368097710246,1.9738382003103507,1.948445150377814,1.9219991646055714,1.8945438073111507,1.8661245390749126,1.836788551615029,1.8065846017883342,1.7755628454708803,1.7437746719949094,1.711272539740598,1.6781098134055135,1.6443406033998536,1.610019607746057],\"yaxis\":\"y\",\"type\":\"scatter\"}],                        {\"barmode\":\"overlay\",\"hovermode\":\"closest\",\"legend\":{\"traceorder\":\"reversed\"},\"xaxis\":{\"anchor\":\"y2\",\"domain\":[0.0,1.0],\"zeroline\":false},\"yaxis\":{\"anchor\":\"free\",\"domain\":[0.0,1],\"position\":0.0},\"template\":{\"data\":{\"barpolar\":[{\"marker\":{\"line\":{\"color\":\"white\",\"width\":0.5},\"pattern\":{\"fillmode\":\"overlay\",\"size\":10,\"solidity\":0.2}},\"type\":\"barpolar\"}],\"bar\":[{\"error_x\":{\"color\":\"rgb(36,36,36)\"},\"error_y\":{\"color\":\"rgb(36,36,36)\"},\"marker\":{\"line\":{\"color\":\"white\",\"width\":0.5},\"pattern\":{\"fillmode\":\"overlay\",\"size\":10,\"solidity\":0.2}},\"type\":\"bar\"}],\"carpet\":[{\"aaxis\":{\"endlinecolor\":\"rgb(36,36,36)\",\"gridcolor\":\"white\",\"linecolor\":\"white\",\"minorgridcolor\":\"white\",\"startlinecolor\":\"rgb(36,36,36)\"},\"baxis\":{\"endlinecolor\":\"rgb(36,36,36)\",\"gridcolor\":\"white\",\"linecolor\":\"white\",\"minorgridcolor\":\"white\",\"startlinecolor\":\"rgb(36,36,36)\"},\"type\":\"carpet\"}],\"choropleth\":[{\"colorbar\":{\"outlinewidth\":1,\"tickcolor\":\"rgb(36,36,36)\",\"ticks\":\"outside\"},\"type\":\"choropleth\"}],\"contourcarpet\":[{\"colorbar\":{\"outlinewidth\":1,\"tickcolor\":\"rgb(36,36,36)\",\"ticks\":\"outside\"},\"type\":\"contourcarpet\"}],\"contour\":[{\"colorbar\":{\"outlinewidth\":1,\"tickcolor\":\"rgb(36,36,36)\",\"ticks\":\"outside\"},\"colorscale\":[[0.0,\"#440154\"],[0.1111111111111111,\"#482878\"],[0.2222222222222222,\"#3e4989\"],[0.3333333333333333,\"#31688e\"],[0.4444444444444444,\"#26828e\"],[0.5555555555555556,\"#1f9e89\"],[0.6666666666666666,\"#35b779\"],[0.7777777777777778,\"#6ece58\"],[0.8888888888888888,\"#b5de2b\"],[1.0,\"#fde725\"]],\"type\":\"contour\"}],\"heatmapgl\":[{\"colorbar\":{\"outlinewidth\":1,\"tickcolor\":\"rgb(36,36,36)\",\"ticks\":\"outside\"},\"colorscale\":[[0.0,\"#440154\"],[0.1111111111111111,\"#482878\"],[0.2222222222222222,\"#3e4989\"],[0.3333333333333333,\"#31688e\"],[0.4444444444444444,\"#26828e\"],[0.5555555555555556,\"#1f9e89\"],[0.6666666666666666,\"#35b779\"],[0.7777777777777778,\"#6ece58\"],[0.8888888888888888,\"#b5de2b\"],[1.0,\"#fde725\"]],\"type\":\"heatmapgl\"}],\"heatmap\":[{\"colorbar\":{\"outlinewidth\":1,\"tickcolor\":\"rgb(36,36,36)\",\"ticks\":\"outside\"},\"colorscale\":[[0.0,\"#440154\"],[0.1111111111111111,\"#482878\"],[0.2222222222222222,\"#3e4989\"],[0.3333333333333333,\"#31688e\"],[0.4444444444444444,\"#26828e\"],[0.5555555555555556,\"#1f9e89\"],[0.6666666666666666,\"#35b779\"],[0.7777777777777778,\"#6ece58\"],[0.8888888888888888,\"#b5de2b\"],[1.0,\"#fde725\"]],\"type\":\"heatmap\"}],\"histogram2dcontour\":[{\"colorbar\":{\"outlinewidth\":1,\"tickcolor\":\"rgb(36,36,36)\",\"ticks\":\"outside\"},\"colorscale\":[[0.0,\"#440154\"],[0.1111111111111111,\"#482878\"],[0.2222222222222222,\"#3e4989\"],[0.3333333333333333,\"#31688e\"],[0.4444444444444444,\"#26828e\"],[0.5555555555555556,\"#1f9e89\"],[0.6666666666666666,\"#35b779\"],[0.7777777777777778,\"#6ece58\"],[0.8888888888888888,\"#b5de2b\"],[1.0,\"#fde725\"]],\"type\":\"histogram2dcontour\"}],\"histogram2d\":[{\"colorbar\":{\"outlinewidth\":1,\"tickcolor\":\"rgb(36,36,36)\",\"ticks\":\"outside\"},\"colorscale\":[[0.0,\"#440154\"],[0.1111111111111111,\"#482878\"],[0.2222222222222222,\"#3e4989\"],[0.3333333333333333,\"#31688e\"],[0.4444444444444444,\"#26828e\"],[0.5555555555555556,\"#1f9e89\"],[0.6666666666666666,\"#35b779\"],[0.7777777777777778,\"#6ece58\"],[0.8888888888888888,\"#b5de2b\"],[1.0,\"#fde725\"]],\"type\":\"histogram2d\"}],\"histogram\":[{\"marker\":{\"line\":{\"color\":\"white\",\"width\":0.6}},\"type\":\"histogram\"}],\"mesh3d\":[{\"colorbar\":{\"outlinewidth\":1,\"tickcolor\":\"rgb(36,36,36)\",\"ticks\":\"outside\"},\"type\":\"mesh3d\"}],\"parcoords\":[{\"line\":{\"colorbar\":{\"outlinewidth\":1,\"tickcolor\":\"rgb(36,36,36)\",\"ticks\":\"outside\"}},\"type\":\"parcoords\"}],\"pie\":[{\"automargin\":true,\"type\":\"pie\"}],\"scatter3d\":[{\"line\":{\"colorbar\":{\"outlinewidth\":1,\"tickcolor\":\"rgb(36,36,36)\",\"ticks\":\"outside\"}},\"marker\":{\"colorbar\":{\"outlinewidth\":1,\"tickcolor\":\"rgb(36,36,36)\",\"ticks\":\"outside\"}},\"type\":\"scatter3d\"}],\"scattercarpet\":[{\"marker\":{\"colorbar\":{\"outlinewidth\":1,\"tickcolor\":\"rgb(36,36,36)\",\"ticks\":\"outside\"}},\"type\":\"scattercarpet\"}],\"scattergeo\":[{\"marker\":{\"colorbar\":{\"outlinewidth\":1,\"tickcolor\":\"rgb(36,36,36)\",\"ticks\":\"outside\"}},\"type\":\"scattergeo\"}],\"scattergl\":[{\"marker\":{\"colorbar\":{\"outlinewidth\":1,\"tickcolor\":\"rgb(36,36,36)\",\"ticks\":\"outside\"}},\"type\":\"scattergl\"}],\"scattermapbox\":[{\"marker\":{\"colorbar\":{\"outlinewidth\":1,\"tickcolor\":\"rgb(36,36,36)\",\"ticks\":\"outside\"}},\"type\":\"scattermapbox\"}],\"scatterpolargl\":[{\"marker\":{\"colorbar\":{\"outlinewidth\":1,\"tickcolor\":\"rgb(36,36,36)\",\"ticks\":\"outside\"}},\"type\":\"scatterpolargl\"}],\"scatterpolar\":[{\"marker\":{\"colorbar\":{\"outlinewidth\":1,\"tickcolor\":\"rgb(36,36,36)\",\"ticks\":\"outside\"}},\"type\":\"scatterpolar\"}],\"scatter\":[{\"fillpattern\":{\"fillmode\":\"overlay\",\"size\":10,\"solidity\":0.2},\"type\":\"scatter\"}],\"scatterternary\":[{\"marker\":{\"colorbar\":{\"outlinewidth\":1,\"tickcolor\":\"rgb(36,36,36)\",\"ticks\":\"outside\"}},\"type\":\"scatterternary\"}],\"surface\":[{\"colorbar\":{\"outlinewidth\":1,\"tickcolor\":\"rgb(36,36,36)\",\"ticks\":\"outside\"},\"colorscale\":[[0.0,\"#440154\"],[0.1111111111111111,\"#482878\"],[0.2222222222222222,\"#3e4989\"],[0.3333333333333333,\"#31688e\"],[0.4444444444444444,\"#26828e\"],[0.5555555555555556,\"#1f9e89\"],[0.6666666666666666,\"#35b779\"],[0.7777777777777778,\"#6ece58\"],[0.8888888888888888,\"#b5de2b\"],[1.0,\"#fde725\"]],\"type\":\"surface\"}],\"table\":[{\"cells\":{\"fill\":{\"color\":\"rgb(237,237,237)\"},\"line\":{\"color\":\"white\"}},\"header\":{\"fill\":{\"color\":\"rgb(217,217,217)\"},\"line\":{\"color\":\"white\"}},\"type\":\"table\"}]},\"layout\":{\"annotationdefaults\":{\"arrowhead\":0,\"arrowwidth\":1},\"autotypenumbers\":\"strict\",\"coloraxis\":{\"colorbar\":{\"outlinewidth\":1,\"tickcolor\":\"rgb(36,36,36)\",\"ticks\":\"outside\"}},\"colorscale\":{\"diverging\":[[0.0,\"rgb(103,0,31)\"],[0.1,\"rgb(178,24,43)\"],[0.2,\"rgb(214,96,77)\"],[0.3,\"rgb(244,165,130)\"],[0.4,\"rgb(253,219,199)\"],[0.5,\"rgb(247,247,247)\"],[0.6,\"rgb(209,229,240)\"],[0.7,\"rgb(146,197,222)\"],[0.8,\"rgb(67,147,195)\"],[0.9,\"rgb(33,102,172)\"],[1.0,\"rgb(5,48,97)\"]],\"sequential\":[[0.0,\"#440154\"],[0.1111111111111111,\"#482878\"],[0.2222222222222222,\"#3e4989\"],[0.3333333333333333,\"#31688e\"],[0.4444444444444444,\"#26828e\"],[0.5555555555555556,\"#1f9e89\"],[0.6666666666666666,\"#35b779\"],[0.7777777777777778,\"#6ece58\"],[0.8888888888888888,\"#b5de2b\"],[1.0,\"#fde725\"]],\"sequentialminus\":[[0.0,\"#440154\"],[0.1111111111111111,\"#482878\"],[0.2222222222222222,\"#3e4989\"],[0.3333333333333333,\"#31688e\"],[0.4444444444444444,\"#26828e\"],[0.5555555555555556,\"#1f9e89\"],[0.6666666666666666,\"#35b779\"],[0.7777777777777778,\"#6ece58\"],[0.8888888888888888,\"#b5de2b\"],[1.0,\"#fde725\"]]},\"colorway\":[\"#1F77B4\",\"#FF7F0E\",\"#2CA02C\",\"#D62728\",\"#9467BD\",\"#8C564B\",\"#E377C2\",\"#7F7F7F\",\"#BCBD22\",\"#17BECF\"],\"font\":{\"color\":\"rgb(36,36,36)\"},\"geo\":{\"bgcolor\":\"white\",\"lakecolor\":\"white\",\"landcolor\":\"white\",\"showlakes\":true,\"showland\":true,\"subunitcolor\":\"white\"},\"hoverlabel\":{\"align\":\"left\"},\"hovermode\":\"closest\",\"mapbox\":{\"style\":\"light\"},\"paper_bgcolor\":\"white\",\"plot_bgcolor\":\"white\",\"polar\":{\"angularaxis\":{\"gridcolor\":\"rgb(232,232,232)\",\"linecolor\":\"rgb(36,36,36)\",\"showgrid\":false,\"showline\":true,\"ticks\":\"outside\"},\"bgcolor\":\"white\",\"radialaxis\":{\"gridcolor\":\"rgb(232,232,232)\",\"linecolor\":\"rgb(36,36,36)\",\"showgrid\":false,\"showline\":true,\"ticks\":\"outside\"}},\"scene\":{\"xaxis\":{\"backgroundcolor\":\"white\",\"gridcolor\":\"rgb(232,232,232)\",\"gridwidth\":2,\"linecolor\":\"rgb(36,36,36)\",\"showbackground\":true,\"showgrid\":false,\"showline\":true,\"ticks\":\"outside\",\"zeroline\":false,\"zerolinecolor\":\"rgb(36,36,36)\"},\"yaxis\":{\"backgroundcolor\":\"white\",\"gridcolor\":\"rgb(232,232,232)\",\"gridwidth\":2,\"linecolor\":\"rgb(36,36,36)\",\"showbackground\":true,\"showgrid\":false,\"showline\":true,\"ticks\":\"outside\",\"zeroline\":false,\"zerolinecolor\":\"rgb(36,36,36)\"},\"zaxis\":{\"backgroundcolor\":\"white\",\"gridcolor\":\"rgb(232,232,232)\",\"gridwidth\":2,\"linecolor\":\"rgb(36,36,36)\",\"showbackground\":true,\"showgrid\":false,\"showline\":true,\"ticks\":\"outside\",\"zeroline\":false,\"zerolinecolor\":\"rgb(36,36,36)\"}},\"shapedefaults\":{\"fillcolor\":\"black\",\"line\":{\"width\":0},\"opacity\":0.3},\"ternary\":{\"aaxis\":{\"gridcolor\":\"rgb(232,232,232)\",\"linecolor\":\"rgb(36,36,36)\",\"showgrid\":false,\"showline\":true,\"ticks\":\"outside\"},\"baxis\":{\"gridcolor\":\"rgb(232,232,232)\",\"linecolor\":\"rgb(36,36,36)\",\"showgrid\":false,\"showline\":true,\"ticks\":\"outside\"},\"bgcolor\":\"white\",\"caxis\":{\"gridcolor\":\"rgb(232,232,232)\",\"linecolor\":\"rgb(36,36,36)\",\"showgrid\":false,\"showline\":true,\"ticks\":\"outside\"}},\"title\":{\"x\":0.05},\"xaxis\":{\"automargin\":true,\"gridcolor\":\"rgb(232,232,232)\",\"linecolor\":\"rgb(36,36,36)\",\"showgrid\":false,\"showline\":true,\"ticks\":\"outside\",\"title\":{\"standoff\":15},\"zeroline\":false,\"zerolinecolor\":\"rgb(36,36,36)\"},\"yaxis\":{\"automargin\":true,\"gridcolor\":\"rgb(232,232,232)\",\"linecolor\":\"rgb(36,36,36)\",\"showgrid\":false,\"showline\":true,\"ticks\":\"outside\",\"title\":{\"standoff\":15},\"zeroline\":false,\"zerolinecolor\":\"rgb(36,36,36)\"}}},\"title\":{\"text\":\"Сomparison of the distribution density in Non Fiction and Fiction group\"},\"font\":{\"family\":\"Arial\",\"size\":12,\"color\":\"black\"}},                        {\"responsive\": true}                    ).then(function(){\n",
       "                            \n",
       "var gd = document.getElementById('765a0036-8842-4cec-b4ac-cc92bbb6a0aa');\n",
       "var x = new MutationObserver(function (mutations, observer) {{\n",
       "        var display = window.getComputedStyle(gd).display;\n",
       "        if (!display || display === 'none') {{\n",
       "            console.log([gd, 'removed!']);\n",
       "            Plotly.purge(gd);\n",
       "            observer.disconnect();\n",
       "        }}\n",
       "}});\n",
       "\n",
       "// Listen for the removal of the full notebook cells\n",
       "var notebookContainer = gd.closest('#notebook-container');\n",
       "if (notebookContainer) {{\n",
       "    x.observe(notebookContainer, {childList: true});\n",
       "}}\n",
       "\n",
       "// Listen for the clearing of the current output cell\n",
       "var outputEl = gd.closest('.output');\n",
       "if (outputEl) {{\n",
       "    x.observe(outputEl, {childList: true});\n",
       "}}\n",
       "\n",
       "                        })                };                });            </script>        </div>"
      ]
     },
     "metadata": {},
     "output_type": "display_data"
    }
   ],
   "source": [
    "# Create distplot with curve_type set to 'normal'\n",
    "den_dist = ff.create_distplot([non_fiction, fiction], \n",
    "                         ['Non Fiction', 'Fiction'], \n",
    "                         colors=['#aaa662', '#9a0eea',],\n",
    "                         bin_size=.1, \n",
    "                         show_rug=False)\n",
    "\n",
    "# Add title\n",
    "den_dist.update_layout(title_text='Сomparison of the distribution density in Non Fiction and Fiction group', \n",
    "                     template='simple_white',\n",
    "                     font=dict(family='Arial', size=12, color='black'))\n",
    "den_dist.show()"
   ]
  },
  {
   "cell_type": "markdown",
   "id": "e718864b",
   "metadata": {
    "papermill": {
     "duration": 0.024344,
     "end_time": "2022-11-09T16:25:12.825972",
     "exception": false,
     "start_time": "2022-11-09T16:25:12.801628",
     "status": "completed"
    },
    "tags": []
   },
   "source": [
    "<span style=\"font-size:16px; font-weight:bold\">✔️ INSIGHT:</span>\n",
    "<span style=\"font-size:16px;\">As a result of the testing, statistically significant differences were obtained between the compared groups. Based on the results obtained, it can be argued that users evaluate books differently depending on the genre, and based on the median values, readers give preference to works of fiction.</span>"
   ]
  },
  {
   "cell_type": "code",
   "execution_count": null,
   "id": "3f82f5e6",
   "metadata": {
    "papermill": {
     "duration": 0.023665,
     "end_time": "2022-11-09T16:25:12.874032",
     "exception": false,
     "start_time": "2022-11-09T16:25:12.850367",
     "status": "completed"
    },
    "tags": []
   },
   "outputs": [],
   "source": []
  }
 ],
 "metadata": {
  "kernelspec": {
   "display_name": "Python 3",
   "language": "python",
   "name": "python3"
  },
  "language_info": {
   "codemirror_mode": {
    "name": "ipython",
    "version": 3
   },
   "file_extension": ".py",
   "mimetype": "text/x-python",
   "name": "python",
   "nbconvert_exporter": "python",
   "pygments_lexer": "ipython3",
   "version": "3.7.12"
  },
  "papermill": {
   "default_parameters": {},
   "duration": 21.977303,
   "end_time": "2022-11-09T16:25:13.922840",
   "environment_variables": {},
   "exception": null,
   "input_path": "__notebook__.ipynb",
   "output_path": "__notebook__.ipynb",
   "parameters": {},
   "start_time": "2022-11-09T16:24:51.945537",
   "version": "2.3.4"
  }
 },
 "nbformat": 4,
 "nbformat_minor": 5
}
