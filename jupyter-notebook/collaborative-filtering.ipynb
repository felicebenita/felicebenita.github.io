{
 "cells": [
  {
   "cell_type": "markdown",
   "id": "37d59b96-d493-4103-8f02-4e8ba7f505af",
   "metadata": {},
   "source": [
    "# **Collaborative Filtering Recommendation System**"
   ]
  },
  {
   "cell_type": "code",
   "execution_count": 4,
   "id": "f110ce99-24c4-4109-a2ff-b7903be1be35",
   "metadata": {},
   "outputs": [],
   "source": [
    "# Import libraries\n",
    "import pandas as pd\n",
    "import numpy as np\n",
    "\n",
    "from scipy.sparse import csr_matrix\n",
    "from scipy.sparse.linalg import svds"
   ]
  },
  {
   "cell_type": "code",
   "execution_count": 3,
   "id": "29604961-4a5e-4683-bf97-74da271a5058",
   "metadata": {},
   "outputs": [],
   "source": [
    "import pandas as pd\n",
    "from random import randint\n",
    "\n",
    "def generate_data(n_books = 3000, n_genres = 10, n_authors = 450, n_publishers = 50, n_readers = 30000, dataset_size = 100000):\n",
    "    '''\n",
    "    This function will generate a dataset with features associated to\n",
    "    book data set. The dataset will have the following columns : \n",
    "        - book_id (String) : Unique identified for the book\n",
    "        - book_rating (Integer) : A value between 0 and 10\n",
    "        - reader_id (String) : Unique identifier for the user\n",
    "        - book_genre (Integer) : An integer representing a genre for the book, \n",
    "                                 value is between 1 and 15, indicating that \n",
    "                                 there are 15 unique genres. Each book can only\n",
    "                                 have 1 genre\n",
    "        - author_id (String) : Unique identifier for the author of the book\n",
    "        - num_pages (Integer) : Random value between 70 and 500\n",
    "        - publisher_id (String) : A unique identifier for the publisher of the book\n",
    "        - publish_year (Integer) : The year of book publishing\n",
    "        - book_price (Integer) : The sale price of the book\n",
    "        - text_lang (Integer) : The language of the book - returns an integer which \n",
    "                                is mapped to some language\n",
    "        \n",
    "    params:\n",
    "        n_books (Integer) : The number of books you want the dataset to have\n",
    "        n_genres (Integer) : Number of genres to be chosen from\n",
    "        n_authors (Integer) : Number of authors to be generated\n",
    "        n_publishers (Integer) : Number of publishers for the dataset\n",
    "        n_readers (Integer) : Number of readers for the dataset\n",
    "        dataset_size (Integer) : The number of rows to be generated \n",
    "        \n",
    "    example:\n",
    "        data = generate_data()\n",
    "    '''\n",
    "    \n",
    "    d = pd.DataFrame(\n",
    "        {\n",
    "            'book_id' : [randint(1, n_books) for _ in range(dataset_size)],\n",
    "            'author_id' : [randint(1, n_authors) for _ in range(dataset_size)],\n",
    "            'book_genre' : [randint(1, n_genres) for _ in range(dataset_size)],\n",
    "            'reader_id' : [randint(1, n_readers) for _ in range(dataset_size)],\n",
    "            'num_pages' : [randint(75, 700) for _ in range(dataset_size)],\n",
    "            'book_rating' : [randint(1, 10) for _ in range(dataset_size)],\n",
    "            'publisher_id' : [randint(1, n_publishers) for _ in range(dataset_size)],\n",
    "            'publish_year' : [randint(2000, 2021) for _ in range(dataset_size)],\n",
    "            'book_price' : [randint(1, 200) for _ in range(dataset_size)],\n",
    "            'text_lang' : [randint(1,7) for _ in range(dataset_size)]\n",
    "        }\n",
    "    ).drop_duplicates()\n",
    "    return d\n",
    "  \n",
    "d = generate_data(dataset_size = 100000)\n",
    "d.to_csv('D:/Pedoman/Porto Folios/Recommendation Systems/data.csv', index = False)"
   ]
  },
  {
   "cell_type": "code",
   "execution_count": 5,
   "id": "79ccc8a5-09be-4e06-936d-960a80b02a6c",
   "metadata": {},
   "outputs": [],
   "source": [
    "def normalize(pred_ratings):\n",
    "    '''\n",
    "    This function will normalize the input pred_ratings\n",
    "    \n",
    "    params:\n",
    "        pred_ratings (List -> List) : The prediction ratings \n",
    "    '''\n",
    "    return (pred_ratings - pred_ratings.min()) / (pred_ratings.max() - pred_ratings.min())"
   ]
  },
  {
   "cell_type": "code",
   "execution_count": 6,
   "id": "942b39ed-dfd4-45a2-a370-131f9a526ec0",
   "metadata": {},
   "outputs": [],
   "source": [
    "def generate_prediction_df(mat, pt_df, n_factors):\n",
    "    '''\n",
    "    This function will calculate the single value decomposition of the input matrix\n",
    "    given n_factors. It will then generate and normalize the user rating predictions.\n",
    "    \n",
    "    params:\n",
    "        mat (CSR Matrix) : scipy csr matrix corresponding to the pivot table (pt_df)\n",
    "        pt_df (DataFrame) : pandas dataframe which is a pivot table\n",
    "        n_factors (Integer) : Number of singular values and vectors to compute. \n",
    "                              Must be 1 <= n_factors < min(mat.shape). \n",
    "    '''\n",
    "    \n",
    "    if not 1 <= n_factors < min(mat.shape):\n",
    "        raise ValueError(\"Must be 1 <= n_factors < min(mat.shape)\")\n",
    "        \n",
    "    # matrix factorization\n",
    "    u, s, v = svds(mat, k = n_factors)\n",
    "    s = np.diag(s)\n",
    "\n",
    "    # calculate pred ratings\n",
    "    pred_ratings = np.dot(np.dot(u, s), v) \n",
    "    pred_ratings = normalize(pred_ratings)\n",
    "    \n",
    "    # convert to df\n",
    "    pred_df = pd.DataFrame(\n",
    "        pred_ratings,\n",
    "        columns = pt_df.columns,\n",
    "        index = list(pt_df.index)\n",
    "    ).transpose()\n",
    "    return pred_df"
   ]
  },
  {
   "cell_type": "code",
   "execution_count": 7,
   "id": "b46b2359-6dae-4a93-8b09-fd82c3bc1d2e",
   "metadata": {},
   "outputs": [],
   "source": [
    "def recommend_items(pred_df, usr_id, n_recs):\n",
    "    '''\n",
    "    Given a usr_id and pred_df this function will recommend\n",
    "    items to the user.\n",
    "    \n",
    "    params:\n",
    "        pred_df (DataFrame) : generated from `generate_prediction_df` function\n",
    "        usr_id (Integer) : The user you wish to get item recommendations for\n",
    "        n_recs (Integer) : The number of recommendations you want for this user\n",
    "    '''\n",
    "    \n",
    "    usr_pred = pred_df[usr_id].sort_values(ascending = False).reset_index().rename(columns = {usr_id : 'sim'})\n",
    "    rec_df = usr_pred.sort_values(by = 'sim', ascending = False).head(n_recs)\n",
    "    return rec_df"
   ]
  },
  {
   "cell_type": "code",
   "execution_count": 11,
   "id": "c12e9eef-204d-412f-9517-ec784340e712",
   "metadata": {},
   "outputs": [
    {
     "name": "stdout",
     "output_type": "stream",
     "text": [
      "(100000, 10)\n"
     ]
    }
   ],
   "source": [
    "# constants\n",
    "PATH = 'D:/Pedoman/Porto Folios/Recommendation Systems/data.csv'\n",
    "\n",
    "# import data\n",
    "df = pd.read_csv(PATH)\n",
    "print(df.shape)"
   ]
  },
  {
   "cell_type": "code",
   "execution_count": 12,
   "id": "2e4d9b31-06ec-4fc1-a8be-c26f4507f02f",
   "metadata": {},
   "outputs": [
    {
     "name": "stdout",
     "output_type": "stream",
     "text": [
      "   book_id       sim\n",
      "0     2847  0.163344\n",
      "1      498  0.154431\n",
      "2      768  0.152788\n",
      "3     1976  0.152718\n",
      "4      958  0.152431\n"
     ]
    }
   ],
   "source": [
    "# generate a pivot table with readers on the index and books on the column and values being the ratings\n",
    "pt_df = df.pivot_table(\n",
    "    columns = 'book_id',\n",
    "    index = 'reader_id',\n",
    "    values = 'book_rating'\n",
    ").fillna(0)\n",
    "\n",
    "# convert to a csr matrix\n",
    "mat = pt_df.values\n",
    "mat = csr_matrix(mat)\n",
    "\n",
    "pred_df = generate_prediction_df(mat, pt_df, 10)\n",
    "\n",
    "# generate recommendations\n",
    "print(recommend_items(pred_df, 5, 5))"
   ]
  }
 ],
 "metadata": {
  "kernelspec": {
   "display_name": "Python 3 (ipykernel)",
   "language": "python",
   "name": "python3"
  },
  "language_info": {
   "codemirror_mode": {
    "name": "ipython",
    "version": 3
   },
   "file_extension": ".py",
   "mimetype": "text/x-python",
   "name": "python",
   "nbconvert_exporter": "python",
   "pygments_lexer": "ipython3",
   "version": "3.10.8"
  }
 },
 "nbformat": 4,
 "nbformat_minor": 5
}
